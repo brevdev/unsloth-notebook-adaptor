{
 "cells": [
  {
   "cell_type": "markdown",
   "id": "c5dc6a10",
   "metadata": {},
   "source": [
    "# 🤙 Qwen3-VL (8B) on NVIDIA Brev\n",
    "\n",
    "<div style=\"background: linear-gradient(90deg, #00ff87 0%, #60efff 100%); padding: 1px; border-radius: 8px; margin: 20px 0;\">\n",
    "    <div style=\"background: #0a0a0a; padding: 20px; border-radius: 7px;\">\n",
    "        <p style=\"color: #60efff; margin: 0;\"><strong>⚡ Powered by Brev</strong> | Converted from <a href=\"https://github.com/unslothai/notebooks/blob/main/nb/Qwen3-VL_(8B).ipynb\" style=\"color: #00ff87;\">Unsloth Notebook</a></p>\n",
    "    </div>\n",
    "</div>\n",
    "\n",
    "## 📋 Configuration\n",
    "\n",
    "<table style=\"width: auto; margin-left: 0; border-collapse: collapse; border: 2px solid #808080;\">\n",
    "    <thead>\n",
    "        <tr style=\"border-bottom: 2px solid #808080;\">\n",
    "            <th style=\"text-align: left; padding: 8px 12px; border-right: 2px solid #808080; font-weight: bold;\">Parameter</th>\n",
    "            <th style=\"text-align: left; padding: 8px 12px; font-weight: bold;\">Value</th>\n",
    "        </tr>\n",
    "    </thead>\n",
    "    <tbody>\n",
    "        <tr>\n",
    "            <td style=\"text-align: left; padding: 8px 12px; border-right: 1px solid #808080;\"><strong>Model</strong></td>\n",
    "            <td style=\"text-align: left; padding: 8px 12px;\">Qwen3-VL (8B)</td>\n",
    "        </tr>\n",
    "        <tr>\n",
    "            <td style=\"text-align: left; padding: 8px 12px; border-right: 1px solid #808080;\"><strong>Recommended GPU</strong></td>\n",
    "            <td style=\"text-align: left; padding: 8px 12px;\">A100-40GB</td>\n",
    "        </tr>\n",
    "        <tr>\n",
    "            <td style=\"text-align: left; padding: 8px 12px; border-right: 1px solid #808080;\"><strong>Min VRAM</strong></td>\n",
    "            <td style=\"text-align: left; padding: 8px 12px;\">24 GB</td>\n",
    "        </tr>\n",
    "        <tr>\n",
    "            <td style=\"text-align: left; padding: 8px 12px; border-right: 1px solid #808080;\"><strong>Batch Size</strong></td>\n",
    "            <td style=\"text-align: left; padding: 8px 12px;\">2</td>\n",
    "        </tr>\n",
    "        <tr>\n",
    "            <td style=\"text-align: left; padding: 8px 12px; border-right: 1px solid #808080;\"><strong>Categories</strong></td>\n",
    "            <td style=\"text-align: left; padding: 8px 12px;\">vision, multimodal, fine-tuning</td>\n",
    "        </tr>\n",
    "    </tbody>\n",
    "</table>\n",
    "\n",
    "## 🔧 Key Adaptations for Brev\n",
    "\n",
    "- ✅ Replaced Colab-specific installation with conda-based Unsloth\n",
    "- ✅ Converted magic commands to subprocess calls\n",
    "- ✅ Removed Google Drive dependencies\n",
    "- ✅ Updated paths from `/workspace/` to `/workspace/`\n",
    "- ✅ Added `device_map=\"auto\"` for multi-GPU support\n",
    "- ✅ Optimized batch sizes for NVIDIA GPUs\n",
    "\n",
    "## 📚 Resources\n",
    "\n",
    "- [Unsloth Documentation](https://docs.unsloth.ai/)\n",
    "- [Brev Documentation](https://docs.nvidia.com/brev)\n",
    "- [Original Notebook](https://github.com/unslothai/notebooks/blob/main/nb/Qwen3-VL_(8B).ipynb)\n"
   ]
  },
  {
   "cell_type": "markdown",
   "metadata": {},
   "source": [
    "\n",
    "<div class=\"align-center\"><a href=\"https://huggingface.co/learn/nlp-course/en/chapter12/6?fw=pt\"><img src=\"https://github.com/unslothai/notebooks/raw/main/assets/hf%20course.png\" width=\"165\"></a>\n",
    "<a href=\"https://unsloth.ai/\"><img src=\"https://github.com/unslothai/unsloth/raw/main/images/unsloth%20new%20logo.png\" width=\"115\"></a>\n",
    "<a href=\"https://discord.gg/unsloth\"><img src=\"https://github.com/unslothai/unsloth/raw/main/images/Discord button.png\" width=\"145\"></a>\n",
    "<a href=\"https://docs.unsloth.ai/\"><img src=\"https://github.com/unslothai/unsloth/blob/main/images/documentation%20green%20button.png?raw=true\" width=\"125\"></a></a> Join Discord if you need help + ⭐ <i>Star us on <a href=\"https://github.com/unslothai/unsloth\">Github</a> </i> ⭐\n",
    "</div>\n",
    "\n",
    "In this [Hugging Face](https://huggingface.co/learn/nlp-course/en/chapter12/6?fw=pt) and Unsloth notebook, you will learn to transform Qwen3 VL (8B) Vision GRPO into a Reasoning model using GRPO.\n",
    "\n",
    "To install Unsloth your local device, follow [our guide](https://docs.unsloth.ai/get-started/install-and-update). This notebook is licensed [LGPL-3.0](https://github.com/unslothai/notebooks?tab=LGPL-3.0-1-ov-file#readme).\n",
    "\n",
    "You will learn how to do [data prep](#Data), how to [train](#Train), how to [run the model](#Inference), & [how to save it](#Save)\n"
   ]
  },
  {
   "cell_type": "markdown",
   "metadata": {},
   "source": [
    "### News"
   ]
  },
  {
   "cell_type": "markdown",
   "metadata": {},
   "source": [
    "\n",
    "Unsloth's [Docker image](https://hub.docker.com/r/unsloth/unsloth) is here! Start training with no setup & environment issues. [Read our Guide](https://docs.unsloth.ai/new/how-to-train-llms-with-unsloth-and-docker).\n",
    "\n",
    "[gpt-oss RL](https://docs.unsloth.ai/new/gpt-oss-reinforcement-learning) is now supported with the fastest inference & lowest VRAM. Try our [new notebook](https://github.com/unslothai/notebooks/blob/main/nb/gpt-oss-(20B)-GRPO.ipynb) which creates kernels!\n",
    "\n",
    "Introducing [Vision](https://docs.unsloth.ai/new/vision-reinforcement-learning-vlm-rl) and [Standby](https://docs.unsloth.ai/basics/memory-efficient-rl) for RL! Train Qwen, Gemma etc. VLMs with GSPO - even faster with less VRAM.\n",
    "\n",
    "Unsloth now supports Text-to-Speech (TTS) models. Read our [guide here](https://docs.unsloth.ai/basics/text-to-speech-tts-fine-tuning).\n",
    "\n",
    "Visit our docs for all our [model uploads](https://docs.unsloth.ai/get-started/all-our-models) and [notebooks](https://docs.unsloth.ai/get-started/unsloth-notebooks).\n"
   ]
  },
  {
   "cell_type": "markdown",
   "metadata": {},
   "source": [
    "### Installation"
   ]
  },
  {
   "cell_type": "code",
   "execution_count": null,
   "metadata": {},
   "outputs": [],
   "source": [
    "# Environment Check for Brev\n",
    "import sys\n",
    "import os\n",
    "import shutil\n",
    "\n",
    "print(f\"Python executable: {sys.executable}\")\n",
    "print(f\"Python version: {sys.version}\")\n",
    "\n",
    "# Configure PyTorch cache directories to avoid permission errors\n",
    "# MUST be set before any torch imports\n",
    "# Prefer /ephemeral for Brev instances (larger scratch space)\n",
    "\n",
    "# Test if /ephemeral exists and is actually writable (not just readable)\n",
    "use_ephemeral = False\n",
    "if os.path.exists(\"/ephemeral\"):\n",
    "    try:\n",
    "        test_file = \"/ephemeral/.write_test\"\n",
    "        with open(test_file, \"w\") as f:\n",
    "            f.write(\"test\")\n",
    "        os.remove(test_file)\n",
    "        use_ephemeral = True\n",
    "    except (PermissionError, OSError):\n",
    "        pass\n",
    "\n",
    "if use_ephemeral:\n",
    "    cache_base = \"/ephemeral/torch_cache\"\n",
    "    triton_cache = \"/ephemeral/triton_cache\"\n",
    "    tmpdir = \"/ephemeral/tmp\"\n",
    "    print(\"Using /ephemeral for cache (Brev scratch space)\")\n",
    "else:\n",
    "    cache_base = os.path.expanduser(\"~/.cache/torch/inductor\")\n",
    "    triton_cache = os.path.expanduser(\"~/.cache/triton\")\n",
    "    tmpdir = os.path.expanduser(\"~/.cache/tmp\")\n",
    "    print(\"Using home directory for cache\")\n",
    "\n",
    "# Set ALL PyTorch/Triton cache and temp directories\n",
    "os.environ[\"TORCHINDUCTOR_CACHE_DIR\"] = cache_base\n",
    "os.environ[\"TORCH_COMPILE_DIR\"] = cache_base\n",
    "os.environ[\"TRITON_CACHE_DIR\"] = triton_cache\n",
    "os.environ[\"XDG_CACHE_HOME\"] = os.path.expanduser(\"~/.cache\")\n",
    "os.environ[\"TMPDIR\"] = tmpdir  # Override system /tmp\n",
    "os.environ[\"TEMP\"] = tmpdir\n",
    "os.environ[\"TMP\"] = tmpdir\n",
    "\n",
    "# Create cache directories with proper permissions (777 to ensure writability)\n",
    "for cache_dir in [cache_base, triton_cache, tmpdir, os.environ[\"XDG_CACHE_HOME\"]]:\n",
    "    os.makedirs(cache_dir, mode=0o777, exist_ok=True)\n",
    "\n",
    "# Clean up any old compiled caches that point to /tmp\n",
    "old_cache = os.path.join(os.getcwd(), \"unsloth_compiled_cache\")\n",
    "if os.path.exists(old_cache):\n",
    "    print(f\"⚠️  Removing old compiled cache: {old_cache}\")\n",
    "    shutil.rmtree(old_cache, ignore_errors=True)\n",
    "\n",
    "print(f\"✅ PyTorch cache: {cache_base}\")\n",
    "\n",
    "try:\n",
    "    from unsloth import FastLanguageModel\n",
    "    import transformers\n",
    "    print(\"\\n✅ Unsloth already available\")\n",
    "    print(f\"   Unsloth: {FastLanguageModel.__module__}\")\n",
    "    print(f\"   Transformers: {transformers.__version__}\")\n",
    "    \n",
    "    # Check if we need to upgrade/downgrade transformers\n",
    "    import pkg_resources\n",
    "    try:\n",
    "        current_transformers = pkg_resources.get_distribution(\"transformers\").version\n",
    "        if current_transformers != \"4.56.2\":\n",
    "            print(f\"   ⚠️  Transformers {current_transformers} != 4.56.2, may need adjustment\")\n",
    "    except:\n",
    "        pass\n",
    "    \n",
    "    print(\"   ✅ All packages OK, skipping installation\")\n",
    "except ImportError:\n",
    "    print(\"\\n⚠️  Unsloth not found - installing required packages...\")\n",
    "    import subprocess\n",
    "    \n",
    "    # Find uv in common locations\n",
    "    uv_paths = [\n",
    "        \"uv\",  # In PATH\n",
    "        os.path.expanduser(\"~/.venv/bin/uv\"),\n",
    "        os.path.expanduser(\"~/.cargo/bin/uv\"),\n",
    "        \"/usr/local/bin/uv\"\n",
    "    ]\n",
    "    \n",
    "    uv_cmd = None\n",
    "    for path in uv_paths:\n",
    "        try:\n",
    "            result = subprocess.run([path, \"--version\"], capture_output=True, timeout=2)\n",
    "            if result.returncode == 0:\n",
    "                uv_cmd = path\n",
    "                print(f\"   Found uv at: {path}\")\n",
    "                break\n",
    "        except (FileNotFoundError, subprocess.TimeoutExpired):\n",
    "            continue\n",
    "    \n",
    "    print(f\"\\nInstalling packages into: {sys.executable}\")\n",
    "    \n",
    "    if uv_cmd:\n",
    "        print(\"Using uv package manager...\\n\")\n",
    "        try:\n",
    "            subprocess.check_call([uv_cmd, \"pip\", \"install\", \"unsloth\"])\n",
    "            subprocess.check_call([uv_cmd, \"pip\", \"install\", \"transformers==4.56.2\"])\n",
    "            subprocess.check_call([uv_cmd, \"pip\", \"install\", \"--no-deps\", \"trl==0.22.2\"])\n",
    "            print(\"\\n✅ Installation complete\")\n",
    "        except subprocess.CalledProcessError as e:\n",
    "            print(f\"⚠️  uv install failed: {e}\")\n",
    "            uv_cmd = None  # Fall back to pip\n",
    "    \n",
    "    if not uv_cmd:\n",
    "        print(\"Using pip package manager...\\n\")\n",
    "        try:\n",
    "            # Ensure pip is available\n",
    "            subprocess.run([sys.executable, \"-m\", \"ensurepip\", \"--upgrade\"], \n",
    "                         capture_output=True, timeout=30)\n",
    "            # Install packages\n",
    "            subprocess.check_call([sys.executable, \"-m\", \"pip\", \"install\", \"-q\", \"unsloth\"])\n",
    "            subprocess.check_call([sys.executable, \"-m\", \"pip\", \"install\", \"-q\", \"transformers==4.56.2\"])\n",
    "            subprocess.check_call([sys.executable, \"-m\", \"pip\", \"install\", \"-q\", \"--no-deps\", \"trl==0.22.2\"])\n",
    "            print(\"\\n✅ Installation complete\")\n",
    "        except subprocess.CalledProcessError as e:\n",
    "            print(f\"❌ Installation failed: {e}\")\n",
    "            print(\"   This may be due to permission issues.\")\n",
    "            print(\"   Packages may already be installed - attempting to continue...\")\n",
    "    \n",
    "    # Verify installation\n",
    "    try:\n",
    "        from unsloth import FastLanguageModel\n",
    "        print(\"✅ Unsloth is now available\")\n",
    "    except ImportError as e:\n",
    "        print(f\"❌ Unsloth still not available: {e}\")\n",
    "        print(\"⚠️  Please check setup script ran successfully or restart instance\")"
   ]
  },
  {
   "cell_type": "code",
   "execution_count": null,
   "metadata": {},
   "outputs": [],
   "source": [
    "# Environment Check for Brev\n",
    "import sys\n",
    "import os\n",
    "import shutil\n",
    "\n",
    "print(f\"Python executable: {sys.executable}\")\n",
    "print(f\"Python version: {sys.version}\")\n",
    "\n",
    "# Configure PyTorch cache directories to avoid permission errors\n",
    "# MUST be set before any torch imports\n",
    "# Prefer /ephemeral for Brev instances (larger scratch space)\n",
    "\n",
    "# Test if /ephemeral exists and is actually writable (not just readable)\n",
    "use_ephemeral = False\n",
    "if os.path.exists(\"/ephemeral\"):\n",
    "    try:\n",
    "        test_file = \"/ephemeral/.write_test\"\n",
    "        with open(test_file, \"w\") as f:\n",
    "            f.write(\"test\")\n",
    "        os.remove(test_file)\n",
    "        use_ephemeral = True\n",
    "    except (PermissionError, OSError):\n",
    "        pass\n",
    "\n",
    "if use_ephemeral:\n",
    "    cache_base = \"/ephemeral/torch_cache\"\n",
    "    triton_cache = \"/ephemeral/triton_cache\"\n",
    "    tmpdir = \"/ephemeral/tmp\"\n",
    "    print(\"Using /ephemeral for cache (Brev scratch space)\")\n",
    "else:\n",
    "    cache_base = os.path.expanduser(\"~/.cache/torch/inductor\")\n",
    "    triton_cache = os.path.expanduser(\"~/.cache/triton\")\n",
    "    tmpdir = os.path.expanduser(\"~/.cache/tmp\")\n",
    "    print(\"Using home directory for cache\")\n",
    "\n",
    "# Set ALL PyTorch/Triton cache and temp directories\n",
    "os.environ[\"TORCHINDUCTOR_CACHE_DIR\"] = cache_base\n",
    "os.environ[\"TORCH_COMPILE_DIR\"] = cache_base\n",
    "os.environ[\"TRITON_CACHE_DIR\"] = triton_cache\n",
    "os.environ[\"XDG_CACHE_HOME\"] = os.path.expanduser(\"~/.cache\")\n",
    "os.environ[\"TMPDIR\"] = tmpdir  # Override system /tmp\n",
    "os.environ[\"TEMP\"] = tmpdir\n",
    "os.environ[\"TMP\"] = tmpdir\n",
    "\n",
    "# Create cache directories with proper permissions (777 to ensure writability)\n",
    "for cache_dir in [cache_base, triton_cache, tmpdir, os.environ[\"XDG_CACHE_HOME\"]]:\n",
    "    os.makedirs(cache_dir, mode=0o777, exist_ok=True)\n",
    "\n",
    "# Clean up any old compiled caches that point to /tmp\n",
    "old_cache = os.path.join(os.getcwd(), \"unsloth_compiled_cache\")\n",
    "if os.path.exists(old_cache):\n",
    "    print(f\"⚠️  Removing old compiled cache: {old_cache}\")\n",
    "    shutil.rmtree(old_cache, ignore_errors=True)\n",
    "\n",
    "print(f\"✅ PyTorch cache: {cache_base}\")\n",
    "\n",
    "try:\n",
    "    from unsloth import FastLanguageModel\n",
    "    import transformers\n",
    "    print(\"\\n✅ Unsloth already available\")\n",
    "    print(f\"   Unsloth: {FastLanguageModel.__module__}\")\n",
    "    print(f\"   Transformers: {transformers.__version__}\")\n",
    "    \n",
    "    # Check if we need to upgrade/downgrade transformers\n",
    "    import pkg_resources\n",
    "    try:\n",
    "        current_transformers = pkg_resources.get_distribution(\"transformers\").version\n",
    "        if current_transformers != \"4.56.2\":\n",
    "            print(f\"   ⚠️  Transformers {current_transformers} != 4.56.2, may need adjustment\")\n",
    "    except:\n",
    "        pass\n",
    "    \n",
    "    print(\"   ✅ All packages OK, skipping installation\")\n",
    "except ImportError:\n",
    "    print(\"\\n⚠️  Unsloth not found - installing required packages...\")\n",
    "    import subprocess\n",
    "    \n",
    "    # Find uv in common locations\n",
    "    uv_paths = [\n",
    "        \"uv\",  # In PATH\n",
    "        os.path.expanduser(\"~/.venv/bin/uv\"),\n",
    "        os.path.expanduser(\"~/.cargo/bin/uv\"),\n",
    "        \"/usr/local/bin/uv\"\n",
    "    ]\n",
    "    \n",
    "    uv_cmd = None\n",
    "    for path in uv_paths:\n",
    "        try:\n",
    "            result = subprocess.run([path, \"--version\"], capture_output=True, timeout=2)\n",
    "            if result.returncode == 0:\n",
    "                uv_cmd = path\n",
    "                print(f\"   Found uv at: {path}\")\n",
    "                break\n",
    "        except (FileNotFoundError, subprocess.TimeoutExpired):\n",
    "            continue\n",
    "    \n",
    "    print(f\"\\nInstalling packages into: {sys.executable}\")\n",
    "    \n",
    "    if uv_cmd:\n",
    "        print(\"Using uv package manager...\\n\")\n",
    "        try:\n",
    "            subprocess.check_call([uv_cmd, \"pip\", \"install\", \"unsloth\"])\n",
    "            subprocess.check_call([uv_cmd, \"pip\", \"install\", \"transformers==4.56.2\"])\n",
    "            subprocess.check_call([uv_cmd, \"pip\", \"install\", \"--no-deps\", \"trl==0.22.2\"])\n",
    "            print(\"\\n✅ Installation complete\")\n",
    "        except subprocess.CalledProcessError as e:\n",
    "            print(f\"⚠️  uv install failed: {e}\")\n",
    "            uv_cmd = None  # Fall back to pip\n",
    "    \n",
    "    if not uv_cmd:\n",
    "        print(\"Using pip package manager...\\n\")\n",
    "        try:\n",
    "            # Ensure pip is available\n",
    "            subprocess.run([sys.executable, \"-m\", \"ensurepip\", \"--upgrade\"], \n",
    "                         capture_output=True, timeout=30)\n",
    "            # Install packages\n",
    "            subprocess.check_call([sys.executable, \"-m\", \"pip\", \"install\", \"-q\", \"unsloth\"])\n",
    "            subprocess.check_call([sys.executable, \"-m\", \"pip\", \"install\", \"-q\", \"transformers==4.56.2\"])\n",
    "            subprocess.check_call([sys.executable, \"-m\", \"pip\", \"install\", \"-q\", \"--no-deps\", \"trl==0.22.2\"])\n",
    "            print(\"\\n✅ Installation complete\")\n",
    "        except subprocess.CalledProcessError as e:\n",
    "            print(f\"❌ Installation failed: {e}\")\n",
    "            print(\"   This may be due to permission issues.\")\n",
    "            print(\"   Packages may already be installed - attempting to continue...\")\n",
    "    \n",
    "    # Verify installation\n",
    "    try:\n",
    "        from unsloth import FastLanguageModel\n",
    "        print(\"✅ Unsloth is now available\")\n",
    "    except ImportError as e:\n",
    "        print(f\"❌ Unsloth still not available: {e}\")\n",
    "        print(\"⚠️  Please check setup script ran successfully or restart instance\")"
   ]
  },
  {
   "cell_type": "markdown",
   "metadata": {
    "id": "VIy3QkjW1O4R"
   },
   "source": [
    "### Unsloth"
   ]
  },
  {
   "cell_type": "markdown",
   "metadata": {
    "id": "-B3HIT0t6nc0"
   },
   "source": [
    "We're also introducing how you can do `GSPO` inside of Unsloth as well!\n",
    "\n",
    "The goal of this notebook is to make a vision language model solve maths problems via reinforcement learning given an image input like below:\n",
    "\n",
    "<img src=\"https://raw.githubusercontent.com/lupantech/MathVista/main/assets/our_new_3_datasets.png\" alt=\"Alt text\" height=\"256\">"
   ]
  },
  {
   "cell_type": "markdown",
   "metadata": {
    "id": "0cI_m3OJWja8"
   },
   "source": []
  },
  {
   "cell_type": "code",
   "execution_count": null,
   "metadata": {
    "colab": {
     "base_uri": "https://localhost:8080/",
     "height": 760,
     "referenced_widgets": [
      "82e8167c0ba44e258a81486ac638d23c",
      "3d2cff6d04364faca3ce3ec90b132468",
      "4ee53adba3da4bb39f0c4c2f784fe531",
      "61c545cea5bb42b392cc26c469c76333",
      "b5b056d79aa7495a8b3d1b1748ceba75",
      "430feefcbe124e849756e8248a64ea87",
      "561a9951289b4200955f044ec6200390",
      "7967a5b4d2e44ba597c0790867e62dec",
      "c0b1742e75ae4a90ad9bcaa4b464e2b7",
      "af1905c3d1ad4892b656c443f27edcf6",
      "5d7676a1b65b44ee9695a4b72705c460",
      "99bd13400fb9445aa38a649911ff6a17",
      "b6f96f1ecb17402cb3684bdd1690b157",
      "2b06371e8fcd4e8bb050030c32a77313",
      "4ebf157c94014639afff0a7c1fa4b391",
      "f271dd741dbe4b30a34f211a0eebf3b2",
      "84667683762f4857b9920e4c30a30b86",
      "bed47d9cf0e64446939cc06846bb506c",
      "c3225a89f46544139c5c3f33552d365a",
      "e8aa0f920a8f448796e2d8e52eabf322",
      "a53b9bed593548ffa50e9adcff0bbf11",
      "d72b5601e7db4e89a561b991237e7f34",
      "f0640356889a46a7aea2c64a7bc4307b",
      "f115d3d58148452b94d2180805f7b5d9",
      "50fd789fc74b4d8c8243efb03e6782b7",
      "fb3467762cf14f4ebcfc38343897eb93",
      "3f117afe930d435aad8cd07899c37ee1",
      "9fad3e1b9ede4a28b352f35ab033011d",
      "abbd12a2b9d54cc1aea9f891c67e059e",
      "3a2d5acbd43b445ba162ff4fcda38cc7",
      "4584b2a85609431e92903d95bb42764f",
      "73a496d28a804198a68538c7506e7569",
      "31a33725048d4cbfab55c5ceaba362ae",
      "c12ba2c232f840c6a94010bd4fb6f7be",
      "12b4f2536c7d4e0dbde5b67bdecce91e",
      "7253701e3b0d42ab9eee9a4823754752",
      "0deb9f65ff1f42ac87a71df138e99135",
      "b754f5ec896b4ba19ddc6628aa947656",
      "86469911ab6f4584832d31ea72334f6f",
      "f481fe013c5f499f9f44d0c3d803a013",
      "19c7535a3bb9405983891031bcba5286",
      "d6e40447f21d4cc997fa80c32e41c9f3",
      "1130d58698384513b016c49275d58ebe",
      "65a3333428084b46b0b52f79440f5bb3",
      "1a13d21c93a8472eb124d41f9cfc370a",
      "e015ba9600ff47f38260b3dabe876608",
      "b7b11cf9216b420ca19f935f71f5d809",
      "6309cb26afc64507bc17de1925d91abf",
      "36a3ad16490a4b59b831707d66dc980b",
      "e8622e55076c43319e9428364e91a930",
      "1ab3f6f7f37e48d78a4e4ee513d567fc",
      "d4d8151981fc4417b353d467b2e9c64d",
      "f4a16a5f52744ddea4d77b524fea8ec2",
      "afaf5a1f961c465f8ac201679ca0c679",
      "d44c19c6b9a14b6ba13dd2cef47049bc",
      "068e353474044af2b6f00b01cac0db95",
      "f735a4de0036431eb4bd3be8fde55a36",
      "cd94bfd910b0490f941de289e9d57089",
      "e3c4f860fdf54f6785ba754388222bee",
      "0901e19d2a734714a95fcbd5d0aae9e0",
      "2e03b24d66344ee78e26eff85ccb1091",
      "459bc68337444f4497690031eb6f0fbc",
      "766a62b94d394f67a99663e7a333d543",
      "ee823ddf800c4b4b91814ed170b540a5",
      "25084709b9ac47dab268289aca3ed86d",
      "b82a915dc47644169ea110b0b55fe9ff",
      "1c3f443afcbc4e9ca262e704120a096d",
      "dc9e0a9e8ed243fe878cddac56cd5edf",
      "a13909797c544bb0a74007063ae38720",
      "edf75e40862f4e4187c323c2e17694c9",
      "766d36b649ab489997360b8716777d0b",
      "42c7d79ca71c403b9412cee356079fe4",
      "69e847f4885b4fdfb0038361343f007c",
      "3ede2c58b6da4fb8ab8f0d4d4a18cfb8",
      "42e26ee478064048b6ef2d77e6cc8f8f",
      "25c06687d39b4db5aa1f74f4c372883b",
      "f965c45cc1fa45eea8178842a6ac1f53",
      "bcbed4b2b4d5478988463d38e92869fb",
      "d312a0887239426da52b68dddda39c82",
      "2cef6e19b45e409abd75276c2716982c",
      "68f3832066674abfaca3e209b63360ad",
      "cbd77faa8f054a368e55dd7a2dc119fe",
      "84504e059bf14ff8b6554f616780e5ef",
      "dc10643af6324ca5b5939c9438bd684c",
      "834f5cb28c4f4e2eb72db091ea6d3fac",
      "e66dafb25e0a4dc9a5440dc6a6488ba4",
      "35c8efa27b004070b6238470292f8138",
      "83a7f69569d24a768a64a11fa60e2db7",
      "f49429f266d7449c913c81c535b13e46",
      "44573782135a49fc92d07633ba7def17",
      "158068f1149c476ea0703b318d96dcfd",
      "bfcdfcd3f81e4ab39e56b11651d075f7",
      "6a2d4bf9f21141d18a0e06d9e8017a7f",
      "6898f8d0748d468d9e57005928fd310d",
      "51905395a651433ab5f2264b9d31b311",
      "f6806abf77204c0da0181edb916b52e4",
      "a878e113a63744708cbfd509428781a6",
      "09e0efaba6084e848707d680b17dd520",
      "1a8bb037392743ab873abbbc69ad1cdc",
      "ec4ac556ce744d40acd1f7d33617caf8",
      "96efbfdbbe1a4bc2978c4317d3388d6e",
      "ebffad984e8347cb9b1e0ba425c5d354",
      "68f34bed8848445d8a5741e2522f60b9",
      "bc705a1891a341bd916e929223d8018a",
      "51e3df58c2f74025b60c620b9aca34e1",
      "d11aef70923044f8b93d04d80be881f2",
      "adfeb75884974724839bb76989db79f4",
      "540539ca493f42e8af9abfe25fa4e6aa",
      "d8c08426a7b54579b13fd251a4bcde20",
      "1c708854cc9849ed94cc66394afa3a19",
      "31cd859120d3482ea884ceb319fbe9b0",
      "a9715c75774a4e548cd5b93cab5f38ff",
      "4192193ed4fd4ffd912b1bc8fcc34ee1",
      "f6c56d0085874a15a2f66bf3f28f7b8b",
      "33126e658d0445aeb9f49f448a8f604a",
      "3884f8c324594246ada75d82645ac0a7",
      "657a3af25e87442ba22bc9fb50347e39",
      "79c2f32c8dc749168ea1852527900d21",
      "01826650e3bf440f883c293e71f0967b",
      "87f02fede4e34e8cbe323d261180f863",
      "174401bb183d487b8fa1af50fdee03ec",
      "1e5675b426bf4b53a55c9d68334c1d3c",
      "6aeaea660cdb49ed808d85126901dae9",
      "853f5a3a394f4f8cbaa9f4928a0e69eb",
      "b723660dcf544e4f963c8ca68c41ce43",
      "f4c00ca151754267aa405a8b4da2d567",
      "a9f5ee2c0e67406488b81b00e8fcd6d7",
      "50a7c75db794422db59196d4c17b9e7f",
      "a3fa0aac917a4faeaf577ce811bd731d",
      "0ad1fceb06b14556b8de81b99496fce0",
      "9d72df9bf6d849d4a3c90908446b5f3d",
      "52d5e9fb87bc424cb46ce271c5680b96",
      "363e4f3923594fcc82cf3cb5dd70b16f",
      "93a19205532147bea5dbbf6979bd2e4c",
      "39dbc5ce14084a2fbd5a6a3bf6c0d256",
      "c3b168e709fa469eb2dea179f9bc4b5e",
      "ca7f65f70f8840f4bda1000f52cb8534",
      "514ed51fe24c40078a5eafedd720251e",
      "788f6213e8fc445f927703f3eff2d60b",
      "198c73ef8b8d4235a28901e5a8fb142c",
      "7c126b284a0b457e816de340df78c3fb",
      "e11db9c4146342efa178144a2dabd630",
      "55ba900bd3df450abf9f3f4d20dc8532",
      "af6be75675244496bfc532d44c2e3cc5",
      "ae727a09b3c948b9b2389f1662686f1d",
      "b5d009462ee74efca655f83f3636dcf4",
      "f6ded243e2e14b14a36df25b0c506514",
      "7bf51f9e0f7b475e845ce89e069f6aa8",
      "fec3effeecd240ceb0659154724df9d4",
      "3d60e435101f493baa75b161bc1b90ce",
      "ad39425f4ca84fc1addad4da0a641090",
      "ac41de4b4dac48caa1ba7f481bba26d2",
      "d97ac2a69bbb405ca507a7ecc6087b09",
      "585df42b42154670ad5bda42c3a83507",
      "c845d365f6d44825979eef4b2785b366",
      "7116d10e937448cfbeadfc7378b7baa1",
      "27b00a084eac41bdb8c2a13082face4d",
      "655373ce9d794250a02c016431b7c4e0",
      "12ce864fd3814e778dd6cd255d2fd918",
      "7e6e9e86eed14ce0ab3dc4b7cbbc9265",
      "e2b3a66dffdc4943ba219be166f63942",
      "998154df14f9485aaef874adb9bf4fb0",
      "04a322ab9e4d4e958f0836bf686b59e9",
      "6c27fc5af339494d9120bed243072f93",
      "245a5611978843ec953da8780fe2f492"
     ]
    },
    "id": "DkIvEkIIkEyB",
    "outputId": "76271524-66e5-45d4-9ae8-89268a9f4bbe"
   },
   "outputs": [],
   "source": [
    "from unsloth import FastVisionModel\n",
    "import torch\n",
    "max_seq_length = 16384 # Must be this long for VLMs\n",
    "lora_rank = 16 # Larger rank = smarter, but slower\n",
    "\n",
    "model, tokenizer = FastVisionModel.from_pretrained(\n",
    "    model_name = \"unsloth/Qwen3-VL-8B-Instruct-unsloth-bnb-4bit\",\n",
    "    max_seq_length = max_seq_length,\n",
    "    load_in_4bit = True, # False for LoRA 16bit\n",
    "    fast_inference = False, # Enable vLLM fast inference\n",
    "    gpu_memory_utilization = 0.8, # Reduce if out of memory\n",
    "\n",
    ")"
   ]
  },
  {
   "cell_type": "markdown",
   "metadata": {
    "id": "aOXrl8iLQx6S"
   },
   "source": [
    "In Unsloth, we share vLLM's weights directly, reducing VRAM usage by > 50%. vLLM also does not yet support LoRA on the vision layers, so we can only add them on the language layers. Vision GRPO still works though!"
   ]
  },
  {
   "cell_type": "code",
   "execution_count": null,
   "metadata": {
    "id": "pmZ6zZ5AQu7I"
   },
   "outputs": [],
   "source": [
    "model = FastVisionModel.get_peft_model(\n",
    "    model,\n",
    "    finetune_vision_layers     = False, # False if not finetuning vision layers\n",
    "    finetune_language_layers   = True,  # False if not finetuning language layers\n",
    "    finetune_attention_modules = True,  # False if not finetuning attention layers\n",
    "    finetune_mlp_modules       = True,  # False if not finetuning MLP layers\n",
    "\n",
    "    r = 16,           # The larger, the higher the accuracy, but might overfit\n",
    "    lora_alpha = 16,  # Recommended alpha == r at least\n",
    "    lora_dropout = 0,\n",
    "    bias = \"none\",\n",
    "    random_state = 3407,\n",
    "    use_rslora = False,  # We support rank stabilized LoRA\n",
    "    loftq_config = None, # And LoftQ\n",
    "    use_gradient_checkpointing = \"unsloth\", # Reduces memory usage\n",
    "    # target_modules = \"all-linear\", # Optional now! Can specify a list if needed\n",
    ")"
   ]
  },
  {
   "cell_type": "markdown",
   "metadata": {
    "id": "7KGgPgk_5S8r"
   },
   "source": [
    "### Data Prep\n",
    "<a name=\"Data\"></a>\n",
    "\n",
    "`AI4Math/MathVista` is a dataset that involves using images to solve logic and math problems.\n",
    "\n",
    "For this notebook, we will only use math problems with numeric answers for simpilicity."
   ]
  },
  {
   "cell_type": "code",
   "execution_count": null,
   "metadata": {
    "colab": {
     "base_uri": "https://localhost:8080/",
     "height": 209,
     "referenced_widgets": [
      "d8f808d13e954c8e858d4ea65c1c0e0f",
      "5166ba7f4e7b492cb06856054f19c714",
      "7a2dec82432a4020bcee154e6485e32e",
      "4af0fde3d41e40ce98ed228a3d288db3",
      "53499596e197463da2d50056bcef15af",
      "d41445a22d0344e5b4eacaba670a7781",
      "c37833b4686346658bc442f9bef6ae7e",
      "ea43aafe4d834364b31a53be7d2a6826",
      "e991dbb01e6f4ce9b46e3f4757d32d70",
      "f97932518cfc4feab20eeb5a20033f8a",
      "bccbfdf6b0cc403dacb9ba658b186493",
      "03ad9a740fa6421ba12a816c3d5ab56f",
      "dec0cf2bc4954c4d9c8651ea040136d6",
      "0d4adb33304445c38b9fbbf5dbf33c15",
      "3ada3ac153d54b4bb50249a60598768f",
      "06a12e94ab714c5bb15fd9a724ff7327",
      "30a0197a6dd142bab8bc6a05127910ca",
      "6ad490fdd28043e9bd44cc1b438eb7f7",
      "3b4cdf23aef145b39f91d8ff19fffe3c",
      "926556aec36642b796f411c625c8232f",
      "b91a36961e1343a4977308cfe9cca2a7",
      "deb014b89e6a483794dc1725dd5df466",
      "03fa0290059a45dc96446ede6095544d",
      "d9aa5642a24c403da66cd40394762137",
      "da46253a91b849adb73065a900f4deab",
      "f455e04c55bf4c1e8f7d1734bf6e45fa",
      "5a06b41e8f53473a81ddc137609cc957",
      "34ecefa1dc2a4982a5a0396b0453f6a5",
      "6446c0468c594bc3b1828c0d392ff229",
      "3c1e3dcd8c0a44deb8d4e79336caf3e3",
      "8e9284f8d0fe43c591dd14eadc233414",
      "eb85b18daf6c4de4a37a59c07a6785bc",
      "e8bea8337fdb464da27a70e519679db9",
      "5bccca0517374e30ba8e65eb9bd5d06f",
      "deb9c732826f472e9cd52daa13921beb",
      "18fca60c502845568b3e32c6e74275fc",
      "af9463568135449894b5ecd22d32df9e",
      "3b71935139b14e388c36b9aa8fef860d",
      "15213171d1ba4038a86fe194f331734c",
      "3aeebf4702e44e83a87235a3e79e1416",
      "57a04e2a1f954057bd3103a1634f17ce",
      "b32c872523a145d3b9f29a45514bf1d9",
      "1425ae8132864114891298dbdd524470",
      "5c7f99e1220c4ebaa1cccc9f05a8e338",
      "c034720c776d420c89402a03b39665bd",
      "d7cca299662448fd95d087e36df8be48",
      "5ae19ffb8c4e405aa4efc50aef66c884",
      "2f702c11c1c34e3a90c16d19f77434b4",
      "ce7978ffc068461b9f92297540b6c0b6",
      "e0a8c997e38d4c3eb7618dc081a285ec",
      "c5e94ff9282d45ca8ad771b7117ad541",
      "e341349509e749728b4278b79cc17974",
      "ccc47cff4d8149f281ec086f9532a96d",
      "3acc6f4f9e64457cb2a6e64dea90300c",
      "8cef1515750d440baccec5dead9f03b4",
      "a7984eb31e834d3c831f04c3d3ba53e5",
      "76d438a0940a4d3bb41b0e2c64323643",
      "6e684cd3846c424d94dd26910afa00d5",
      "ed92cb36c4374fc5892c97cc6ee37e77",
      "cfd3256fe2d3490ca826b41783b80c86",
      "5268cecb053f44acb11e0930dd63387e",
      "264c23d189744f5c8240cbda4af012a1",
      "2b0c28de8be2441baeec02b4422639e1",
      "1650ce06f1df4f0ba01a7dadaae6cc94",
      "6a31296e2c56479399921e5d18745db3",
      "1b6daca4c18f49f4a54a1ba9ad98cc86"
     ]
    },
    "id": "7zM1VPx5KcpF",
    "outputId": "b86fe892-2df6-43c5-c6cf-48ac5f94ab84"
   },
   "outputs": [],
   "source": [
    "from datasets import load_dataset\n",
    "from trl import GRPOConfig, GRPOTrainer\n",
    "\n",
    "dataset = load_dataset(\"AI4Math/MathVista\", split = \"testmini\")"
   ]
  },
  {
   "cell_type": "markdown",
   "metadata": {
    "id": "r0CeDQrm6BWW"
   },
   "source": [
    "We filter the dataset to keep only float or numeric answers:"
   ]
  },
  {
   "cell_type": "code",
   "execution_count": null,
   "metadata": {
    "colab": {
     "base_uri": "https://localhost:8080/",
     "height": 49,
     "referenced_widgets": [
      "cd3d4231afa64f20805026d750be7d4e",
      "1a212b59d1f440d8904a64ff9fe59816",
      "5a64f5cd5631407dab29f17dbe917d64",
      "4a590dde578e4c85b1e46f7cf08a7ce0",
      "52f08f5cc3b84be38d50654b5eaa49fb",
      "1c952b62629940fbb9523f9af5156ea6",
      "b2e3155a32cb47d2a9bc32b7e71792d4",
      "c3cdf70edf7549cf926d450afe561de0",
      "087dc9a2da6b42fb8c44226d79ce0c92",
      "1dcb58740fc1455dbe7dabf119f03de1",
      "17389e3d443f46ad9c6c5993feaacda3"
     ]
    },
    "id": "iw8EVJmp5rsC",
    "outputId": "cbb80ec8-aa3c-4f94-e4e8-0ac554ab2d4b"
   },
   "outputs": [],
   "source": [
    "def is_numeric_answer(example):\n",
    "    try:\n",
    "        float(example[\"answer\"])\n",
    "        return True\n",
    "    except:\n",
    "        return False\n",
    "\n",
    "dataset = dataset.filter(is_numeric_answer)"
   ]
  },
  {
   "cell_type": "markdown",
   "metadata": {
    "id": "IAPtJzy_5uLh"
   },
   "source": [
    "We also resize the images to be 512 by 512 pixels to make the images managable in context length. We also convert them to RGB so they are compatible for training!"
   ]
  },
  {
   "cell_type": "code",
   "execution_count": null,
   "metadata": {
    "colab": {
     "base_uri": "https://localhost:8080/",
     "height": 81,
     "referenced_widgets": [
      "c00ef2e7b0db41d5870b651c76851b5b",
      "bc0c0861780945068fed6f5eaa23df86",
      "37ded46d39de4acdaa36dd4dfe10e808",
      "e2339952d1404a80bd9abb3fc7d320a7",
      "3b68a334d3f84c2f92b430976c753f5e",
      "d5464e866ce24a2e8ff2575cf1b56615",
      "2c21938fe265450d9f3952601588b266",
      "d2fce5a600574fb7afd2f497a2ca9df0",
      "46de21ea25214837a4f893f8121773dc",
      "7c2c830460ff47e79dbbb547a6f216dc",
      "9119d1e0596d48059742aae7355aae2d",
      "5312c7f21f4c4852b6a785f8539746f5",
      "14862f8fbaf74ab4b9476c5409e6d189",
      "4fc7f511e2824c6490b6f2c42979145f",
      "919e4b758b9e4b7485dfd2621d813b6d",
      "c4378fb6ff8d48f99a3fcdb0695d8c10",
      "f9a7f542915d4fab9502aa2c6e8650de",
      "cb0cb21e44e04ce2990e9eea59f8bff8",
      "b0b10d244a3e4f45af213ed60cfb0d9a",
      "8973d2298e3d46d58e76dcbac570d9c3",
      "38c6353b412a45dea6dcf08f31f18fb9",
      "e01b2e7df57d4e23b9b3b03f31231b7e"
     ]
    },
    "id": "tT8WNP1A5tsh",
    "outputId": "2492c6eb-0a9d-42f0-886b-1fe9051b3376"
   },
   "outputs": [],
   "source": [
    "# Resize to (512, 512)\n",
    "def resize_images(example):\n",
    "    image = example[\"decoded_image\"]\n",
    "    image = image.resize((512, 512))\n",
    "    example[\"decoded_image\"] = image\n",
    "    return example\n",
    "dataset = dataset.map(resize_images)\n",
    "\n",
    "# Then convert to RGB\n",
    "def convert_to_rgb(example):\n",
    "    image = example[\"decoded_image\"]\n",
    "    if image.mode != \"RGB\":\n",
    "        image = image.convert(\"RGB\")\n",
    "    example[\"decoded_image\"] = image\n",
    "    return example\n",
    "dataset = dataset.map(convert_to_rgb)"
   ]
  },
  {
   "cell_type": "markdown",
   "metadata": {
    "id": "D2WpGKjZ7mHI"
   },
   "source": [
    "We then create the conversational template that is needed to collate the dataset for RL:"
   ]
  },
  {
   "cell_type": "code",
   "execution_count": null,
   "metadata": {
    "colab": {
     "base_uri": "https://localhost:8080/",
     "height": 49,
     "referenced_widgets": [
      "bf72683ee80e41c7a2f8c5fdec264286",
      "a645e98815074a6fabc1d5e54f22dced",
      "cf271fa988ac4a6eaf938e1334dd5912",
      "f4035d73e5a1472b91e139f65cb4ba7a",
      "49351c5457b44945961aea6da0439c21",
      "613af5a068fe4a418afbfda12a87cd16",
      "db13c57a75ef40ddb335e353057b18b0",
      "222eb55d08484241a1c3a110a4156319",
      "b0efd6099b7047e58b3f2d87628b8d76",
      "868a19c29e6343b386a71765d8f08d8f",
      "92e7ae28220a4518b58667b5930319cb"
     ]
    },
    "id": "-lvgcXGjk_a6",
    "outputId": "cc2ee2bb-8113-4c8c-adeb-4304caeaf746"
   },
   "outputs": [],
   "source": [
    "# Define the delimiter variables for clarity and easy modification\n",
    "REASONING_START = \"<REASONING>\"\n",
    "REASONING_END = \"</REASONING>\"\n",
    "SOLUTION_START = \"<SOLUTION>\"\n",
    "SOLUTION_END = \"</SOLUTION>\"\n",
    "\n",
    "def make_conversation(example):\n",
    "    # Define placeholder constants if they are not defined globally\n",
    "    # The user's text prompt\n",
    "    text_content = (\n",
    "        f\"{example['question']}. Also first provide your reasoning or working out\"\\\n",
    "        f\" on how you would go about solving the question between {REASONING_START} and {REASONING_END}\"\n",
    "        f\" and then your final answer between {SOLUTION_START} and (put a single float here) {SOLUTION_END}\"\n",
    "    )\n",
    "\n",
    "    # Construct the prompt in the desired multi-modal format\n",
    "    prompt = [\n",
    "        {\n",
    "            \"role\": \"user\",\n",
    "            \"content\": [\n",
    "                {\"type\": \"image\"},  # Placeholder for the image\n",
    "                {\"type\": \"text\", \"text\": text_content},  # The text part of the prompt\n",
    "            ],\n",
    "        },\n",
    "    ]\n",
    "    # The actual image data is kept separate for the processor\n",
    "    return {\"prompt\": prompt, \"image\": example[\"decoded_image\"], \"answer\": example[\"answer\"]}\n",
    "\n",
    "train_dataset = dataset.map(make_conversation)\n",
    "\n",
    "# We're reformatting dataset like this because decoded_images are the actual images\n",
    "# The \"image\": example[\"decoded_image\"] does not properly format the dataset correctly\n",
    "\n",
    "# 1. Remove the original 'image' column\n",
    "train_dataset = train_dataset.remove_columns(\"image\")\n",
    "\n",
    "# 2. Rename 'decoded_image' to 'image'\n",
    "train_dataset = train_dataset.rename_column(\"decoded_image\", \"image\")"
   ]
  },
  {
   "cell_type": "markdown",
   "metadata": {
    "id": "uOz-lAoI5fLW"
   },
   "source": [
    "Now let's apply the chat template across the entire dataset:"
   ]
  },
  {
   "cell_type": "code",
   "execution_count": null,
   "metadata": {
    "colab": {
     "base_uri": "https://localhost:8080/",
     "height": 49,
     "referenced_widgets": [
      "2b6d71e2012f4153a105ffbeeb867192",
      "a97800c89c81462985eeb4714735ebb6",
      "e1a2187dd84442f8925cb2654a1a2a40",
      "047e008534cf4848bdc02995352ac0b5",
      "5d24b69d97b543749ccc1183cf97a510",
      "eecb92c921de4eb0bf68cfafea645417",
      "9f225fe82d9948618eb99c6e4934fcd1",
      "a876b4a5479a4b20b2dd1242ba2a711c",
      "945598f647444659b33e5112dceee6c9",
      "75cdbee795e84aec9b3e4b8578fc7060",
      "7ee8490e404e41c99a7ef2a04e40061c"
     ]
    },
    "id": "ZaxwJAqS5d1L",
    "outputId": "12b3a58d-7265-4254-e343-aa0a4f11a1e0"
   },
   "outputs": [],
   "source": [
    "train_dataset = train_dataset.map(\n",
    "    lambda example: {\n",
    "        \"prompt\": tokenizer.apply_chat_template(\n",
    "            example[\"prompt\"],\n",
    "            tokenize = False,\n",
    "            add_generation_prompt = True, # Must add assistant\n",
    "        )\n",
    "    }\n",
    ")"
   ]
  },
  {
   "cell_type": "markdown",
   "metadata": {
    "id": "VEs2HiThleic"
   },
   "source": [
    "## Reward functions\n",
    "\n",
    "We now define some basic formatting rewards functions to see if reasoning starts and ends, and also another to see if the answers were written correctly.\n",
    "\n",
    "We also try to fix the `addCriterion` issue as described in our [blog post](https://docs.unsloth.ai/new/vision-reinforcement-learning-vlm-rl#qwen-2.5-vl-vision-rl-issues-and-quirks)"
   ]
  },
  {
   "cell_type": "code",
   "execution_count": null,
   "metadata": {
    "id": "cXk993X6C2ZZ"
   },
   "outputs": [],
   "source": [
    "# Reward functions\n",
    "import re\n",
    "\n",
    "def formatting_reward_func(completions,**kwargs):\n",
    "    import re\n",
    "    thinking_pattern = f'{REASONING_START}(.*?){REASONING_END}'\n",
    "    answer_pattern = f'{SOLUTION_START}(.*?){SOLUTION_END}'\n",
    "\n",
    "    scores = []\n",
    "    for completion in completions:\n",
    "        score = 0\n",
    "        thinking_matches = re.findall(thinking_pattern, completion, re.DOTALL)\n",
    "        answer_matches = re.findall(answer_pattern, completion, re.DOTALL)\n",
    "        if len(thinking_matches) == 1:\n",
    "            score += 1.0\n",
    "        if len(answer_matches) == 1:\n",
    "            score += 1.0\n",
    "\n",
    "        # Fix up addCriterion issues\n",
    "        # See https://docs.unsloth.ai/new/vision-reinforcement-learning-vlm-rl#qwen-2.5-vl-vision-rl-issues-and-quirks\n",
    "        # Penalize on excessive addCriterion and newlines\n",
    "        if len(completion) != 0:\n",
    "            removal = completion.replace(\"addCriterion\", \"\").replace(\"\\n\", \"\")\n",
    "            if (len(completion)-len(removal))/len(completion) >= 0.5:\n",
    "                score -= 2.0\n",
    "\n",
    "        scores.append(score)\n",
    "    return scores\n",
    "\n",
    "\n",
    "def correctness_reward_func(prompts, completions, answer, **kwargs) -> list[float]:\n",
    "    answer_pattern = f'{SOLUTION_START}(.*?){SOLUTION_END}'\n",
    "\n",
    "    responses = [re.findall(answer_pattern, completion, re.DOTALL) for completion in completions]\n",
    "    q = prompts[0]\n",
    "    print('-'*20, f\"Question:\\n{q}\", f\"\\nAnswer:\\n{answer[0]}\", f\"\\nResponse:{completions[0]}\")\n",
    "    return [\n",
    "        2.0 if len(r)==1 and a == r[0].replace('\\n','') else 0.0\n",
    "        for r, a in zip(responses, answer)\n",
    "    ]"
   ]
  },
  {
   "cell_type": "markdown",
   "metadata": {
    "id": "lrst4oDS5AFO"
   },
   "source": [
    "Here is the first example prompt in the dataset"
   ]
  },
  {
   "cell_type": "code",
   "execution_count": null,
   "metadata": {
    "colab": {
     "base_uri": "https://localhost:8080/",
     "height": 105
    },
    "id": "nXjAu-nQwpuI",
    "outputId": "7edd6d1c-88fc-4d49-dbbf-b903ccb4edfd"
   },
   "outputs": [],
   "source": [
    "train_dataset[0][\"prompt\"]"
   ]
  },
  {
   "cell_type": "code",
   "execution_count": null,
   "metadata": {
    "colab": {
     "base_uri": "https://localhost:8080/",
     "height": 70
    },
    "id": "oKBOl4K1wpWx",
    "outputId": "9826ce80-92c0-4c8a-a35e-60945976f3de"
   },
   "outputs": [],
   "source": [
    "train_dataset[100][\"prompt\"]"
   ]
  },
  {
   "cell_type": "markdown",
   "metadata": {
    "id": "8YpenSUIAczo"
   },
   "source": [
    "<a name=\"Inference\"></a>\n",
    "### Inference\n",
    "Now let's try the model on the hundredth sample of the train dataset without training.\n"
   ]
  },
  {
   "cell_type": "code",
   "execution_count": null,
   "metadata": {
    "colab": {
     "base_uri": "https://localhost:8080/"
    },
    "id": "xGa0rueD5Mfh",
    "outputId": "b3cb5ab7-8ab1-44cd-a1f3-b3b7daf1eb34"
   },
   "outputs": [],
   "source": [
    "# Fix torch compilation cache permissions\n",
    "import os\n",
    "import shutil\n",
    "\n",
    "# Test if /ephemeral is writable (not just readable)\n",
    "use_ephemeral = False\n",
    "if os.path.exists(\"/ephemeral\"):\n",
    "    try:\n",
    "        test_file = \"/ephemeral/.write_test\"\n",
    "        with open(test_file, \"w\") as f:\n",
    "            f.write(\"test\")\n",
    "        os.remove(test_file)\n",
    "        use_ephemeral = True\n",
    "    except (PermissionError, OSError):\n",
    "        pass\n",
    "\n",
    "if use_ephemeral:\n",
    "    cache_dir = \"/ephemeral/torch_cache\"\n",
    "    triton_cache = \"/ephemeral/triton_cache\"\n",
    "    tmpdir = \"/ephemeral/tmp\"\n",
    "else:\n",
    "    cache_dir = os.path.expanduser(\"~/.cache/torch/inductor\")\n",
    "    triton_cache = os.path.expanduser(\"~/.cache/triton\")\n",
    "    tmpdir = os.path.expanduser(\"~/.cache/tmp\")\n",
    "\n",
    "# Create directories with full write permissions\n",
    "for d in [cache_dir, triton_cache, tmpdir]:\n",
    "    os.makedirs(d, mode=0o777, exist_ok=True)\n",
    "\n",
    "# Set ALL PyTorch/Triton cache and temp directories\n",
    "os.environ[\"TORCHINDUCTOR_CACHE_DIR\"] = cache_dir\n",
    "os.environ[\"TORCH_COMPILE_DIR\"] = cache_dir\n",
    "os.environ[\"TRITON_CACHE_DIR\"] = triton_cache\n",
    "os.environ[\"TMPDIR\"] = tmpdir  # Override system /tmp\n",
    "os.environ[\"TEMP\"] = tmpdir\n",
    "os.environ[\"TMP\"] = tmpdir\n",
    "\n",
    "# Clean up any old compiled caches\n",
    "old_cache = os.path.join(os.getcwd(), \"unsloth_compiled_cache\")\n",
    "if os.path.exists(old_cache):\n",
    "    shutil.rmtree(old_cache, ignore_errors=True)\n",
    "\n",
    "print(f\"✅ Torch cache: {cache_dir}\")\n",
    "print(f\"✅ Temp dir: {tmpdir}\")\n",
    "\n",
    "image = train_dataset[100][\"image\"]\n",
    "prompt = train_dataset[100][\"prompt\"]\n",
    "\n",
    "inputs = tokenizer(\n",
    "    image,\n",
    "    prompt,\n",
    "    add_special_tokens = False,\n",
    "    return_tensors = \"pt\",\n",
    ").to(\"cuda\")\n",
    "\n",
    "from transformers import TextStreamer\n",
    "text_streamer = TextStreamer(tokenizer, skip_prompt = True)\n",
    "_ = model.generate(**inputs, streamer = text_streamer, max_new_tokens = 1024,\n",
    "                   use_cache = True, temperature = 1.0, min_p = 0.1)"
   ]
  },
  {
   "cell_type": "markdown",
   "metadata": {
    "id": "Ux6iqP7z5YOo"
   },
   "source": [
    "<a name=\"Train\"></a>\n",
    "### Train the model\n",
    "\n",
    "Now set up the `GRPO` Trainer and all configurations! Note we actually enable `GSPO` as well!"
   ]
  },
  {
   "cell_type": "code",
   "execution_count": null,
   "metadata": {
    "colab": {
     "base_uri": "https://localhost:8080/"
    },
    "id": "ptqkXK2D4d6p",
    "outputId": "4a820765-b721-42d4-9e0c-f2675f74f1a1"
   },
   "outputs": [],
   "source": [
    "from trl import GRPOConfig, GRPOTrainer\n",
    "training_args = GRPOConfig(\n",
    "    learning_rate = 5e-6,\n",
    "    adam_beta1 = 0.9,\n",
    "    adam_beta2 = 0.99,\n",
    "    weight_decay = 0.1,\n",
    "    warmup_ratio = 0.1,\n",
    "    lr_scheduler_type = \"cosine\",\n",
    "    optim = \"adamw_8bit\",\n",
    "    logging_steps = 1,\n",
    "    log_completions = False,\n",
    "    per_device_train_batch_size=2,\n",
    "    gradient_accumulation_steps = 1, # Increase to 4 for smoother training\n",
    "    num_generations = 2, # Decrease if out of memory\n",
    "    max_prompt_length = 1024,\n",
    "    max_completion_length = 1024,\n",
    "    num_train_epochs = 0.5, # Set to 1 for a full training run\n",
    "    # max_steps = 60,\n",
    "    save_steps = 60,\n",
    "    max_grad_norm = 0.1,\n",
    "    report_to = \"none\", # Can use Weights & Biases\n",
    "    output_dir=\"/workspace/outputs\",\n",
    "\n",
    "    # Below enables GSPO:\n",
    "    importance_sampling_level = \"sequence\",\n",
    "    mask_truncated_completions = False,\n",
    "    loss_type = \"dr_grpo\",\n",
    ")"
   ]
  },
  {
   "cell_type": "markdown",
   "metadata": {
    "id": "r9Mv8UZO5hz-"
   },
   "source": [
    "And let's run the trainer! If you scroll up, you'll see a table of rewards. The goal is to see the `reward` column increase!\n",
    "\n",
    "You might have to wait 150 to 200 steps for any action. You'll probably get 0 reward for the first 100 steps. Please be patient!\n",
    "\n",
    "| Step | Training Loss | reward    | reward_std | completion_length | kl       |\n",
    "|------|---------------|-----------|------------|-------------------|----------|\n",
    "| 1    | 0.000000      | 0.125000  | 0.000000   | 200.000000        | 0.000000 |\n",
    "| 2    | 0.000000      | 0.072375  | 0.248112   | 200.000000        | 0.000000 |\n",
    "| 3    | 0.000000      | -0.079000 | 0.163776   | 182.500000        | 0.000005 |\n",
    "\n",
    "During inference, you might encounter `addCriterion` or some weird gibberish outputs. Please read our [blog post](https://docs.unsloth.ai/new/vision-reinforcement-learning-vlm-rl#qwen-2.5-vl-vision-rl-issues-and-quirks) on why this occurs. It seems to be an inherent thing inside of the model, and we can ignore this."
   ]
  },
  {
   "cell_type": "code",
   "execution_count": null,
   "metadata": {
    "colab": {
     "base_uri": "https://localhost:8080/",
     "height": 1000
    },
    "id": "6fUaoYJEKgpb",
    "outputId": "e9aa22f1-aca6-4c80-d125-74ede220483d"
   },
   "outputs": [],
   "source": [
    "trainer = GRPOTrainer(\n",
    "    model = model,\n",
    "    args = training_args,\n",
    "    # Pass the processor to handle multimodal inputs\n",
    "    processing_class = tokenizer,\n",
    "    reward_funcs = [\n",
    "        formatting_reward_func,\n",
    "        correctness_reward_func,\n",
    "    ],\n",
    "    train_dataset = train_dataset,\n",
    ")\n",
    "\n",
    "trainer.train()"
   ]
  },
  {
   "cell_type": "markdown",
   "metadata": {
    "id": "tlaUdxC_VHpz"
   },
   "source": [
    "<a name=\"Inference\"></a>\n",
    "### Inference\n",
    "\n"
   ]
  },
  {
   "cell_type": "markdown",
   "metadata": {
    "id": "LzUvkjO6ffIs"
   },
   "source": [
    "Let's run the model! You can modify the instruction and input."
   ]
  },
  {
   "cell_type": "code",
   "execution_count": null,
   "metadata": {
    "colab": {
     "base_uri": "https://localhost:8080/"
    },
    "id": "qtcz_lpbVC92",
    "outputId": "7dab8bf6-22c3-4ec1-a4e6-2a2af91ce3fc"
   },
   "outputs": [],
   "source": [
    "# Fix torch compilation cache permissions\n",
    "import os\n",
    "import shutil\n",
    "\n",
    "# Test if /ephemeral is writable (not just readable)\n",
    "use_ephemeral = False\n",
    "if os.path.exists(\"/ephemeral\"):\n",
    "    try:\n",
    "        test_file = \"/ephemeral/.write_test\"\n",
    "        with open(test_file, \"w\") as f:\n",
    "            f.write(\"test\")\n",
    "        os.remove(test_file)\n",
    "        use_ephemeral = True\n",
    "    except (PermissionError, OSError):\n",
    "        pass\n",
    "\n",
    "if use_ephemeral:\n",
    "    cache_dir = \"/ephemeral/torch_cache\"\n",
    "    triton_cache = \"/ephemeral/triton_cache\"\n",
    "    tmpdir = \"/ephemeral/tmp\"\n",
    "else:\n",
    "    cache_dir = os.path.expanduser(\"~/.cache/torch/inductor\")\n",
    "    triton_cache = os.path.expanduser(\"~/.cache/triton\")\n",
    "    tmpdir = os.path.expanduser(\"~/.cache/tmp\")\n",
    "\n",
    "# Create directories with full write permissions\n",
    "for d in [cache_dir, triton_cache, tmpdir]:\n",
    "    os.makedirs(d, mode=0o777, exist_ok=True)\n",
    "\n",
    "# Set ALL PyTorch/Triton cache and temp directories\n",
    "os.environ[\"TORCHINDUCTOR_CACHE_DIR\"] = cache_dir\n",
    "os.environ[\"TORCH_COMPILE_DIR\"] = cache_dir\n",
    "os.environ[\"TRITON_CACHE_DIR\"] = triton_cache\n",
    "os.environ[\"TMPDIR\"] = tmpdir  # Override system /tmp\n",
    "os.environ[\"TEMP\"] = tmpdir\n",
    "os.environ[\"TMP\"] = tmpdir\n",
    "\n",
    "# Clean up any old compiled caches\n",
    "old_cache = os.path.join(os.getcwd(), \"unsloth_compiled_cache\")\n",
    "if os.path.exists(old_cache):\n",
    "    shutil.rmtree(old_cache, ignore_errors=True)\n",
    "\n",
    "print(f\"✅ Torch cache: {cache_dir}\")\n",
    "print(f\"✅ Temp dir: {tmpdir}\")\n",
    "\n",
    "image = train_dataset[165][\"image\"]\n",
    "prompt = train_dataset[165][\"prompt\"]\n",
    "\n",
    "inputs = tokenizer(\n",
    "    image,\n",
    "    prompt,\n",
    "    add_special_tokens = False,\n",
    "    return_tensors = \"pt\",\n",
    ").to(\"cuda\")\n",
    "\n",
    "from transformers import TextStreamer\n",
    "text_streamer = TextStreamer(tokenizer, skip_prompt = True)\n",
    "_ = model.generate(**inputs, streamer = text_streamer, max_new_tokens = 1024,\n",
    "                   use_cache = True, temperature = 1.0, min_p = 0.1)"
   ]
  },
  {
   "cell_type": "markdown",
   "metadata": {
    "id": "Colxz9TAVMsi"
   },
   "source": [
    "<a name=\"Save\"></a>\n",
    "### Saving, loading finetuned models\n",
    "To save the final model as LoRA adapters, use Hugging Face’s `push_to_hub` for online saving, or `save_pretrained` for local storage.\n",
    "\n",
    "**[NOTE]** This ONLY saves the LoRA adapters, and not the full model. To save to 16bit or GGUF, scroll down!"
   ]
  },
  {
   "cell_type": "code",
   "execution_count": null,
   "metadata": {
    "colab": {
     "base_uri": "https://localhost:8080/"
    },
    "id": "AL-BcuB1VLIv",
    "outputId": "905cc0c8-ebb9-4e2a-8b13-db77c054c222"
   },
   "outputs": [],
   "source": [
    "model.save_pretrained(\"grpo_lora\")  # Local saving\n",
    "tokenizer.save_pretrained(\"grpo_lora\")\n",
    "# model.push_to_hub(\"your_name/grpo_lora\", token = \"...\") # Online saving\n",
    "# processor.push_to_hub(\"your_name/grpo_lora\", token = \"...\") # Online saving"
   ]
  },
  {
   "cell_type": "markdown",
   "metadata": {
    "id": "a4LMOBl8boGX"
   },
   "source": [
    "Verify LoRA is actually trained!"
   ]
  },
  {
   "cell_type": "code",
   "execution_count": null,
   "metadata": {
    "id": "4SfdI-ERbpiw"
   },
   "outputs": [],
   "source": [
    "from safetensors import safe_open\n",
    "\n",
    "tensors = {}\n",
    "with safe_open(\"grpo_lora/adapter_model.safetensors\", framework = \"pt\") as f:\n",
    "    # Verify both A and B are non zero\n",
    "    for key in f.keys():\n",
    "        tensor = f.get_tensor(key)\n",
    "        n_zeros = (tensor == 0).sum() / tensor.numel()\n",
    "        assert(n_zeros.item() != tensor.numel())"
   ]
  },
  {
   "cell_type": "markdown",
   "metadata": {
    "id": "-NUEmHFSYNTp"
   },
   "source": [
    "<a name=\"Save\"></a>\n",
    "### Saving to float16 for VLLM\n",
    "\n",
    "We also support saving to `float16` directly. Select `merged_16bit` for float16 or `merged_4bit` for int4. We also allow `lora` adapters as a fallback. Use `push_to_hub_merged` to upload to your Hugging Face account! You can go to https://huggingface.co/settings/tokens for your personal tokens."
   ]
  },
  {
   "cell_type": "code",
   "execution_count": null,
   "metadata": {
    "id": "07lMVV96vz39"
   },
   "outputs": [],
   "source": [
    "# Merge to 16bit\n",
    "if False: model.save_pretrained_merged(\"model\", tokenizer, save_method = \"merged_16bit\",)\n",
    "if False: model.push_to_hub_merged(\"hf/model\", tokenizer, save_method = \"merged_16bit\", token = \"\")\n",
    "\n",
    "# Merge to 4bit\n",
    "if False: model.save_pretrained_merged(\"model\", tokenizer, save_method = \"merged_4bit\",)\n",
    "if False: model.push_to_hub_merged(\"hf/model\", tokenizer, save_method = \"merged_4bit\", token = \"\")\n",
    "\n",
    "# Just LoRA adapters\n",
    "if False:\n",
    "    model.save_pretrained(\"model\")\n",
    "    tokenizer.save_pretrained(\"model\")\n",
    "if False:\n",
    "    model.push_to_hub(\"hf/model\", token = \"\")\n",
    "    tokenizer.push_to_hub(\"hf/model\", token = \"\")"
   ]
  },
  {
   "cell_type": "markdown",
   "metadata": {
    "id": "52WMb3k_YPt8"
   },
   "source": [
    "### GGUF / llama.cpp Conversion\n",
    "To save to `GGUF` / `llama.cpp`, we support it natively now! We clone `llama.cpp` and we default save it to `q8_0`. We allow all methods like `q4_k_m`. Use `save_pretrained_gguf` for local saving and `push_to_hub_gguf` for uploading to HF.\n",
    "\n",
    "Some supported quant methods (full list on our [Wiki page](https://github.com/unslothai/unsloth/wiki#gguf-quantization-options)):\n",
    "* `q8_0` - Fast conversion. High resource use, but generally acceptable.\n",
    "* `q4_k_m` - Recommended. Uses Q6_K for half of the attention.wv and feed_forward.w2 tensors, else Q4_K.\n",
    "* `q5_k_m` - Recommended. Uses Q6_K for half of the attention.wv and feed_forward.w2 tensors, else Q5_K.\n",
    "\n",
    "[**NEW**] To finetune and auto export to Ollama, try our [Ollama notebook](https://github.com/unslothai/notebooks/blob/main/nb/Llama3_(8B)-Ollama.ipynb)"
   ]
  },
  {
   "cell_type": "code",
   "execution_count": null,
   "metadata": {
    "id": "QyEjW-WuYQIm"
   },
   "outputs": [],
   "source": [
    "# Save to 8bit Q8_0\n",
    "if False: model.save_pretrained_gguf(\"model\", tokenizer,)\n",
    "# Remember to go to https://huggingface.co/settings/tokens for a token!\n",
    "# And change hf to your username!\n",
    "if False: model.push_to_hub_gguf(\"hf/model\", tokenizer, token = \"\")\n",
    "\n",
    "# Save to 16bit GGUF\n",
    "if False: model.save_pretrained_gguf(\"model\", tokenizer, quantization_method = \"f16\")\n",
    "if False: model.push_to_hub_gguf(\"hf/model\", tokenizer, quantization_method = \"f16\", token = \"\")\n",
    "\n",
    "# Save to q4_k_m GGUF\n",
    "if False: model.save_pretrained_gguf(\"model\", tokenizer, quantization_method = \"q4_k_m\")\n",
    "if False: model.push_to_hub_gguf(\"hf/model\", tokenizer, quantization_method = \"q4_k_m\", token = \"\")\n",
    "\n",
    "# Save to multiple GGUF options - much faster if you want multiple!\n",
    "if False:\n",
    "    model.push_to_hub_gguf(\n",
    "        \"hf/model\", # Change hf to your username!\n",
    "        tokenizer,\n",
    "        quantization_method = [\"q4_k_m\", \"q8_0\", \"q5_k_m\",],\n",
    "        token = \"\",\n",
    "    )"
   ]
  },
  {
   "cell_type": "markdown",
   "metadata": {
    "id": "dbm6rx-dbt5Z"
   },
   "source": [
    "Special Credits to [GAD-Cell](https://github.com/GAD-cell) for helping Unsloth create this notebook and bringing VLM GRPO into Unsloth!Now, use the `model-unsloth.gguf` file or `model-unsloth-Q4_K_M.gguf` file in llama.cpp.\n",
    "\n",
    "And we're done! If you have any questions on Unsloth, we have a [Discord](https://discord.gg/unsloth) channel! If you find any bugs or want to keep updated with the latest LLM stuff, or need help, join projects etc, feel free to join our Discord!\n",
    "\n",
    "**Additional Resources:**\n",
    "\n",
    "- 📚 [Unsloth Documentation](https://docs.unsloth.ai) - Complete guides and examples\n",
    "- 💬 [Unsloth Discord](https://discord.gg/unsloth) - Community support\n",
    "- 📖 [More Notebooks](https://github.com/unslothai/notebooks) - Full collection on GitHub\n",
    "- 🚀 [Brev Documentation](https://docs.nvidia.com/brev) - Deploy and scale on NVIDIA GPUs"
   ]
  }
 ],
 "metadata": {
  "accelerator": "GPU",
  "colab": {
   "gpuType": "T4",
   "provenance": []
  },
  "kernelspec": {
   "display_name": "Python 3",
   "name": "python3"
  },
  "language_info": {
   "codemirror_mode": {
    "name": "ipython",
    "version": 3
   },
   "file_extension": ".py",
   "mimetype": "text/x-python",
   "name": "python",
   "nbconvert_exporter": "python",
   "pygments_lexer": "ipython3",
   "version": "3.10.1"
  }
 },
 "nbformat": 4,
 "nbformat_minor": 0
}
