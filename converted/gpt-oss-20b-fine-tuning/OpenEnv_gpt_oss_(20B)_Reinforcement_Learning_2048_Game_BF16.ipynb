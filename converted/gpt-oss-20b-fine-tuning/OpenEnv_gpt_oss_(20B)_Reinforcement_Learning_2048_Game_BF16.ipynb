{
 "cells": [
  {
   "cell_type": "markdown",
   "id": "db4c62c9",
   "metadata": {},
   "source": [
    "# 🤙 gpt-oss-20b on NVIDIA Brev\n",
    "\n",
    "<div style=\"background: linear-gradient(90deg, #00ff87 0%, #60efff 100%); padding: 1px; border-radius: 8px; margin: 20px 0;\">\n",
    "    <div style=\"background: #0a0a0a; padding: 20px; border-radius: 7px;\">\n",
    "        <p style=\"color: #60efff; margin: 0;\"><strong>⚡ Powered by Brev</strong> | Converted from <a href=\"https://github.com/unslothai/notebooks/blob/main/nb/gpt-oss-20b.ipynb\" style=\"color: #00ff87;\">Unsloth Notebook</a></p>\n",
    "    </div>\n",
    "</div>\n",
    "\n",
    "## 📋 Configuration\n",
    "\n",
    "<table style=\"width: auto; margin-left: 0; border-collapse: collapse; border: 2px solid #808080;\">\n",
    "    <thead>\n",
    "        <tr style=\"border-bottom: 2px solid #808080;\">\n",
    "            <th style=\"text-align: left; padding: 8px 12px; border-right: 2px solid #808080; font-weight: bold;\">Parameter</th>\n",
    "            <th style=\"text-align: left; padding: 8px 12px; font-weight: bold;\">Value</th>\n",
    "        </tr>\n",
    "    </thead>\n",
    "    <tbody>\n",
    "        <tr>\n",
    "            <td style=\"text-align: left; padding: 8px 12px; border-right: 1px solid #808080;\"><strong>Model</strong></td>\n",
    "            <td style=\"text-align: left; padding: 8px 12px;\">gpt-oss-20b</td>\n",
    "        </tr>\n",
    "        <tr>\n",
    "            <td style=\"text-align: left; padding: 8px 12px; border-right: 1px solid #808080;\"><strong>Recommended GPU</strong></td>\n",
    "            <td style=\"text-align: left; padding: 8px 12px;\">A100-40GB</td>\n",
    "        </tr>\n",
    "        <tr>\n",
    "            <td style=\"text-align: left; padding: 8px 12px; border-right: 1px solid #808080;\"><strong>Min VRAM</strong></td>\n",
    "            <td style=\"text-align: left; padding: 8px 12px;\">24 GB</td>\n",
    "        </tr>\n",
    "        <tr>\n",
    "            <td style=\"text-align: left; padding: 8px 12px; border-right: 1px solid #808080;\"><strong>Batch Size</strong></td>\n",
    "            <td style=\"text-align: left; padding: 8px 12px;\">2</td>\n",
    "        </tr>\n",
    "        <tr>\n",
    "            <td style=\"text-align: left; padding: 8px 12px; border-right: 1px solid #808080;\"><strong>Categories</strong></td>\n",
    "            <td style=\"text-align: left; padding: 8px 12px;\">reasoning, fine-tuning, large-model</td>\n",
    "        </tr>\n",
    "    </tbody>\n",
    "</table>\n",
    "\n",
    "## 🔧 Key Adaptations for Brev\n",
    "\n",
    "- ✅ Replaced Colab-specific installation with conda-based Unsloth\n",
    "- ✅ Converted magic commands to subprocess calls\n",
    "- ✅ Removed Google Drive dependencies\n",
    "- ✅ Updated paths from `/workspace/` to `/workspace/`\n",
    "- ✅ Added `device_map=\"auto\"` for multi-GPU support\n",
    "- ✅ Optimized batch sizes for NVIDIA GPUs\n",
    "\n",
    "## 📚 Resources\n",
    "\n",
    "- [Unsloth Documentation](https://docs.unsloth.ai/)\n",
    "- [Brev Documentation](https://docs.nvidia.com/brev)\n",
    "- [Original Notebook](https://github.com/unslothai/notebooks/blob/main/nb/gpt-oss-20b.ipynb)\n"
   ]
  },
  {
   "cell_type": "markdown",
   "metadata": {
    "colab_type": "text",
    "id": "view-in-github"
   },
   "source": []
  },
  {
   "cell_type": "markdown",
   "metadata": {
    "id": "GtkTGCuh6QZy"
   },
   "source": [
    "# <img width=\"35\" height=\"35\" alt=\"image\" src=\"https://github.com/user-attachments/assets/2700a971-e5d6-4036-b03f-2f89c9791609\" /> OpenEnv: Agentic Execution Environments\n",
    "We're using the new [OpenEnv](https://github.com/meta-pytorch/OpenEnv) library which has over 2000+ environments for RL!\n",
    "\n",
    "<div class=\"align-center\">\n",
    "<a href=\"https://unsloth.ai/\"><img src=\"https://github.com/unslothai/unsloth/raw/main/images/unsloth%20new%20logo.png\" width=\"115\"></a>\n",
    "<a href=\"https://discord.gg/unsloth\"><img src=\"https://github.com/unslothai/unsloth/raw/main/images/Discord button.png\" width=\"145\"></a>\n",
    "<a href=\"https://docs.unsloth.ai/\"><img src=\"https://github.com/unslothai/unsloth/blob/main/images/documentation%20green%20button.png?raw=true\" width=\"125\"></a></a> Join Discord if you need help + ⭐ <i>Star us on <a href=\"https://github.com/unslothai/unsloth\">Github</a> </i> ⭐\n",
    "</div>\n",
    "\n",
    "To install Unsloth your local device, follow [our guide](https://docs.unsloth.ai/get-started/install-and-update)."
   ]
  },
  {
   "cell_type": "markdown",
   "metadata": {
    "id": "hzPgFeIkZn9q"
   },
   "source": [
    "# Goal: Make gpt-oss play games with Reinforcement Learning\n",
    "\n",
    "Our goal is to make OpenAI's open model gpt-oss 20b play the 2048 game with reinforcement learning. We want the model to devise a strategy to play 2048, and we will run this strategy until we win or lose.\n",
    "\n",
    "<img src=\"https://upload.wikimedia.org/wikipedia/commons/thumb/f/f9/2048_win.png/500px-2048_win.png\" height=300 />"
   ]
  },
  {
   "cell_type": "markdown",
   "metadata": {
    "id": "31KIMLJLnHET"
   },
   "source": [
    "# Installation\n",
    "We'll be using [Unsloth](https://github.com/unslothai/unsloth) to do RL on GPT-OSS 20B, and [OpenEnv](https://github.com/meta-pytorch/OpenEnv) for the environment interactions. Unsloth saves 70% VRAM usage and makes reinforcement learning 2 to 6x faster!"
   ]
  },
  {
   "cell_type": "code",
   "execution_count": null,
   "metadata": {
    "id": "CGoDZwcunHEU"
   },
   "outputs": [],
   "source": [
    "# Environment Check for Brev\n",
    "import sys\n",
    "import os\n",
    "import shutil\n",
    "\n",
    "print(f\"Python executable: {sys.executable}\")\n",
    "print(f\"Python version: {sys.version}\")\n",
    "\n",
    "# Configure PyTorch cache directories to avoid permission errors\n",
    "# MUST be set before any torch imports\n",
    "# Prefer /ephemeral for Brev instances (larger scratch space)\n",
    "\n",
    "# Test if /ephemeral exists and is actually writable (not just readable)\n",
    "use_ephemeral = False\n",
    "if os.path.exists(\"/ephemeral\"):\n",
    "    try:\n",
    "        test_file = \"/ephemeral/.write_test\"\n",
    "        with open(test_file, \"w\") as f:\n",
    "            f.write(\"test\")\n",
    "        os.remove(test_file)\n",
    "        use_ephemeral = True\n",
    "    except (PermissionError, OSError):\n",
    "        pass\n",
    "\n",
    "if use_ephemeral:\n",
    "    cache_base = \"/ephemeral/torch_cache\"\n",
    "    triton_cache = \"/ephemeral/triton_cache\"\n",
    "    tmpdir = \"/ephemeral/tmp\"\n",
    "    print(\"Using /ephemeral for cache (Brev scratch space)\")\n",
    "else:\n",
    "    cache_base = os.path.expanduser(\"~/.cache/torch/inductor\")\n",
    "    triton_cache = os.path.expanduser(\"~/.cache/triton\")\n",
    "    tmpdir = os.path.expanduser(\"~/.cache/tmp\")\n",
    "    print(\"Using home directory for cache\")\n",
    "\n",
    "# Set ALL PyTorch/Triton cache and temp directories\n",
    "os.environ[\"TORCHINDUCTOR_CACHE_DIR\"] = cache_base\n",
    "os.environ[\"TORCH_COMPILE_DIR\"] = cache_base\n",
    "os.environ[\"TRITON_CACHE_DIR\"] = triton_cache\n",
    "os.environ[\"XDG_CACHE_HOME\"] = os.path.expanduser(\"~/.cache\")\n",
    "os.environ[\"TMPDIR\"] = tmpdir  # Override system /tmp\n",
    "os.environ[\"TEMP\"] = tmpdir\n",
    "os.environ[\"TMP\"] = tmpdir\n",
    "\n",
    "# Create cache directories with proper permissions (777 to ensure writability)\n",
    "for cache_dir in [cache_base, triton_cache, tmpdir, os.environ[\"XDG_CACHE_HOME\"]]:\n",
    "    os.makedirs(cache_dir, mode=0o777, exist_ok=True)\n",
    "\n",
    "# Clean up any old compiled caches that point to /tmp\n",
    "old_cache = os.path.join(os.getcwd(), \"unsloth_compiled_cache\")\n",
    "if os.path.exists(old_cache):\n",
    "    print(f\"⚠️  Removing old compiled cache: {old_cache}\")\n",
    "    shutil.rmtree(old_cache, ignore_errors=True)\n",
    "\n",
    "print(f\"✅ PyTorch cache: {cache_base}\")\n",
    "\n",
    "try:\n",
    "    from unsloth import FastLanguageModel\n",
    "    import transformers\n",
    "    print(\"\\n✅ Unsloth already available\")\n",
    "    print(f\"   Unsloth: {FastLanguageModel.__module__}\")\n",
    "    print(f\"   Transformers: {transformers.__version__}\")\n",
    "    \n",
    "    # Check if we need to upgrade/downgrade transformers\n",
    "    import pkg_resources\n",
    "    try:\n",
    "        current_transformers = pkg_resources.get_distribution(\"transformers\").version\n",
    "        if current_transformers != \"4.56.2\":\n",
    "            print(f\"   ⚠️  Transformers {current_transformers} != 4.56.2, may need adjustment\")\n",
    "    except:\n",
    "        pass\n",
    "    \n",
    "    print(\"   ✅ All packages OK, skipping installation\")\n",
    "except ImportError:\n",
    "    print(\"\\n⚠️  Unsloth not found - installing required packages...\")\n",
    "    import subprocess\n",
    "    \n",
    "    # Find uv in common locations\n",
    "    uv_paths = [\n",
    "        \"uv\",  # In PATH\n",
    "        os.path.expanduser(\"~/.venv/bin/uv\"),\n",
    "        os.path.expanduser(\"~/.cargo/bin/uv\"),\n",
    "        \"/usr/local/bin/uv\"\n",
    "    ]\n",
    "    \n",
    "    uv_cmd = None\n",
    "    for path in uv_paths:\n",
    "        try:\n",
    "            result = subprocess.run([path, \"--version\"], capture_output=True, timeout=2)\n",
    "            if result.returncode == 0:\n",
    "                uv_cmd = path\n",
    "                print(f\"   Found uv at: {path}\")\n",
    "                break\n",
    "        except (FileNotFoundError, subprocess.TimeoutExpired):\n",
    "            continue\n",
    "    \n",
    "    print(f\"\\nInstalling packages into: {sys.executable}\")\n",
    "    \n",
    "    if uv_cmd:\n",
    "        print(\"Using uv package manager...\\n\")\n",
    "        try:\n",
    "            subprocess.check_call([uv_cmd, \"pip\", \"install\", \"unsloth\"])\n",
    "            subprocess.check_call([uv_cmd, \"pip\", \"install\", \"transformers==4.56.2\"])\n",
    "            subprocess.check_call([uv_cmd, \"pip\", \"install\", \"--no-deps\", \"trl==0.22.2\"])\n",
    "            print(\"\\n✅ Installation complete\")\n",
    "        except subprocess.CalledProcessError as e:\n",
    "            print(f\"⚠️  uv install failed: {e}\")\n",
    "            uv_cmd = None  # Fall back to pip\n",
    "    \n",
    "    if not uv_cmd:\n",
    "        print(\"Using pip package manager...\\n\")\n",
    "        try:\n",
    "            # Ensure pip is available\n",
    "            subprocess.run([sys.executable, \"-m\", \"ensurepip\", \"--upgrade\"], \n",
    "                         capture_output=True, timeout=30)\n",
    "            # Install packages\n",
    "            subprocess.check_call([sys.executable, \"-m\", \"pip\", \"install\", \"-q\", \"unsloth\"])\n",
    "            subprocess.check_call([sys.executable, \"-m\", \"pip\", \"install\", \"-q\", \"transformers==4.56.2\"])\n",
    "            subprocess.check_call([sys.executable, \"-m\", \"pip\", \"install\", \"-q\", \"--no-deps\", \"trl==0.22.2\"])\n",
    "            print(\"\\n✅ Installation complete\")\n",
    "        except subprocess.CalledProcessError as e:\n",
    "            print(f\"❌ Installation failed: {e}\")\n",
    "            print(\"   This may be due to permission issues.\")\n",
    "            print(\"   Packages may already be installed - attempting to continue...\")\n",
    "    \n",
    "    # Verify installation\n",
    "    try:\n",
    "        from unsloth import FastLanguageModel\n",
    "        print(\"✅ Unsloth is now available\")\n",
    "    except ImportError as e:\n",
    "        print(f\"❌ Unsloth still not available: {e}\")\n",
    "        print(\"⚠️  Please check setup script ran successfully or restart instance\")"
   ]
  },
  {
   "cell_type": "markdown",
   "metadata": {
    "id": "OjifwNNZ7bMx"
   },
   "source": [
    "We will then install [OpenEnv](https://github.com/meta-pytorch/OpenEnv) from source:"
   ]
  },
  {
   "cell_type": "code",
   "execution_count": null,
   "metadata": {
    "id": "1yzMMSLR7dNj"
   },
   "outputs": [],
   "source": [
    "import sys\n",
    "\n",
    "subprocess.check_call([sys.executable, \"-m\", \"pip\", \"install\", '-qqq fastapi uvicorn requests open_spiel'])\n",
    "subprocess.run(['git clone https://github.com/meta-pytorch/OpenEnv.git > /dev/null 2>&1'], check=True, shell=True)\n",
    "%cd OpenEnv\n",
    "import subprocess, sys, os\n",
    "from pathlib import Path\n",
    "sys.path.insert(0, './src')\n",
    "working_directory = str(Path.cwd().parent.absolute() / \"OpenEnv\")"
   ]
  },
  {
   "cell_type": "markdown",
   "metadata": {
    "id": "CcLYwLyQLADE"
   },
   "source": [
    "We'll load GPT-OSS 20B and set some parameters:\n",
    "* `max_seq_length = 768` The maximum context length of the model. Increasing it will use more memory.\n",
    "* `lora_rank = 4` The larger this number, the smarter the RL process, but the slower and more memory usage`load_in_16bit` will be faster but will need a 64GB GPU or more (MI300)\n",
    "* `offload_embedding = True` New Unsloth optimization which moves the embedding to CPU RAM, reducing VRAM by 1GB."
   ]
  },
  {
   "cell_type": "code",
   "execution_count": null,
   "metadata": {
    "colab": {
     "base_uri": "https://localhost:8080/",
     "height": 688,
     "referenced_widgets": [
      "5bf4aba9c1644533a0da3498890c968b",
      "c35fa56428cf44a5b40dc72b97c6e1b8",
      "8a66e3473d9d43b2830c1b04b98aab59",
      "bc79bd08b1be479e92ea598172d4eb38",
      "fdfd1fbbb5b8436fb0bd832e8fbdcb1a",
      "889854bfc7be4cd7b239f888248143fb",
      "d06d6940187349749ec1d8fc6df83368",
      "0c29df9994bd446ea64b6fd12c72df5c",
      "be548d1cb2a74c8d8d1704f83f2b0b71",
      "53d1cd9cd1254f44a605e4bc8c0b2e09",
      "fe54248588764fdca9a71edaa2fd33dc",
      "4b721360c9344ee5be0eb5fcf7e9bc71",
      "ac56e65282de4cf697ef764bfbdbe073",
      "d21cf40090c14992a31e01b51fe098af",
      "60b0adbf515c4560b05f8f735e2b9c16",
      "0ebc4f1a3996476ca66df1e490202ba8",
      "561736050fd84bcab3365fc68885f59c",
      "50b3771a4a144a5798d6782a967c5f24",
      "d7829f4a99f9485da26f82c98c59d5d4",
      "e8d618b69e324a489c6754099b17ba01",
      "75177debbe8b47dc807057ee748932d5",
      "7af1634381ff4595abbcc53d8084c174",
      "6e0d900ac8464c9e9dbe45bd2c680ced",
      "fd64551b69f54525b5289f8ff48e07d2",
      "bec362a63b3e435f84218f3186719f67",
      "b88aee6989584d8b8cb7907719032455",
      "1598c7eb05454a17860d1883e72e330f",
      "1274511cbe584b1fa8012f06e7ce6725",
      "f8baf26da54a4fdbb7ad060723aa3193",
      "5b82f4ecf28046e0ac83e5c8441f56b3",
      "3606d1496cf0463e9b76ef7511dd4e18",
      "af1a6c191c9140d1a0408b12805121ab",
      "0c975c4cf0d4438b978f7c6dcc5b9f42",
      "d156a7fab56749638fb42cf8c1feb0f7",
      "35513f7ae8c04263a590486de15ecd21",
      "710a38315c4349e7b09180ece8172c44",
      "5d023b1e51184789832030b298ad837f",
      "13233dd974e2455b990bfc3e5a9f0329",
      "1d942aecf17c45f49012a808813736e8",
      "54c688b688d34276acbaed77040ce375",
      "e8d5a44b1d924fd78f516bf1ed84472e",
      "7c50545149bd44449c1cb5bf36252c52",
      "df1351b818da4b93bb6c88ab7d9dd32b",
      "dd3a402129fc40f3838ebeb11f5f770f",
      "66fe47c90a8a4f7abad4c56baafc4313",
      "8b6ea137f3304df3a11f601a2c8d036c",
      "69b7154f12c9481fa5461d11db995305",
      "26683c63f497494b813a1a9fa63b629d",
      "70dbf69140d34d9a96e226514a2051be",
      "4f3cf4c378db49b0a85bf367d0fd7ff0",
      "a6f09c0ae12a4869bc6faffcf6d5e7ed",
      "2d666c00ff51448faf340be6fdc794fe",
      "5b0e0e2d9f424f1ea64c9ad36842c3a7",
      "6d0fa90134544a6bac60021307818edb",
      "dc6bc2539cec43ddb0076b4ada70e859",
      "3d8a9f7a35f847c69d442f11ce30c9a6",
      "eda71020a3e44b06ab605aafeffbd79c",
      "8a651636925144989f704a0acfa4db98",
      "4f19aaa6b61a4ceda2b2d6a6035c278e",
      "8000cd32f8e14421bd24d29cf0305acf",
      "c3526f40d8424a7390cb9a8adf9ad44e",
      "e723541a11e34b4d993035733de95db3",
      "2206b5ba14c440f9ba45eae555bb8c5c",
      "2b3231a98005442aad2ce3a87783aab7",
      "d0c1ed73cd6b4117b47a89b30ff3a966",
      "835017cc625a416c8de50c61a949ce82",
      "5434f2380b9d4f4eaeb546cf84812d19",
      "aaedac48923046768b44e3d4d844bb12",
      "da31629201cb4776ad53288495f7dfde",
      "f3365711a36b4a51929deec9264f3e6d",
      "2758947ba48a4c56880e002d7a6eae17",
      "8904f31ab79a4204a4c9215843b41a56",
      "6bf64d482f064f669fadb5725cb29568",
      "dc552770ba1e48e88216961589692b96",
      "46ebc75c2d5d4e9ab4420d64b10b2911",
      "8d6cedf14a0f44b9bdfd0a494037e0aa",
      "1f988f8d8d5143e09a191e000561eb8a",
      "b6ade4c7b5994f73a098021d1c78e0fe",
      "a73f82f099e944b68d485212f4a21356",
      "2a362eb07e364e3a95fd3a0c2499b954",
      "282c2898db5c445d83fa60015b5586a4",
      "f0a64fe4d44644718fa457250bee4a0e",
      "169f602046834898936aacc5134c0acc",
      "ddac49c882c34456afd40c3c6026b4f4",
      "6d373bbe2c3446b5be5d9a186058efc8",
      "34592df2e61143c1845c834c928bbccc",
      "a74bf6b5f579495fbcb161c23b1b09bc",
      "0a27f46c28b0458f960cdb96fb569fbe",
      "6218c6233a104aa9ba5fd3a89c4bb32b",
      "c962891050864a27a06b3257d39218b0",
      "95c69e5a55504be098ad7d7b9334efa9",
      "c6e50485de784ef291a28125e6fcf394",
      "4929f73251c243e29ae00de77c34b9d4",
      "2f5a7867f59f4830a7499223f3589029",
      "fef0a5d82ba74307a5c72e204c3ed391",
      "c492fdac185d45e285080556808aa66e",
      "2d8812df8f18443e8f85e8a811c76a39",
      "70378127da9d45bbb85a304bd57bfa22",
      "29561bf8c8744abb865570a3117c1b06",
      "8d214427020645cb9afaae009b178df4",
      "7f7e817cadf9426580e1ac8f90955e00",
      "20406d14609446d394a628ddf044b819",
      "d57bf34601ed40c8b905d329a86972b9",
      "cdaf36709c02408c83cb1253b3df748a",
      "4692c109062940f4b3d5b30519364915",
      "6cfe735cc3c541bdb4e70fc115b4d4dc",
      "53aebc6467024398aa0761f832d6742c",
      "d2475adca5b84ccca70a4cdc17bc7d5b",
      "add3f5f8918a44989f331179e79b20f5",
      "4bc1fd345e1c4d0693cf92ae50a821d5",
      "3f4f2de9819e43cdb0190e3f237e0543",
      "da26af23bef448fc917b2341fdad9ee4",
      "aed6ead750fb40d0aa7a952b81c7d83b",
      "84908601a5d04f06ab108d1dce1b3dd9",
      "aa6ee084bf0142d29ff0dda6561d901c",
      "645a96eca4ae4196b1296e6f467fa1a2",
      "7000146e85964b70bd5026afe5ac4e24",
      "a9a176d1db484fcd814d7360c5c5a5ef",
      "a8457852ed6643c3b3ab27947376a37f",
      "6157316ffec24bdfb28dc23db5339c89",
      "c7481c2bc72142f998bd094d59a7d688",
      "2efabeddb0194391b58397d8fc5e3959",
      "9845c5893a4a48d4aafbf8c0b77041f0",
      "8a70c310d8384dc8a16f7b7700b04001",
      "d1b3f92d520d4ecab9549195447bdd1d",
      "27e68bf49787461e93430550db80f764",
      "decca7dd83b246f889b44c2ae30b4805",
      "55ea8e7874064f2788a2cd89f5de2142",
      "57c7f59f7f62484aa37d203c8fc781b2",
      "0a7a4aa2d1124987af64d81acf030934",
      "29c0704effcf4deab797c6386f8301ab",
      "c7d1f12ee17b46e39c617138e390d70f",
      "6de5fab961b9462a928dc0bed6ac5bfe",
      "251360eb5e6044a88d16c5d16e611c3f",
      "7598552f2109483b93b4ec6a8d996c7f",
      "293d7eb78e954dbe9b7b85a05a3e1643",
      "54c131c2a7b540868bb0a77675de3189",
      "fe476fbe0ef149aa81e43bbe54679a1f",
      "1e3755c8a331443eb7318588f055802d",
      "7e64a42f0edd479b829693d68cfa5fa1",
      "b03555559a5e426198a5dd34e73103fa",
      "3ac04aa6fb1b4ee0836931f051d9d675",
      "1525171e95b34ba3afe72c101ffdb284",
      "b5b772dfa8da48f68d53b246b1b00ab2",
      "7b4e3e877d654edcbe7e7ef5bb6c9438",
      "8a77c53d573e4c81a2171d4bfd27abeb",
      "79fc8ee42e2f4d949161d1189ad1f266",
      "769309e37fef48e3982f4bb1511dded7",
      "92f7130be8434cf0a3657db52a41251c",
      "78cd75c30f5041c1823f62829c3398ca",
      "79222877a7604315be6d2a60080ca2bf",
      "71a0c964a3c14ec99f2244a3b3817608",
      "d6f06c8f63264db7a8739f3065db4fcb",
      "f8d23b83308d470cbc3ba4df6535ba6f",
      "1352ee0682c54e55a5781c6fc8abba12",
      "f4c7c5b4b6ef4458a1ed9b0b7a8781c1",
      "2458c933147c43028b5c0802a18bf66d",
      "8868df0036954450b23d363b4d2d081f",
      "3c53f484a22040dc889492741ef9e6a6",
      "e1544e07d24a47a498609fdd162e7c9c",
      "1fce39ba490145a48f9d4eaa8e0f79bb",
      "31ee3c6676e5477e81a4bb8dd4764916",
      "71aa1f4c38eb45cd8a24b14f2cb3dc66",
      "9f3860f7bbe64cf88fcddd9aa4f317ce",
      "7d3a9f3fd67d40bfba2f69495420d2c8",
      "f5dfe218c4fd4349a2e16d20e9ae0316",
      "a74b68761f844f2baebadc4b67211040",
      "df9faed5a91a4848a3ba6b3c5a7a6181",
      "81805e68fa824e6daec3f4d550913add",
      "66146935dff9461b8140791bce9f4ccd",
      "4548bdaf76da46cd9fbc6c550bf9bdb1",
      "9883600b16204520ad13119c10f07bd0",
      "94f0aaac800a4c1d9fbb6b2be9a5ba93",
      "125d64feafcc4f13a94de2f8c51f80a1",
      "e7d1b7926c1e4b5e8710a56c379e01ab",
      "11ed6ad87ebb4fc2ab8537c283d15630"
     ]
    },
    "id": "DkIvEkIIkEyB",
    "outputId": "10580b2e-f8ec-4e3f-ea91-ee881b7c593f"
   },
   "outputs": [],
   "source": [
    "from unsloth import FastLanguageModel\n",
    "import torch\n",
    "max_seq_length = 768 # Can increase for longer RL output\n",
    "lora_rank = 4        # Larger rank = smarter, but slower\n",
    "model, tokenizer = FastLanguageModel.from_pretrained(\n",
    "    model_name = \"unsloth/gpt-oss-20b-BF16\",\n",
    "    load_in_4bit = False,\n",
    "    max_seq_length = max_seq_length,\n",
    "    device_map=\"auto\")"
   ]
  },
  {
   "cell_type": "markdown",
   "metadata": {
    "id": "TfeUs-lQJDSq"
   },
   "source": [
    "To do efficient RL, we will use [LoRA](https://arxiv.org/abs/2106.09685), which allows us to only add 1 to 5% of extra weights to the model for finetuning purposes. This allows us to save memory usage by over 60%, and yet it retains good accuracy. Read Unsloth's [GPT-OSS RL Guide](https://docs.unsloth.ai/new/gpt-oss-reinforcement-learning) for more details."
   ]
  },
  {
   "cell_type": "code",
   "execution_count": null,
   "metadata": {
    "colab": {
     "base_uri": "https://localhost:8080/"
    },
    "id": "8rGa-o3HJCo1",
    "outputId": "82e744f1-37d5-4c72-e955-b42d1fdd526b"
   },
   "outputs": [],
   "source": [
    "model = FastLanguageModel.get_peft_model(\n",
    "    model,\n",
    "    r = lora_rank, # Choose any number > 0 ! Suggested 8, 16, 32, 64, 128\n",
    "    target_modules = [\n",
    "        \"q_proj\", \"k_proj\", \"v_proj\", \"o_proj\",\n",
    "        \"gate_proj\", \"up_proj\", \"down_proj\",\n",
    "    ],\n",
    "    lora_alpha = lora_rank*2, # *2 speeds up training\n",
    "    use_gradient_checkpointing = \"unsloth\", # Reduces memory usage\n",
    "    random_state = 3407,\n",
    ")"
   ]
  },
  {
   "cell_type": "markdown",
   "metadata": {
    "id": "N0QnO9_YJBOI"
   },
   "source": [
    "# 2048 game environment with OpenEnv\n",
    "\n",
    "We first launch an OpenEnv process and import it! This will allows us to see how the 2048 implementation looks like!"
   ]
  },
  {
   "cell_type": "code",
   "execution_count": null,
   "metadata": {
    "id": "hQrG81XV87-7"
   },
   "outputs": [],
   "source": [
    "from envs.openspiel_env import OpenSpielEnv\n",
    "from envs.openspiel_env.models import OpenSpielAction, OpenSpielObservation"
   ]
  },
  {
   "cell_type": "markdown",
   "metadata": {
    "id": "-WT0Zu0IcN_r"
   },
   "source": [
    "We'll be using Unsloth's OpenEnv implementation and wrapping the `launch_openenv` with some setup arguments:"
   ]
  },
  {
   "cell_type": "code",
   "execution_count": null,
   "metadata": {
    "id": "zBIye94T8djG"
   },
   "outputs": [],
   "source": [
    "global port\n",
    "global openenv_process\n",
    "port = 9000\n",
    "openenv_process = None\n",
    "server = \"envs.openspiel_env.server.app:app\"\n",
    "environment = {\n",
    "    **os.environ,\n",
    "    \"PYTHONPATH\": f\"{working_directory}/src\",\n",
    "    \"OPENSPIEL_GAME\": \"2048\",\n",
    "    \"OPENSPIEL_AGENT_PLAYER\": \"0\",\n",
    "    \"OPENSPIEL_OPPONENT_POLICY\": \"random\",\n",
    "}\n",
    "\n",
    "# Augment Unsloth's OpenEnv creation function\n",
    "import functools\n",
    "from unsloth import is_port_open, launch_openenv\n",
    "launch_openenv = functools.partial(\n",
    "    launch_openenv,\n",
    "    working_directory = working_directory,\n",
    "    server = server,\n",
    "    environment = environment,\n",
    "    openenv_class = OpenSpielEnv,\n",
    ")"
   ]
  },
  {
   "cell_type": "markdown",
   "metadata": {
    "id": "P3rMiKLl9Ro2"
   },
   "source": [
    "Let's see how the current 2048 game state looks like:"
   ]
  },
  {
   "cell_type": "code",
   "execution_count": null,
   "metadata": {
    "colab": {
     "base_uri": "https://localhost:8080/"
    },
    "id": "uBPx0Hho9Xi1",
    "outputId": "44ad443f-a8dd-475c-dce4-09df38bed223"
   },
   "outputs": [],
   "source": [
    "port, openenv_process = launch_openenv(port, openenv_process)\n",
    "result = openenv_process.reset()\n",
    "current_state = result.observation\n",
    "current_state"
   ]
  },
  {
   "cell_type": "markdown",
   "metadata": {
    "id": "4Qz1tRVTAii8"
   },
   "source": [
    "First let's convert the state into a list of list of numbers!"
   ]
  },
  {
   "cell_type": "code",
   "execution_count": null,
   "metadata": {
    "colab": {
     "base_uri": "https://localhost:8080/"
    },
    "id": "7PVeoKW2AmKr",
    "outputId": "eef2bd8c-866b-4036-bf56-534c0028e2ae"
   },
   "outputs": [],
   "source": [
    "import numpy as np\n",
    "def convert_to_board(current_state):\n",
    "    n = len(current_state.info_state)\n",
    "    size = int(np.sqrt(n))\n",
    "    board = np.array_split(np.array(current_state.info_state, dtype = int), size)\n",
    "    board = [x.tolist() for x in board]\n",
    "    return board, size\n",
    "convert_to_board(current_state)"
   ]
  },
  {
   "cell_type": "markdown",
   "metadata": {
    "id": "hCS56yu29dsG"
   },
   "source": [
    "We also want to pretty print the game board!"
   ]
  },
  {
   "cell_type": "code",
   "execution_count": null,
   "metadata": {
    "cellView": "form",
    "id": "D9CI4jtgL5mw"
   },
   "outputs": [],
   "source": [
    "#@title (Collapsible) 2048 Game Renderer\n",
    "def render_board(obs, colors: bool = True, border: bool = True, dot_for_zero: bool = True) -> str:\n",
    "    \"\"\"\n",
    "    Pretty-print the board with colors that scale from 0 up to self.target.\n",
    "    Uses ANSI 256-color codes (works in most terminals). Set colors=False to disable.\n",
    "    \"\"\"\n",
    "    import math\n",
    "    b, size = convert_to_board(obs)\n",
    "    mx = max((max(row) for row in b), default=0)\n",
    "    cell_w = max(3, len(str(mx)))\n",
    "\n",
    "    RESET = \"\\x1b[0m\"\n",
    "\n",
    "    # A smooth-ish gradient from cool → warm\n",
    "    # (blue/cyan/green → yellow/orange/red). Tweak or expand as you like.\n",
    "    GRAD = [33, 39, 45, 51, 50, 49, 48, 47, 46, 82, 118, 154, 190, 226, 220, 214, 208, 202, 196]\n",
    "    ZERO_FG = 239  # dim gray\n",
    "\n",
    "    def color_code(v: int) -> str:\n",
    "        if not colors:\n",
    "            return \"\"\n",
    "        if v == 0:\n",
    "            return f\"\\x1b[38;5;{ZERO_FG}m\"\n",
    "        # Normalize by exponent relative to target: r in [0,1]\n",
    "        t = max(2, 2048)  # safety; avoid log2(1)\n",
    "        # Guard: if v is not a power of two or is <1, handle gracefully\n",
    "        try:\n",
    "            r = max(0.0, min(1.0, math.log2(v) / math.log2(t)))\n",
    "        except ValueError:\n",
    "            r = 0.0\n",
    "        idx = int(round(r * (len(GRAD) - 1)))\n",
    "        return f\"\\x1b[38;5;{GRAD[idx]}m\"\n",
    "\n",
    "    def fmt(v: int) -> str:\n",
    "        s = \".\" if (v == 0 and dot_for_zero) else str(v)\n",
    "        s = s.rjust(cell_w)\n",
    "        return color_code(v) + s + (RESET if colors else \"\")\n",
    "\n",
    "    def hline(left: str, mid: str, right: str) -> str:\n",
    "        return left + mid.join(\"─\" * cell_w for _ in range(size)) + right\n",
    "\n",
    "    rows = []\n",
    "    if border:\n",
    "        rows.append(hline(\"┌\", \"┬\", \"┐\"))\n",
    "    for r in range(size):\n",
    "        content = \"│\".join(fmt(v) for v in b[r])\n",
    "        rows.append((\"│\" + content + \"│\") if border else content)\n",
    "        if border:\n",
    "            rows.append(hline(\"└\" if r == size - 1 else \"├\",\n",
    "                            \"┴\" if r == size - 1 else \"┼\",\n",
    "                            \"┘\" if r == size - 1 else \"┤\"))\n",
    "    return \"\\n\".join(rows)"
   ]
  },
  {
   "cell_type": "code",
   "execution_count": null,
   "metadata": {
    "colab": {
     "base_uri": "https://localhost:8080/"
    },
    "id": "DAJE2LUo9oRR",
    "outputId": "56e97621-b093-4c20-f366-74b4da1a2e82"
   },
   "outputs": [],
   "source": [
    "print(render_board(current_state))"
   ]
  },
  {
   "cell_type": "markdown",
   "metadata": {
    "id": "0AhUa4hW-Dji"
   },
   "source": [
    "We can see the `legal_actions` ie what you can take as `[0, 1, 2, 3]` Let's try doing the action `0`."
   ]
  },
  {
   "cell_type": "code",
   "execution_count": null,
   "metadata": {
    "colab": {
     "base_uri": "https://localhost:8080/"
    },
    "id": "b-gSgthFI_wq",
    "outputId": "47730df3-8e11-444c-929b-98b7ac7141bc"
   },
   "outputs": [],
   "source": [
    "action = OpenSpielAction(action_id = 0, game_name = \"2048\")\n",
    "result = openenv_process.step(action)\n",
    "current_state = result.observation\n",
    "print(render_board(current_state))"
   ]
  },
  {
   "cell_type": "markdown",
   "metadata": {
    "id": "lPSNb8-A-iPn"
   },
   "source": [
    "So it looks like `0` is a move up action! Let's try `1`."
   ]
  },
  {
   "cell_type": "code",
   "execution_count": null,
   "metadata": {
    "colab": {
     "base_uri": "https://localhost:8080/"
    },
    "id": "IUel11Tc-oLB",
    "outputId": "c3c83d33-0e01-48f8-92bb-9e442e9c3125"
   },
   "outputs": [],
   "source": [
    "action = OpenSpielAction(action_id = 1, game_name = \"2048\")\n",
    "result = openenv_process.step(action)\n",
    "current_state = result.observation\n",
    "print(render_board(current_state))"
   ]
  },
  {
   "cell_type": "markdown",
   "metadata": {
    "id": "nUlOshVe-qNL"
   },
   "source": [
    "`1` is a move right action. And `2`:"
   ]
  },
  {
   "cell_type": "code",
   "execution_count": null,
   "metadata": {
    "colab": {
     "base_uri": "https://localhost:8080/"
    },
    "id": "XU09-KA3-sqs",
    "outputId": "c159f0df-8392-495d-903d-bd3fd39f4638"
   },
   "outputs": [],
   "source": [
    "action = OpenSpielAction(action_id = 2, game_name = \"2048\")\n",
    "result = openenv_process.step(action)\n",
    "current_state = result.observation\n",
    "print(render_board(current_state))"
   ]
  },
  {
   "cell_type": "markdown",
   "metadata": {
    "id": "X2r7Zqw9-u-d"
   },
   "source": [
    "`2` is a move down. And I guess `3` is just move left!"
   ]
  },
  {
   "cell_type": "code",
   "execution_count": null,
   "metadata": {
    "colab": {
     "base_uri": "https://localhost:8080/"
    },
    "id": "pFgspqn6-zd2",
    "outputId": "9d00cd13-b0ce-4430-ca6a-103174449c42"
   },
   "outputs": [],
   "source": [
    "action = OpenSpielAction(action_id = 3, game_name = \"2048\")\n",
    "result = openenv_process.step(action)\n",
    "current_state = result.observation\n",
    "print(render_board(current_state))"
   ]
  },
  {
   "cell_type": "markdown",
   "metadata": {
    "id": "RJP4TsDq-2ft"
   },
   "source": [
    "We can also print the game status which indicates if no more moves are possible, and also the possible actions you can take!"
   ]
  },
  {
   "cell_type": "code",
   "execution_count": null,
   "metadata": {
    "colab": {
     "base_uri": "https://localhost:8080/"
    },
    "id": "MEa2ngmrvfNm",
    "outputId": "06ad07a4-c2aa-4f2d-d188-b7529440f6aa"
   },
   "outputs": [],
   "source": [
    "print(current_state.done)\n",
    "print(current_state.legal_actions)"
   ]
  },
  {
   "cell_type": "markdown",
   "metadata": {
    "id": "VR6czU96cpxf"
   },
   "source": [
    "# RL Environment Setup\n",
    "\n",
    "We'll set up a function to accept some strategy that'll emit an action within `0123` and check the game state.\n",
    "\n",
    "We'll also add a timer to only execute the stratgegy for 2 seconds maximum, otherwise it might never terminate!"
   ]
  },
  {
   "cell_type": "code",
   "execution_count": null,
   "metadata": {
    "id": "tdgjnf-8z_kr"
   },
   "outputs": [],
   "source": [
    "from typing import Callable\n",
    "from unsloth import execute_with_time_limit\n",
    "import itertools\n",
    "\n",
    "def _execute_strategy(strategy, current_state : OpenSpielObservation):\n",
    "    assert callable(strategy)\n",
    "\n",
    "    steps = 0\n",
    "    total_reward = 0\n",
    "    while not current_state.done:\n",
    "        board, size = convert_to_board(current_state)\n",
    "        action = strategy(board)\n",
    "        try:\n",
    "            action = int(action)\n",
    "        except:\n",
    "            return steps, False\n",
    "        steps += 1\n",
    "        if type(action) is not int or action not in current_state.legal_actions:\n",
    "            return steps, max(itertools.chain.from_iterable(board)) == 2048\n",
    "\n",
    "        global port, openenv_process\n",
    "        port, openenv_process = launch_openenv(port, openenv_process)\n",
    "        action = OpenSpielAction(action_id = action, game_name = \"2048\")\n",
    "        result = openenv_process.step(action)\n",
    "        current_state = result.observation\n",
    "        if result.reward is not None:\n",
    "            total_reward += result.reward\n",
    "    return steps, max(itertools.chain.from_iterable(board)) == 2048\n",
    "\n",
    "@execute_with_time_limit(2)\n",
    "def execute_strategy(strategy : Callable, current_state : OpenSpielObservation):\n",
    "    return _execute_strategy(strategy, current_state)"
   ]
  },
  {
   "cell_type": "markdown",
   "metadata": {
    "id": "ywh0HizI9ayE"
   },
   "source": [
    "Let's make a generic strategy to just hit `3`. We should expect this generic strategy to fail:"
   ]
  },
  {
   "cell_type": "code",
   "execution_count": null,
   "metadata": {
    "colab": {
     "base_uri": "https://localhost:8080/"
    },
    "id": "5bkhqoZc0IO8",
    "outputId": "cdf7ecc4-2e61-4a89-b2e0-8650a173fec7"
   },
   "outputs": [],
   "source": [
    "def always_move_left(board):\n",
    "    return 3\n",
    "\n",
    "# Reset OpenEnv to an initial state!\n",
    "port, openenv_process = launch_openenv(port, openenv_process)\n",
    "result = openenv_process.reset()\n",
    "current_state = result.observation\n",
    "try:\n",
    "    steps, if_done = execute_strategy(always_move_left, current_state)\n",
    "except TimeoutError as e:\n",
    "    print(f\"Timed out with error = {str(e)}\")\n",
    "\n",
    "steps, if_done"
   ]
  },
  {
   "cell_type": "markdown",
   "metadata": {
    "id": "dkuHVdB09sgf"
   },
   "source": [
    "To allow longer strategies for GPT-OSS Reinforcement Learning, we shall allow a 5 second timer."
   ]
  },
  {
   "cell_type": "code",
   "execution_count": null,
   "metadata": {
    "id": "SK-LfzsA9wbW"
   },
   "outputs": [],
   "source": [
    "@execute_with_time_limit(5)\n",
    "def execute_strategy(strategy : Callable, current_state : OpenSpielObservation):\n",
    "    return _execute_strategy(strategy, current_state)"
   ]
  },
  {
   "cell_type": "markdown",
   "metadata": {
    "id": "tRhLV_bZMYxy"
   },
   "source": [
    "# Code Execution\n",
    "\n",
    "To execute and create a new Python function, we first have to check if the function does not call other global variables or cheat. This is called `countering reward hacking` since we don't want the function to cheat.\n",
    "\n",
    "For example the below piece of code is fine, since it only imports Python level functions. We use `check_python_modules`:"
   ]
  },
  {
   "cell_type": "code",
   "execution_count": null,
   "metadata": {
    "colab": {
     "base_uri": "https://localhost:8080/"
    },
    "id": "zz80kvg6M4BG",
    "outputId": "05788b0a-6464-429d-f8ff-1b32b4e7f12b"
   },
   "outputs": [],
   "source": [
    "from unsloth import check_python_modules\n",
    "\n",
    "sample = \"\"\"\n",
    "def strategy(board):\n",
    "    import math\n",
    "    from typing import Callable\n",
    "    return \"0\"\n",
    "\"\"\"\n",
    "ok, info = check_python_modules(sample)\n",
    "print(\"Only Python imports?\", ok)\n",
    "print(info)"
   ]
  },
  {
   "cell_type": "markdown",
   "metadata": {
    "id": "bZzVWgKQ-VIg"
   },
   "source": [
    "For the below piece of code, since we import `numpy`, we should not allow the execution:"
   ]
  },
  {
   "cell_type": "code",
   "execution_count": null,
   "metadata": {
    "colab": {
     "base_uri": "https://localhost:8080/"
    },
    "id": "Z89Jw1KB-Ux7",
    "outputId": "490133f4-c9ac-4df5-b874-5977772f3c66"
   },
   "outputs": [],
   "source": [
    "sample = \"\"\"\n",
    "def strategy(board):\n",
    "    from numpy import matmul\n",
    "    return \"0\"\n",
    "\"\"\"\n",
    "ok, info = check_python_modules(sample)\n",
    "print(\"Only Python imports?\", ok)\n",
    "print(info)"
   ]
  },
  {
   "cell_type": "markdown",
   "metadata": {
    "id": "SDSrjOTLVyQm"
   },
   "source": [
    "We also disallow global variable access. We'll use Unsloth's `create_locked_down_function` function\n"
   ]
  },
  {
   "cell_type": "code",
   "execution_count": null,
   "metadata": {
    "colab": {
     "base_uri": "https://localhost:8080/"
    },
    "id": "GcmYAmohVqw2",
    "outputId": "5f707b8f-6295-42b2-8126-509650dc7b6d"
   },
   "outputs": [],
   "source": [
    "from unsloth import create_locked_down_function\n",
    "function = \"\"\"\n",
    "def import_numpy():\n",
    "    np.matmul\n",
    "    print(\"Success\")\n",
    "\"\"\"\n",
    "f = create_locked_down_function(function)\n",
    "try:\n",
    "    f()\n",
    "except Exception as e:\n",
    "    print(str(e))"
   ]
  },
  {
   "cell_type": "code",
   "execution_count": null,
   "metadata": {
    "colab": {
     "base_uri": "https://localhost:8080/"
    },
    "id": "5tJKwLUgZsRq",
    "outputId": "885a9596-a052-444f-8f8d-0c71bda89899"
   },
   "outputs": [],
   "source": [
    "from unsloth import create_locked_down_function\n",
    "function = \"\"\"\n",
    "def add(a, b):\n",
    "    def adder(a):\n",
    "        return a + b\n",
    "    return adder(b) + b\n",
    "\"\"\"\n",
    "f = create_locked_down_function(function)\n",
    "try:\n",
    "    print(f(10, 20))\n",
    "except Exception as e:\n",
    "    print(str(e))"
   ]
  },
  {
   "cell_type": "markdown",
   "metadata": {
    "id": "8CzwCyXIPK04"
   },
   "source": [
    "# Data & RL task setup\n",
    "\n",
    "We now have to create a prompt to tell the model to create a strategy for the 2048 game. You can customize this to some other task for another RL task."
   ]
  },
  {
   "cell_type": "code",
   "execution_count": null,
   "metadata": {
    "colab": {
     "base_uri": "https://localhost:8080/"
    },
    "id": "B-2RRE4HMrQO",
    "outputId": "b45dd3e3-5583-4a29-b46d-127fd8382e32"
   },
   "outputs": [],
   "source": [
    "prompt = \"\"\"\n",
    "Create a new short 2048 strategy using only native Python code.\n",
    "You are given a list of list of numbers for the current board state.\n",
    "Output one action for \"0\", \"1\", \"2\", \"3\" on what is the optimal next step.\n",
    "Output your new short function in backticks using the format below:\n",
    "```python\n",
    "def strategy(board):\n",
    "    return \"0\" # Example\n",
    "```\n",
    "All helper functions should be inside def strategy. Only output the short function `strategy`.\n",
    "\"\"\".strip()\n",
    "print(prompt)"
   ]
  },
  {
   "cell_type": "markdown",
   "metadata": {
    "id": "MIdudFUodN4i"
   },
   "source": [
    "First, let's prompt GPT-OSS without RL and see how it goes:"
   ]
  },
  {
   "cell_type": "code",
   "execution_count": null,
   "metadata": {
    "colab": {
     "base_uri": "https://localhost:8080/"
    },
    "id": "9HJxrS76h3Ds",
    "outputId": "9a669693-719e-4a98-a527-6c7394b04708"
   },
   "outputs": [],
   "source": [
    "# Fix torch compilation cache permissions\n",
    "import os\n",
    "import shutil\n",
    "\n",
    "# Test if /ephemeral is writable (not just readable)\n",
    "use_ephemeral = False\n",
    "if os.path.exists(\"/ephemeral\"):\n",
    "    try:\n",
    "        test_file = \"/ephemeral/.write_test\"\n",
    "        with open(test_file, \"w\") as f:\n",
    "            f.write(\"test\")\n",
    "        os.remove(test_file)\n",
    "        use_ephemeral = True\n",
    "    except (PermissionError, OSError):\n",
    "        pass\n",
    "\n",
    "if use_ephemeral:\n",
    "    cache_dir = \"/ephemeral/torch_cache\"\n",
    "    triton_cache = \"/ephemeral/triton_cache\"\n",
    "    tmpdir = \"/ephemeral/tmp\"\n",
    "else:\n",
    "    cache_dir = os.path.expanduser(\"~/.cache/torch/inductor\")\n",
    "    triton_cache = os.path.expanduser(\"~/.cache/triton\")\n",
    "    tmpdir = os.path.expanduser(\"~/.cache/tmp\")\n",
    "\n",
    "# Create directories with full write permissions\n",
    "for d in [cache_dir, triton_cache, tmpdir]:\n",
    "    os.makedirs(d, mode=0o777, exist_ok=True)\n",
    "\n",
    "# Set ALL PyTorch/Triton cache and temp directories\n",
    "os.environ[\"TORCHINDUCTOR_CACHE_DIR\"] = cache_dir\n",
    "os.environ[\"TORCH_COMPILE_DIR\"] = cache_dir\n",
    "os.environ[\"TRITON_CACHE_DIR\"] = triton_cache\n",
    "os.environ[\"TMPDIR\"] = tmpdir  # Override system /tmp\n",
    "os.environ[\"TEMP\"] = tmpdir\n",
    "os.environ[\"TMP\"] = tmpdir\n",
    "\n",
    "# Clean up any old compiled caches\n",
    "old_cache = os.path.join(os.getcwd(), \"unsloth_compiled_cache\")\n",
    "if os.path.exists(old_cache):\n",
    "    shutil.rmtree(old_cache, ignore_errors=True)\n",
    "\n",
    "print(f\"✅ Torch cache: {cache_dir}\")\n",
    "print(f\"✅ Temp dir: {tmpdir}\")\n",
    "\n",
    "text = tokenizer.apply_chat_template(\n",
    "    [{\"role\": \"user\", \"content\": prompt}],\n",
    "    tokenize = False,\n",
    "    add_generation_prompt = True,\n",
    "    reasoning_effort = \"low\",\n",
    ")\n",
    "\n",
    "from transformers import TextStreamer\n",
    "_ = model.generate(\n",
    "    **tokenizer(text, return_tensors = \"pt\").to(\"cuda\"),\n",
    "    temperature = 1.0,\n",
    "    max_new_tokens = 512,\n",
    "    streamer = TextStreamer(tokenizer, skip_prompt = False),\n",
    ")"
   ]
  },
  {
   "cell_type": "markdown",
   "metadata": {
    "id": "iknaWZNudTNq"
   },
   "source": [
    "# Reward functions\n",
    "\n",
    "We now design a `extract_function` function which simply extracts the function wrapped in 3 back ticks.\n",
    "\n",
    "And 3 reward functions:\n",
    "\n",
    "1. `function_works` which rewards the model if the strategy is a valid Python function.\n",
    "2. `no_cheating` which checks if the function imported other modules, and if it did, we penalize it.\n",
    "3. `strategy_succeeds` which checks if the game strategy actually succeeds in attaining 2048 after running the auto-generated strategy."
   ]
  },
  {
   "cell_type": "code",
   "execution_count": null,
   "metadata": {
    "colab": {
     "base_uri": "https://localhost:8080/"
    },
    "id": "8JJGXKdJ-Zl_",
    "outputId": "4e6078c7-5b83-4a34-d76c-9475052d7ebe"
   },
   "outputs": [],
   "source": [
    "def extract_function(text):\n",
    "    if text.count(\"```\") >= 2:\n",
    "        first = text.find(\"```\") + 3\n",
    "        second = text.find(\"```\", first)\n",
    "        fx = text[first : second].strip()\n",
    "        fx = fx.removeprefix(\"python\\n\")\n",
    "        fx = fx[fx.find(\"def\"):]\n",
    "        if fx.startswith(\"def strategy(board):\"): return fx\n",
    "    return None\n",
    "print(extract_function(prompt))"
   ]
  },
  {
   "cell_type": "markdown",
   "metadata": {
    "id": "KLXEcf_HSJlI"
   },
   "source": [
    "Below is our `function_works` reward function which uses Python's `exec` but guarded by not allowing leakage of local and global variables. We can also use `check_python_modules` first to check if there are errors before even executing the function:"
   ]
  },
  {
   "cell_type": "code",
   "execution_count": null,
   "metadata": {
    "colab": {
     "base_uri": "https://localhost:8080/"
    },
    "id": "h3-B0IIsS56S",
    "outputId": "1d5b0e9f-d91a-476b-8ea3-8c698cc95dec"
   },
   "outputs": [],
   "source": [
    "ok, info = check_python_modules(\"def a\")\n",
    "ok, info"
   ]
  },
  {
   "cell_type": "code",
   "execution_count": null,
   "metadata": {
    "id": "qgFNXORy-lpO"
   },
   "outputs": [],
   "source": [
    "def function_works(completions, **kwargs):\n",
    "    scores = []\n",
    "    for completion in completions:\n",
    "        score = 0\n",
    "        response = completion[0][\"content\"]\n",
    "        function = extract_function(response)\n",
    "        if function is not None:\n",
    "            ok, info = check_python_modules(function)\n",
    "        if function is None or \"error\" in info:\n",
    "            score = -2.0\n",
    "        else:\n",
    "            try:\n",
    "                new_strategy = create_locked_down_function(function)\n",
    "                score = 1.0\n",
    "            except:\n",
    "                score = -0.5\n",
    "        scores.append(score)\n",
    "    return scores"
   ]
  },
  {
   "cell_type": "markdown",
   "metadata": {
    "id": "Gf69i2WT-m4K"
   },
   "source": [
    "`no_cheating` checks if the function cheated since it might have imported Numpy or other functions:"
   ]
  },
  {
   "cell_type": "code",
   "execution_count": null,
   "metadata": {
    "id": "cUfHzCVx-nGK"
   },
   "outputs": [],
   "source": [
    "def no_cheating(completions, **kwargs):\n",
    "    scores = []\n",
    "    for completion in completions:\n",
    "        score = 0\n",
    "        response = completion[0][\"content\"]\n",
    "        function = extract_function(response)\n",
    "        if function is not None:\n",
    "            ok, info = check_python_modules(function)\n",
    "            scores.append(1.0 if ok else -20.0) # Penalize heavily!\n",
    "        else:\n",
    "            scores.append(-1.0) # Failed creating function\n",
    "    return scores"
   ]
  },
  {
   "cell_type": "markdown",
   "metadata": {
    "id": "slnqWG3FTror"
   },
   "source": [
    "Next `strategy_succeeds` checks if the strategy actually allows the game to terminate. Imagine if the strategy simply returned \"0\" which would fail after a time limit of 10 seconds.\n",
    "\n",
    "We also add a global `PRINTER` to print out the strategy and board state."
   ]
  },
  {
   "cell_type": "code",
   "execution_count": null,
   "metadata": {
    "id": "sNi129lYTpZ2"
   },
   "outputs": [],
   "source": [
    "import numpy as np\n",
    "global PRINTER\n",
    "PRINTER = 0\n",
    "def strategy_succeeds(completions, **kwargs):\n",
    "    global PRINTER\n",
    "    scores = []\n",
    "    for completion in completions:\n",
    "        printed = False\n",
    "        score = 0\n",
    "        response = completion[0][\"content\"]\n",
    "        function = extract_function(response)\n",
    "        if PRINTER % 5 == 0:\n",
    "            printed = True\n",
    "            print(function)\n",
    "        PRINTER += 1\n",
    "        if function is not None:\n",
    "            ok, info = check_python_modules(function)\n",
    "        if function is None or \"error\" in info:\n",
    "            scores.append(0)\n",
    "            continue\n",
    "        try:\n",
    "            new_strategy = create_locked_down_function(function)\n",
    "        except:\n",
    "            scores.append(0)\n",
    "            continue\n",
    "        try:\n",
    "            # Reset OpenEnv to an initial state!\n",
    "            global port, openenv_process\n",
    "            port, openenv_process = launch_openenv(port, openenv_process)\n",
    "            result = openenv_process.reset()\n",
    "            current_state = result.observation\n",
    "            steps, if_done = execute_strategy(new_strategy, current_state)\n",
    "            print(f\"Steps = {steps} If Done = {if_done}\")\n",
    "            if printed is False:\n",
    "                print(function)\n",
    "            print(render_board(current_state))\n",
    "            if if_done:\n",
    "                scores.append(20.0) # Success - massively reward!\n",
    "            else:\n",
    "                scores.append(2.0) # Failed but function works!\n",
    "        except TimeoutError as e:\n",
    "            print(\"Timeout\")\n",
    "            scores.append(-1.0) # Failed with timeout\n",
    "        except Exception as e:\n",
    "            print(f\"Exception = {str(e)}\")\n",
    "            scores.append(-3.0) # Failed\n",
    "    return scores"
   ]
  },
  {
   "cell_type": "markdown",
   "metadata": {
    "id": "TCpSxtvSeAG_"
   },
   "source": [
    "We'll now create the dataset which includes a replica of our prompt. Remember to add a reasoning effort of low! You can choose high reasoning mode, but this'll only work on more memory GPUs like MI300s."
   ]
  },
  {
   "cell_type": "code",
   "execution_count": null,
   "metadata": {
    "colab": {
     "base_uri": "https://localhost:8080/"
    },
    "id": "Ldf6SjLHVPRv",
    "outputId": "15c87591-ce8b-4104-9765-b97f908c55a3"
   },
   "outputs": [],
   "source": [
    "from datasets import Dataset\n",
    "dataset = Dataset.from_list([{\"prompt\" : [{\"role\": \"user\", \"content\": prompt.strip()}], \"answer\" : 0, \"reasoning_effort\": \"low\"}]*1000)\n",
    "maximum_length = len(tokenizer.apply_chat_template([{\"role\": \"user\", \"content\": prompt.strip()}], add_generation_prompt = True))\n",
    "print(maximum_length)\n",
    "dataset[0]"
   ]
  },
  {
   "cell_type": "markdown",
   "metadata": {
    "id": "9-IOMhVg-2AM"
   },
   "source": [
    "<a name=\"Train\"></a>\n",
    "### Train the model\n",
    "\n",
    "Now set up GRPO Trainer and all configurations! We also support GSPO, GAPO, Dr GRPO and more! Go the Unsloth [Reinforcement Learning Docs](https://docs.unsloth.ai/get-started/reinforcement-learning-rl-guide) for more options.\n",
    "\n",
    "We're also using [TrackIO](https://github.com/gradio-app/trackio) which allows you to visualize all training metrics straight inside the notebook fully locally!"
   ]
  },
  {
   "cell_type": "code",
   "execution_count": null,
   "metadata": {
    "colab": {
     "base_uri": "https://localhost:8080/"
    },
    "id": "ptqkXK2D4d6p",
    "outputId": "8a34f394-6ef9-439d-9929-aa889983b4a1"
   },
   "outputs": [],
   "source": [
    "max_prompt_length = maximum_length + 1 # + 1 just in case!\n",
    "max_completion_length = max_seq_length - max_prompt_length\n",
    "\n",
    "from trl import GRPOConfig, GRPOTrainer\n",
    "training_args = GRPOConfig(\n",
    "    temperature = 1.0,\n",
    "    learning_rate = 5e-5,\n",
    "    weight_decay = 0.01,\n",
    "    warmup_ratio = 0.1,\n",
    "    lr_scheduler_type = \"linear\",\n",
    "    optim = \"adamw_8bit\",\n",
    "    logging_steps = 1,\n",
    "    per_device_train_batch_size=2,\n",
    "    gradient_accumulation_steps = 1, # Increase to 4 for smoother training\n",
    "    num_generations = 2, # Decrease if out of memory\n",
    "    max_prompt_length = max_prompt_length,\n",
    "    max_completion_length = max_completion_length,\n",
    "    # num_train_epochs = 1, # Set to 1 for a full training run\n",
    "    max_steps = 600,\n",
    "    save_steps = 100,\n",
    "    report_to = \"none\", # Can use Weights & Biases, TrackIO\n",
    "    output_dir=\"/workspace/outputs\",\n",
    "\n",
    "    # For optional training + evaluation\n",
    "    # fp16_full_eval = True,\n",
    "    # per_device_eval_batch_size = 4,\n",
    "    # eval_accumulation_steps = 1,\n",
    "    # eval_strategy = \"steps\",\n",
    "    # eval_steps = 1,\n",
    ")"
   ]
  },
  {
   "cell_type": "markdown",
   "metadata": {
    "id": "r9Mv8UZO5hz-"
   },
   "source": [
    "And let's run the trainer! If you scroll up, you'll see a table of rewards. The goal is to see the `reward` column increase!\n",
    "\n",
    "You might have to wait 150 to 200 steps for any action. You'll probably get 0 reward for the first 100 steps. Please be patient!\n",
    "\n",
    "| Step | Training Loss | reward    | reward_std | completion_length | kl       |\n",
    "|------|---------------|-----------|------------|-------------------|----------|\n",
    "| 1    | 0.000000      | 0.125000  | 0.000000   | 200.000000        | 0.000000 |\n",
    "| 2    | 0.000000      | 0.072375  | 0.248112   | 200.000000        | 0.000000 |\n",
    "| 3    | 0.000000      | -0.079000 | 0.163776   | 182.500000        | 0.000005 |\n"
   ]
  },
  {
   "cell_type": "code",
   "execution_count": null,
   "metadata": {
    "id": "vzOuSVCL_GA9"
   },
   "outputs": [],
   "source": [
    "# For optional training + evaluation\n",
    "# new_dataset = dataset.train_test_split(test_size = 0.01)\n",
    "\n",
    "trainer = GRPOTrainer(\n",
    "    model = model,\n",
    "    processing_class = tokenizer,\n",
    "    reward_funcs = [\n",
    "        function_works,\n",
    "        no_cheating,\n",
    "        strategy_succeeds,\n",
    "    ],\n",
    "    args = training_args,\n",
    "    train_dataset = dataset,\n",
    "\n",
    "    # For optional training + evaluation\n",
    "    # train_dataset = new_dataset[\"train\"],\n",
    "    # eval_dataset = new_dataset[\"test\"],\n",
    ")"
   ]
  },
  {
   "cell_type": "markdown",
   "metadata": {
    "id": "fQhtuwP4cf34"
   },
   "source": [
    "And let's train the model! **NOTE** This might be quite slow! 600 steps takes ~5 hours or longer.\n",
    "\n",
    "[TrackIO](https://github.com/gradio-app/trackio) might be a bit slow to load - wait 2 minutes until the graphs pop up!"
   ]
  },
  {
   "cell_type": "code",
   "execution_count": null,
   "metadata": {
    "colab": {
     "base_uri": "https://localhost:8080/",
     "height": 1000
    },
    "id": "VGRxPdSCcfC3",
    "outputId": "471d9c5f-dd39-4d36-e152-eb03aa8c226b"
   },
   "outputs": [],
   "source": [
    "trainer.train()"
   ]
  },
  {
   "cell_type": "markdown",
   "metadata": {
    "id": "tlaUdxC_VHpz"
   },
   "source": [
    "<a name=\"Inference\"></a>\n",
    "# Inference\n",
    "Now let's try the model we just trained!"
   ]
  },
  {
   "cell_type": "code",
   "execution_count": null,
   "metadata": {
    "id": "TwZygRdWf8ab"
   },
   "outputs": [],
   "source": [
    "# Fix torch compilation cache permissions\n",
    "import os\n",
    "import shutil\n",
    "\n",
    "# Test if /ephemeral is writable (not just readable)\n",
    "use_ephemeral = False\n",
    "if os.path.exists(\"/ephemeral\"):\n",
    "    try:\n",
    "        test_file = \"/ephemeral/.write_test\"\n",
    "        with open(test_file, \"w\") as f:\n",
    "            f.write(\"test\")\n",
    "        os.remove(test_file)\n",
    "        use_ephemeral = True\n",
    "    except (PermissionError, OSError):\n",
    "        pass\n",
    "\n",
    "if use_ephemeral:\n",
    "    cache_dir = \"/ephemeral/torch_cache\"\n",
    "    triton_cache = \"/ephemeral/triton_cache\"\n",
    "    tmpdir = \"/ephemeral/tmp\"\n",
    "else:\n",
    "    cache_dir = os.path.expanduser(\"~/.cache/torch/inductor\")\n",
    "    triton_cache = os.path.expanduser(\"~/.cache/triton\")\n",
    "    tmpdir = os.path.expanduser(\"~/.cache/tmp\")\n",
    "\n",
    "# Create directories with full write permissions\n",
    "for d in [cache_dir, triton_cache, tmpdir]:\n",
    "    os.makedirs(d, mode=0o777, exist_ok=True)\n",
    "\n",
    "# Set ALL PyTorch/Triton cache and temp directories\n",
    "os.environ[\"TORCHINDUCTOR_CACHE_DIR\"] = cache_dir\n",
    "os.environ[\"TORCH_COMPILE_DIR\"] = cache_dir\n",
    "os.environ[\"TRITON_CACHE_DIR\"] = triton_cache\n",
    "os.environ[\"TMPDIR\"] = tmpdir  # Override system /tmp\n",
    "os.environ[\"TEMP\"] = tmpdir\n",
    "os.environ[\"TMP\"] = tmpdir\n",
    "\n",
    "# Clean up any old compiled caches\n",
    "old_cache = os.path.join(os.getcwd(), \"unsloth_compiled_cache\")\n",
    "if os.path.exists(old_cache):\n",
    "    shutil.rmtree(old_cache, ignore_errors=True)\n",
    "\n",
    "print(f\"✅ Torch cache: {cache_dir}\")\n",
    "print(f\"✅ Temp dir: {tmpdir}\")\n",
    "\n",
    "text = tokenizer.apply_chat_template(\n",
    "    [{\"role\": \"user\", \"content\": prompt}],\n",
    "    tokenize = False,\n",
    "    add_generation_prompt = True,\n",
    "    reasoning_effort = \"low\",\n",
    ")\n",
    "\n",
    "from transformers import TextStreamer\n",
    "_ = model.generate(\n",
    "    **tokenizer(text, return_tensors = \"pt\").to(\"cuda\"),\n",
    "    temperature = 1.0,\n",
    "    max_new_tokens = 1024,\n",
    "    streamer = TextStreamer(tokenizer, skip_prompt = False),\n",
    ")"
   ]
  },
  {
   "cell_type": "markdown",
   "metadata": {
    "id": "-NUEmHFSYNTp"
   },
   "source": [
    "<a name=\"Save\"></a>\n",
    "### Saving to float16 or `MXFP4`\n",
    "\n",
    "We also support saving to `float16` directly. Select `merged_16bit` for float16 or `mxfp4` for MXFP4 (OpenAI's GPT-OSS native precision). We also allow `lora` adapters as a fallback. Use `push_to_hub_merged` to upload to your Hugging Face account! You can go to https://huggingface.co/settings/tokens for your personal tokens."
   ]
  },
  {
   "cell_type": "code",
   "execution_count": null,
   "metadata": {
    "id": "NjXGTkp7YNtB"
   },
   "outputs": [],
   "source": [
    "# Merge and push to hub in mxfp4 4bit format\n",
    "if False:\n",
    "    model.save_pretrained_merged(\"finetuned_model\", tokenizer, save_method = \"mxfp4\")\n",
    "if False:\n",
    "    model.push_to_hub_merged(\"repo_id/repo_name\", tokenizer, token = \"hf...\", save_method = \"mxfp4\")\n",
    "\n",
    "# Merge and push to hub in 16bit\n",
    "if False:\n",
    "    model.save_pretrained_merged(\"finetuned_model\", tokenizer, save_method = \"merged_16bit\")\n",
    "if False: # Pushing to HF Hub\n",
    "    model.push_to_hub_merged(\"hf/gpt-oss-finetune\", tokenizer, save_method = \"merged_16bit\", token = \"\")"
   ]
  },
  {
   "cell_type": "markdown",
   "metadata": {
    "id": "V15Yhj1V9lwG"
   },
   "source": [
    "# And we're done!\n",
    "Congratulations you just learned how to do reinforcement learning with GPT-OSS! There were some advanced topics explained in this notebook - to learn more about GPT-OSS and RL, there are more docs in Unsloth's [Reinforcement Learning Guide with GPT-OSS](https://docs.unsloth.ai/new/gpt-oss-reinforcement-learning)\n",
    "\n",
    "This notebook and all Unsloth notebooks are licensed [LGPL-3.0](https://github.com/unslothai/notebooks?tab=LGPL-3.0-1-ov-file#readme)."
   ]
  }
 ],
 "metadata": {
  "accelerator": "GPU",
  "colab": {
   "gpuType": "A100",
   "include_colab_link": true,
   "machine_shape": "hm",
   "provenance": []
  },
  "kernelspec": {
   "display_name": "Python 3",
   "name": "python3"
  },
  "language_info": {
   "name": "python"
  }
 },
 "nbformat": 4,
 "nbformat_minor": 0
}
