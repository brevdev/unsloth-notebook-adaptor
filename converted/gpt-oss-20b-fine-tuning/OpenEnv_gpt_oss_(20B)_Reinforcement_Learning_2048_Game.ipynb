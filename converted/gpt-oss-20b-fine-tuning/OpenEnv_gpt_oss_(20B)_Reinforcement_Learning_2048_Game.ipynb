{
 "cells": [
  {
   "cell_type": "markdown",
   "id": "f5eb5a1b",
   "metadata": {},
   "source": [
    "# 🤙 gpt-oss-20b on NVIDIA Brev\n",
    "\n",
    "<div style=\"background: linear-gradient(90deg, #00ff87 0%, #60efff 100%); padding: 1px; border-radius: 8px; margin: 20px 0;\">\n",
    "    <div style=\"background: #0a0a0a; padding: 20px; border-radius: 7px;\">\n",
    "        <p style=\"color: #60efff; margin: 0;\"><strong>⚡ Powered by Brev</strong> | Converted from <a href=\"https://github.com/unslothai/notebooks/blob/main/nb/gpt-oss-20b.ipynb\" style=\"color: #00ff87;\">Unsloth Notebook</a></p>\n",
    "    </div>\n",
    "</div>\n",
    "\n",
    "## 📋 Configuration\n",
    "\n",
    "<table style=\"width: auto; margin-left: 0; border-collapse: collapse; border: 2px solid #808080;\">\n",
    "    <thead>\n",
    "        <tr style=\"border-bottom: 2px solid #808080;\">\n",
    "            <th style=\"text-align: left; padding: 8px 12px; border-right: 2px solid #808080; font-weight: bold;\">Parameter</th>\n",
    "            <th style=\"text-align: left; padding: 8px 12px; font-weight: bold;\">Value</th>\n",
    "        </tr>\n",
    "    </thead>\n",
    "    <tbody>\n",
    "        <tr>\n",
    "            <td style=\"text-align: left; padding: 8px 12px; border-right: 1px solid #808080;\"><strong>Model</strong></td>\n",
    "            <td style=\"text-align: left; padding: 8px 12px;\">gpt-oss-20b</td>\n",
    "        </tr>\n",
    "        <tr>\n",
    "            <td style=\"text-align: left; padding: 8px 12px; border-right: 1px solid #808080;\"><strong>Recommended GPU</strong></td>\n",
    "            <td style=\"text-align: left; padding: 8px 12px;\">A100-40GB</td>\n",
    "        </tr>\n",
    "        <tr>\n",
    "            <td style=\"text-align: left; padding: 8px 12px; border-right: 1px solid #808080;\"><strong>Min VRAM</strong></td>\n",
    "            <td style=\"text-align: left; padding: 8px 12px;\">24 GB</td>\n",
    "        </tr>\n",
    "        <tr>\n",
    "            <td style=\"text-align: left; padding: 8px 12px; border-right: 1px solid #808080;\"><strong>Batch Size</strong></td>\n",
    "            <td style=\"text-align: left; padding: 8px 12px;\">2</td>\n",
    "        </tr>\n",
    "        <tr>\n",
    "            <td style=\"text-align: left; padding: 8px 12px; border-right: 1px solid #808080;\"><strong>Categories</strong></td>\n",
    "            <td style=\"text-align: left; padding: 8px 12px;\">reasoning, fine-tuning, large-model</td>\n",
    "        </tr>\n",
    "    </tbody>\n",
    "</table>\n",
    "\n",
    "## 🔧 Key Adaptations for Brev\n",
    "\n",
    "- ✅ Replaced Colab-specific installation with conda-based Unsloth\n",
    "- ✅ Converted magic commands to subprocess calls\n",
    "- ✅ Removed Google Drive dependencies\n",
    "- ✅ Updated paths from `/workspace/` to `/workspace/`\n",
    "- ✅ Added `device_map=\"auto\"` for multi-GPU support\n",
    "- ✅ Optimized batch sizes for NVIDIA GPUs\n",
    "\n",
    "## 📚 Resources\n",
    "\n",
    "- [Unsloth Documentation](https://docs.unsloth.ai/)\n",
    "- [Brev Documentation](https://docs.nvidia.com/brev)\n",
    "- [Original Notebook](https://github.com/unslothai/notebooks/blob/main/nb/gpt-oss-20b.ipynb)\n"
   ]
  },
  {
   "cell_type": "markdown",
   "metadata": {
    "colab_type": "text",
    "id": "view-in-github"
   },
   "source": []
  },
  {
   "cell_type": "markdown",
   "metadata": {
    "id": "GtkTGCuh6QZy"
   },
   "source": [
    "# <img width=\"35\" height=\"35\" alt=\"image\" src=\"https://github.com/user-attachments/assets/2700a971-e5d6-4036-b03f-2f89c9791609\" /> OpenEnv: Agentic Execution Environments\n",
    "We're using the new [OpenEnv](https://github.com/meta-pytorch/OpenEnv) library which has over 2000+ environments for RL!\n",
    "\n",
    "\n",
    "<div class=\"align-center\">\n",
    "<a href=\"https://unsloth.ai/\"><img src=\"https://github.com/unslothai/unsloth/raw/main/images/unsloth%20new%20logo.png\" width=\"115\"></a>\n",
    "<a href=\"https://discord.gg/unsloth\"><img src=\"https://github.com/unslothai/unsloth/raw/main/images/Discord button.png\" width=\"145\"></a>\n",
    "<a href=\"https://docs.unsloth.ai/\"><img src=\"https://github.com/unslothai/unsloth/blob/main/images/documentation%20green%20button.png?raw=true\" width=\"125\"></a></a> Join Discord if you need help + ⭐ <i>Star us on <a href=\"https://github.com/unslothai/unsloth\">Github</a> </i> ⭐\n",
    "</div>\n",
    "\n",
    "To install Unsloth your local device, follow [our guide](https://docs.unsloth.ai/get-started/install-and-update)."
   ]
  },
  {
   "cell_type": "markdown",
   "metadata": {
    "id": "hzPgFeIkZn9q"
   },
   "source": [
    "# Goal: Make gpt-oss play games with Reinforcement Learning\n",
    "\n",
    "Our goal is to make OpenAI's open model gpt-oss 20b play the 2048 game with reinforcement learning. We want the model to devise a strategy to play 2048, and we will run this strategy until we win or lose.\n",
    "\n",
    "<img src=\"https://upload.wikimedia.org/wikipedia/commons/thumb/f/f9/2048_win.png/500px-2048_win.png\" height=300 />"
   ]
  },
  {
   "cell_type": "markdown",
   "metadata": {
    "id": "31KIMLJLnHET"
   },
   "source": [
    "# Installation\n",
    "We'll be using [Unsloth](https://github.com/unslothai/unsloth) to do RL on GPT-OSS 20B, and [OpenEnv](https://github.com/meta-pytorch/OpenEnv) for the environment interactions. Unsloth saves 70% VRAM usage and makes reinforcement learning 2 to 6x faster!"
   ]
  },
  {
   "cell_type": "code",
   "execution_count": null,
   "metadata": {
    "id": "CGoDZwcunHEU"
   },
   "outputs": [],
   "source": [
    "# Environment Check for Brev\n",
    "import sys\n",
    "import os\n",
    "import shutil\n",
    "\n",
    "print(f\"Python executable: {sys.executable}\")\n",
    "print(f\"Python version: {sys.version}\")\n",
    "\n",
    "# Configure PyTorch cache directories to avoid permission errors\n",
    "# MUST be set before any torch imports\n",
    "# Prefer /ephemeral for Brev instances (larger scratch space)\n",
    "\n",
    "# Test if /ephemeral exists and is actually writable (not just readable)\n",
    "use_ephemeral = False\n",
    "if os.path.exists(\"/ephemeral\"):\n",
    "    try:\n",
    "        test_file = \"/ephemeral/.write_test\"\n",
    "        with open(test_file, \"w\") as f:\n",
    "            f.write(\"test\")\n",
    "        os.remove(test_file)\n",
    "        use_ephemeral = True\n",
    "    except (PermissionError, OSError):\n",
    "        pass\n",
    "\n",
    "if use_ephemeral:\n",
    "    cache_base = \"/ephemeral/torch_cache\"\n",
    "    triton_cache = \"/ephemeral/triton_cache\"\n",
    "    tmpdir = \"/ephemeral/tmp\"\n",
    "    print(\"Using /ephemeral for cache (Brev scratch space)\")\n",
    "else:\n",
    "    cache_base = os.path.expanduser(\"~/.cache/torch/inductor\")\n",
    "    triton_cache = os.path.expanduser(\"~/.cache/triton\")\n",
    "    tmpdir = os.path.expanduser(\"~/.cache/tmp\")\n",
    "    print(\"Using home directory for cache\")\n",
    "\n",
    "# Set ALL PyTorch/Triton cache and temp directories\n",
    "os.environ[\"TORCHINDUCTOR_CACHE_DIR\"] = cache_base\n",
    "os.environ[\"TORCH_COMPILE_DIR\"] = cache_base\n",
    "os.environ[\"TRITON_CACHE_DIR\"] = triton_cache\n",
    "os.environ[\"XDG_CACHE_HOME\"] = os.path.expanduser(\"~/.cache\")\n",
    "os.environ[\"TMPDIR\"] = tmpdir  # Override system /tmp\n",
    "os.environ[\"TEMP\"] = tmpdir\n",
    "os.environ[\"TMP\"] = tmpdir\n",
    "\n",
    "# Create cache directories with proper permissions (777 to ensure writability)\n",
    "for cache_dir in [cache_base, triton_cache, tmpdir, os.environ[\"XDG_CACHE_HOME\"]]:\n",
    "    os.makedirs(cache_dir, mode=0o777, exist_ok=True)\n",
    "\n",
    "# Clean up any old compiled caches that point to /tmp\n",
    "old_cache = os.path.join(os.getcwd(), \"unsloth_compiled_cache\")\n",
    "if os.path.exists(old_cache):\n",
    "    print(f\"⚠️  Removing old compiled cache: {old_cache}\")\n",
    "    shutil.rmtree(old_cache, ignore_errors=True)\n",
    "\n",
    "print(f\"✅ PyTorch cache: {cache_base}\")\n",
    "\n",
    "try:\n",
    "    from unsloth import FastLanguageModel\n",
    "    import transformers\n",
    "    print(\"\\n✅ Unsloth already available\")\n",
    "    print(f\"   Unsloth: {FastLanguageModel.__module__}\")\n",
    "    print(f\"   Transformers: {transformers.__version__}\")\n",
    "    \n",
    "    # Check if we need to upgrade/downgrade transformers\n",
    "    import pkg_resources\n",
    "    try:\n",
    "        current_transformers = pkg_resources.get_distribution(\"transformers\").version\n",
    "        if current_transformers != \"4.56.2\":\n",
    "            print(f\"   ⚠️  Transformers {current_transformers} != 4.56.2, may need adjustment\")\n",
    "    except:\n",
    "        pass\n",
    "    \n",
    "    print(\"   ✅ All packages OK, skipping installation\")\n",
    "except ImportError:\n",
    "    print(\"\\n⚠️  Unsloth not found - installing required packages...\")\n",
    "    import subprocess\n",
    "    \n",
    "    # Find uv in common locations\n",
    "    uv_paths = [\n",
    "        \"uv\",  # In PATH\n",
    "        os.path.expanduser(\"~/.venv/bin/uv\"),\n",
    "        os.path.expanduser(\"~/.cargo/bin/uv\"),\n",
    "        \"/usr/local/bin/uv\"\n",
    "    ]\n",
    "    \n",
    "    uv_cmd = None\n",
    "    for path in uv_paths:\n",
    "        try:\n",
    "            result = subprocess.run([path, \"--version\"], capture_output=True, timeout=2)\n",
    "            if result.returncode == 0:\n",
    "                uv_cmd = path\n",
    "                print(f\"   Found uv at: {path}\")\n",
    "                break\n",
    "        except (FileNotFoundError, subprocess.TimeoutExpired):\n",
    "            continue\n",
    "    \n",
    "    print(f\"\\nInstalling packages into: {sys.executable}\")\n",
    "    \n",
    "    if uv_cmd:\n",
    "        print(\"Using uv package manager...\\n\")\n",
    "        try:\n",
    "            subprocess.check_call([uv_cmd, \"pip\", \"install\", \"unsloth\"])\n",
    "            subprocess.check_call([uv_cmd, \"pip\", \"install\", \"transformers==4.56.2\"])\n",
    "            subprocess.check_call([uv_cmd, \"pip\", \"install\", \"--no-deps\", \"trl==0.22.2\"])\n",
    "            print(\"\\n✅ Installation complete\")\n",
    "        except subprocess.CalledProcessError as e:\n",
    "            print(f\"⚠️  uv install failed: {e}\")\n",
    "            uv_cmd = None  # Fall back to pip\n",
    "    \n",
    "    if not uv_cmd:\n",
    "        print(\"Using pip package manager...\\n\")\n",
    "        try:\n",
    "            # Ensure pip is available\n",
    "            subprocess.run([sys.executable, \"-m\", \"ensurepip\", \"--upgrade\"], \n",
    "                         capture_output=True, timeout=30)\n",
    "            # Install packages\n",
    "            subprocess.check_call([sys.executable, \"-m\", \"pip\", \"install\", \"-q\", \"unsloth\"])\n",
    "            subprocess.check_call([sys.executable, \"-m\", \"pip\", \"install\", \"-q\", \"transformers==4.56.2\"])\n",
    "            subprocess.check_call([sys.executable, \"-m\", \"pip\", \"install\", \"-q\", \"--no-deps\", \"trl==0.22.2\"])\n",
    "            print(\"\\n✅ Installation complete\")\n",
    "        except subprocess.CalledProcessError as e:\n",
    "            print(f\"❌ Installation failed: {e}\")\n",
    "            print(\"   This may be due to permission issues.\")\n",
    "            print(\"   Packages may already be installed - attempting to continue...\")\n",
    "    \n",
    "    # Verify installation\n",
    "    try:\n",
    "        from unsloth import FastLanguageModel\n",
    "        print(\"✅ Unsloth is now available\")\n",
    "    except ImportError as e:\n",
    "        print(f\"❌ Unsloth still not available: {e}\")\n",
    "        print(\"⚠️  Please check setup script ran successfully or restart instance\")"
   ]
  },
  {
   "cell_type": "markdown",
   "metadata": {
    "id": "OjifwNNZ7bMx"
   },
   "source": [
    "We will then install [OpenEnv](https://github.com/meta-pytorch/OpenEnv) from source:"
   ]
  },
  {
   "cell_type": "code",
   "execution_count": null,
   "metadata": {
    "id": "1yzMMSLR7dNj"
   },
   "outputs": [],
   "source": [
    "import sys\n",
    "\n",
    "subprocess.check_call([sys.executable, \"-m\", \"pip\", \"install\", '-qqq fastapi uvicorn requests open_spiel'])\n",
    "subprocess.run(['git clone https://github.com/meta-pytorch/OpenEnv.git > /dev/null 2>&1'], check=True, shell=True)\n",
    "%cd OpenEnv\n",
    "import subprocess, sys, os\n",
    "from pathlib import Path\n",
    "sys.path.insert(0, './src')\n",
    "working_directory = str(Path.cwd().parent.absolute() / \"OpenEnv\")"
   ]
  },
  {
   "cell_type": "markdown",
   "metadata": {
    "id": "CcLYwLyQLADE"
   },
   "source": [
    "We'll load GPT-OSS 20B and set some parameters:\n",
    "* `max_seq_length = 768` The maximum context length of the model. Increasing it will use more memory.\n",
    "* `lora_rank = 4` The larger this number, the smarter the RL process, but the slower and more memory usage`load_in_16bit` will be faster but will need a 64GB GPU or more (MI300)\n",
    "* `offload_embedding = True` New Unsloth optimization which moves the embedding to CPU RAM, reducing VRAM by 1GB."
   ]
  },
  {
   "cell_type": "code",
   "execution_count": null,
   "metadata": {
    "colab": {
     "base_uri": "https://localhost:8080/",
     "height": 724,
     "referenced_widgets": [
      "5e3547ac07cd4b4782018dfd915c2362",
      "55710ad443e54230be69b03c64923a2a",
      "27268bb1320349dab1862b60690c8728",
      "b4964066717d47daafb0c4bb6ad9e3fb",
      "eeb564e4737d4c828121e61c29993a95",
      "1ccb91820298465e807eeb54ef94aff8",
      "3bb63d1c2fc14f79ae2e4e36795a5591",
      "683e8770c62443b887b6105e81cf2397",
      "c7d7e659443748aa9faada3807d406fb",
      "4cedb520ab9e4ff2bb0abfbf45c1f5d9",
      "4ecf37da2eda4aeda43f5a81134ac16e",
      "886b5a1c58d946a388284027a1178859",
      "a160167c6483417896ae7cd68083823b",
      "ca19cb14e9ab4a34a2091bd8efda48e0",
      "91b01e9a0e824df1abed24576e2c690e",
      "69e2135081774046964c5bf430719211",
      "34c2064871184d71b85b37435a0b76ab",
      "967e4c46305a4492aeb2b77ae813f610",
      "5c3263c6e42a4cb5b6eb9facd15ab9fc",
      "9345b909f6f54f8b943323f051d541bb",
      "e6a93b30e14f48c285f6327716ffb867",
      "7ea120a644834ea2922e598ae4367c51",
      "0d522456831a460b9ca81bc73cf1737e",
      "d3ed2b8c85e245919110a1e7b3c5df71",
      "cb0532b5712c44fb9f31092e8efdcb7a",
      "7f3cd1dc52fe437b9100a91191572066",
      "aa216ec1937c4d3ca658c649fa992744",
      "c6ed37a7f83b47618c943b3e63755032",
      "c115af09ea7041cb92acf3d59aae5038",
      "345d510234b8440796df23a17a92db3b",
      "3d317a3224ae440a9fd53cc345ba3d13",
      "d6f44b37b3ae4eb999bc022e69ee62d1",
      "290fc9909dd84fb598fc0033c4a7619b",
      "a16987003e91456a82d4872b0a05dc11",
      "7729c8cfbccf46b6b45f125a6aeec534",
      "03869138997a4335a7a1be7c3055c958",
      "82f42ce7d60a4c1f81a5f519d83fa418",
      "dc079b3bd2aa42c3b0bb7025d9519240",
      "8397cc5c43ff4065ad2e24183c872816",
      "2805cd39c6c5486ca5d5e474b5fe14b1",
      "f0c83462a6534f3d8b01232e15a0634c",
      "d0e492093489468886a1192308466e99",
      "37ca3c08a444457c8b2c4c0ab0af78f6",
      "fb6fffd12ee64e698ed51c498c3376f4",
      "ca6eed4bdb3043f08296bedfa7b3a784",
      "f577517c8c0044ab9f0ab9e8a36b8a2c",
      "d5be5c56412e44aea0748c217ab72d57",
      "d6c26ddf3c094d748d7a9175dc6e4167",
      "68751e617be348ecb409ec7571a18dbf",
      "f54a3cb8d44b41cba5a01764b2b0bad1",
      "f6d2be4a841a4cdb83f36d7fd0b21cc8",
      "d274c17f6c5d4db2bf98aa2b62e5c25c",
      "571a7dc2e4df4d16ba7fe1257a0701e0",
      "d004b633d4a549579809e5d5a7a78bba",
      "3d55e165e17b46149abbbabeab40d4f2",
      "e300db02fedb4e74bb033dac324ac616",
      "bc8771da798740cba7703ba8c0be188d",
      "512d7789523a4067b2d51127b9cb1f00",
      "07d7efa0adca47ffa2194cfc50357883",
      "72cb3bb9f51a40d8a1594bf4c638e1c4",
      "e06f775ac18c41639f76c30f8403106d",
      "db1664d46a574928a91c5364b45bf688",
      "011ecee213b84ed599f0ab85433c2629",
      "bf2a6758acd14cce8dae359e0ef82531",
      "8bb981c111c2402c9a37d75b61041fa6",
      "4be46ffa6be646b6897139a21dee60df",
      "3f57fd5a0556431b9f3aca0397ee08f2",
      "924f3596eea24a91886afccfc78d43c7",
      "c776f4e704d444be88e5aa48cd3283b9",
      "07abeb3b30c7457d901c5b4b0491789d",
      "e3402f3e8c9a4f1d993306e3f82ed64b",
      "7caa09e496cb4c4d94ccc85c01eadcc2",
      "55183c86e1be4bffab034178c238e94d",
      "fa60cb1056754506b2bc49f1dd0667b2",
      "b2ae984b0387463e8d5d7be57d8916ae",
      "31825183057b4fa4ae87439e5bb31077",
      "ece1f4bb0c5b4fec8b6952f584ea1303",
      "35a7d35b5c404af2ab83710e25121f56",
      "191b4a48e0e344d2a2ca44a074d15626",
      "a4f050560e2e4196b9f88ceb77bad72d",
      "33d8c1f6332c4994891e0c416e8c986e",
      "6169e0844b6f4ed5943a3fa2b43ceea8",
      "e6dc0835208045679383352568ca0e1c",
      "d165e011281444b285d97500c961842a",
      "c30fc0223caa4725bb6a9df2d4b10f0a",
      "603e481748064579b6bd3e3e26d07a93",
      "684930052e654fff8c01c422b841e084",
      "526d4bfc91e34521a1461a64c28ffe9e",
      "feefd769df8a4266ad1239f402be5016",
      "ca102cc19428414582f3d1d9c0570e72",
      "855bd46164ef4d5e80dce0ead2d9176c",
      "5b5a978c71e84427854b05b00f67b070",
      "c5d3c5f137dc4cdeb33a822cd4a75433",
      "a8334f3121af481bb9ecc4392b5a2dd2",
      "cf04bc2622d5424fa833103bfbd5aa18",
      "e22e0e63c34a4c6782b6f39500d056cd",
      "f1e1bd40da674d04be2b34398263cef3",
      "14370dc440f84ba18d7dec7f0905dcf4",
      "e3d82074ef4549b6b146004c7e05e5f9",
      "f53dc08772634cc381489d883fe8bdf6",
      "4cdc754cbb8d4011ad667d87f3c65842",
      "822c80d9faae44969261e38bab34d118",
      "67e31d0ce6c147feb2b6ef087fc57481",
      "7d44a2c2ae1540acaceab14f1c8b43f7",
      "4d01886c9e7a4767890e27241dabc2a3",
      "05b8cf11991246818da13432d451cfcc",
      "4d9edaa687ce4a8fbe1b9636b83d6fe6",
      "d0e290109cf54c1fb6574e41f92f715e",
      "46ecafa30e174f9bb017c449316470f2",
      "9fbab435b06e4d5a85f772d03c54c667",
      "f969e8dfa6c44561abd8e033f2e06d83",
      "ca0813f3cebb47a4b57bbadc48f5b277",
      "249bc64a1c00463f817b16a779cf0967",
      "a529119110824f3285ddaf0a9e70ed19",
      "ce95c52d547c44e9abf98997fb091a82",
      "b4b516231cc5459a9325d97e62aba866",
      "b5c22a5ba2b44fceac6a38ff6bedd562",
      "29fa619d8bfb4defaace1e84c08f8255",
      "ec8978b5a6f847058e8822017c13c038",
      "702c124fb66c4671b30f1e5ec61c902e",
      "72e0d3b92b4a4f769abfb6f23f695a5c",
      "303ba7ba337949bbbee090f7794f50fb",
      "0a2c1747b06941cc9693ee311650d257",
      "3574f1d1a0ab4cc796e22cff2026ef4a",
      "e4f8aecb52a541249f7ff3ac1476b992",
      "52bf807146e14a4a8554b0f094f65ad2",
      "9b34569126924ea79e348d516d419a3e",
      "ca143b06f0af4bf4aceaabfdff6e29ad",
      "9a31edd9cda24c659a3c6416bf8668e0",
      "55ad20c684654a69b550cbe8522f2222",
      "9e626b2aa8c74b859b2321593e3f1e16",
      "3ded50395ab44c8eaf8fec96b2a5a1c4",
      "03e7a8536f1f4aa28dd78f20bafd43d4",
      "d89b9f25f9d241a2bbd4a214a1ed75a1",
      "586dab5de5fa4c80baf57067ebde6b52",
      "d799d7442355449688c8ab1a7e22c12d",
      "310b38ca2c4d4c419698173f3e425078",
      "d17829e0751e4bba8fd6006746ae5a12",
      "4634ee3f4eb84694acd474664f5455d3",
      "78d64ee4bf674dde83bd374e567f9b69",
      "3f246cad811c416fb34bee6cb5cc7c0c",
      "6d098fe82af248d3b5d1098b603dd1a5",
      "b66a12d3b49a46a5b273d7aa44b38abd",
      "2cd90f0d1fdd4a1386df6e162aeccc0f",
      "7e518f8ee816401daf144753809b2b97",
      "9dc870ca4760495a868f7bbd6aa08b5d",
      "d4769efce5ed478aa1ef2dcd2931bb78",
      "006cef2db0644f4dbc0de84264145d00",
      "2613a91224e04f178c5c775bddb731cf",
      "bae5fae54d2446af9997e75cafb3f9a4",
      "3aae617f9f894c14b5a457adace5aace",
      "616cddcc3e38484887d19469332ecc63",
      "f17b2c3a3fb84a7785fe55ee9cbf1adc",
      "15c251e9ed164023b5c823843781bfdf",
      "e7d96fb57dc948aebbd43c6dc003382c",
      "18ccea7118fd4e34a2a17cc57befefa1",
      "9512bb63912145298e1760b07e85d663",
      "2661e274c6f243578c9d4f2761fcd887",
      "793e72fc123c4382958c77868f2c5ce2",
      "d2377cd05720446490439d7d2214b760",
      "a4c5193fda69428eb98c0feb6a1a8dd8",
      "24e15c49a1714d0b801b9a0ff6f4bc21",
      "48531fee027147609befa5b286f1c5ec",
      "2d12be8b0cb046638cf22f083dad2edc",
      "b20a5d755b8448f58f5c628aa0691d23",
      "3bd6719e655c49f59241343afa8aa72b",
      "5b0db14ce9e14dedbe2de8b4f01d7c47",
      "9f5133c1bd35467da735327fbfb09f87",
      "4df9844dc6364e5198f4734af620ee24",
      "9f421d8729784eb9ac2357b5b65a08fe",
      "b0aa30060a39412285753210d35e7e5d",
      "bd18dc6d43e2401fb3da11daa9a4f724",
      "a22c44c483af4d6c92d13411f6fc8ced",
      "3d4d8d1bc11b4ef5b892275ce0951abf",
      "a3779f9b07e6466e846ee564437e6ac0",
      "a077a027c1a2442a9f697a5393a8d8eb"
     ]
    },
    "id": "DkIvEkIIkEyB",
    "outputId": "4a9af017-c153-4792-d776-388e551120c1"
   },
   "outputs": [],
   "source": [
    "from unsloth import FastLanguageModel\n",
    "import torch\n",
    "max_seq_length = 768 # Can increase for longer RL output\n",
    "lora_rank = 4        # Larger rank = smarter, but slower\n",
    "model, tokenizer = FastLanguageModel.from_pretrained(\n",
    "    model_name = \"unsloth/gpt-oss-20b\",\n",
    "    load_in_4bit = True,\n",
    "    max_seq_length = max_seq_length,\n",
    "    device_map=\"auto\")"
   ]
  },
  {
   "cell_type": "markdown",
   "metadata": {
    "id": "TfeUs-lQJDSq"
   },
   "source": [
    "To do efficient RL, we will use [LoRA](https://arxiv.org/abs/2106.09685), which allows us to only add 1 to 5% of extra weights to the model for finetuning purposes. This allows us to save memory usage by over 60%, and yet it retains good accuracy. Read Unsloth's [GPT-OSS RL Guide](https://docs.unsloth.ai/new/gpt-oss-reinforcement-learning) for more details."
   ]
  },
  {
   "cell_type": "code",
   "execution_count": null,
   "metadata": {
    "colab": {
     "base_uri": "https://localhost:8080/"
    },
    "id": "8rGa-o3HJCo1",
    "outputId": "f647ec85-9541-4005-fc85-280f0e997433"
   },
   "outputs": [],
   "source": [
    "model = FastLanguageModel.get_peft_model(\n",
    "    model,\n",
    "    r = lora_rank, # Choose any number > 0 ! Suggested 8, 16, 32, 64, 128\n",
    "    target_modules = [\n",
    "        \"q_proj\", \"k_proj\", \"v_proj\", \"o_proj\",\n",
    "        \"gate_proj\", \"up_proj\", \"down_proj\",\n",
    "    ],\n",
    "    lora_alpha = lora_rank*2, # *2 speeds up training\n",
    "    use_gradient_checkpointing = \"unsloth\", # Reduces memory usage\n",
    "    random_state = 3407,\n",
    ")"
   ]
  },
  {
   "cell_type": "markdown",
   "metadata": {
    "id": "N0QnO9_YJBOI"
   },
   "source": [
    "# 2048 game environment with OpenEnv\n",
    "\n",
    "We first launch an OpenEnv process and import it! This will allows us to see how the 2048 implementation looks like!"
   ]
  },
  {
   "cell_type": "code",
   "execution_count": null,
   "metadata": {
    "id": "hQrG81XV87-7"
   },
   "outputs": [],
   "source": [
    "from envs.openspiel_env import OpenSpielEnv\n",
    "from envs.openspiel_env.models import OpenSpielAction, OpenSpielObservation"
   ]
  },
  {
   "cell_type": "code",
   "execution_count": null,
   "metadata": {
    "id": "zBIye94T8djG"
   },
   "outputs": [],
   "source": [
    "port = \"8000\"\n",
    "localhost = f\"http://localhost:{port}\"\n",
    "openenv_process = subprocess.Popen(\n",
    "    [sys.executable, \"-m\", \"uvicorn\", \"envs.openspiel_env.server.app:app\", \"--host\", \"0.0.0.0\", \"--port\", port],\n",
    "    env = {**os.environ,\n",
    "         \"PYTHONPATH\": f\"{working_directory}/src\",\n",
    "         \"OPENSPIEL_GAME\": \"2048\",\n",
    "         \"OPENSPIEL_AGENT_PLAYER\": \"0\",\n",
    "         \"OPENSPIEL_OPPONENT_POLICY\": \"random\"},\n",
    "    stdout = subprocess.PIPE,\n",
    "    stderr = subprocess.PIPE,\n",
    "    text = True,\n",
    "    cwd = working_directory,\n",
    ")"
   ]
  },
  {
   "cell_type": "markdown",
   "metadata": {
    "id": "A3AGxcA-9Ipc"
   },
   "source": [
    "Let's confirm the OpenEnv process is up and running"
   ]
  },
  {
   "cell_type": "code",
   "execution_count": null,
   "metadata": {
    "colab": {
     "base_uri": "https://localhost:8080/"
    },
    "id": "EQZmbEGn9HS5",
    "outputId": "04c88610-853a-477b-d8f9-ccf5cf6f923d"
   },
   "outputs": [],
   "source": [
    "import requests\n",
    "import time\n",
    "time.sleep(5) # Wait 5 seconds for OpenEnv to start!\n",
    "print(requests.get(f\"{localhost}/health\", timeout = 2).content)\n",
    "openenv_process = OpenSpielEnv(base_url = localhost)"
   ]
  },
  {
   "cell_type": "markdown",
   "metadata": {
    "id": "P3rMiKLl9Ro2"
   },
   "source": [
    "Let's see how the current 2048 game state looks like:"
   ]
  },
  {
   "cell_type": "code",
   "execution_count": null,
   "metadata": {
    "colab": {
     "base_uri": "https://localhost:8080/"
    },
    "id": "uBPx0Hho9Xi1",
    "outputId": "4faf82b7-af08-4e47-d4cb-25d829570c2e"
   },
   "outputs": [],
   "source": [
    "result = openenv_process.reset()\n",
    "current_state = result.observation\n",
    "current_state"
   ]
  },
  {
   "cell_type": "markdown",
   "metadata": {
    "id": "4Qz1tRVTAii8"
   },
   "source": [
    "First let's convert the state into a list of list of numbers!"
   ]
  },
  {
   "cell_type": "code",
   "execution_count": null,
   "metadata": {
    "colab": {
     "base_uri": "https://localhost:8080/"
    },
    "id": "7PVeoKW2AmKr",
    "outputId": "ea8491a2-80ae-4182-832a-3d38cd06740a"
   },
   "outputs": [],
   "source": [
    "import numpy as np\n",
    "def convert_to_board(current_state):\n",
    "    n = len(current_state.info_state)\n",
    "    size = int(np.sqrt(n))\n",
    "    board = np.array_split(np.array(current_state.info_state, dtype = int), size)\n",
    "    board = [x.tolist() for x in board]\n",
    "    return board, size\n",
    "convert_to_board(current_state)"
   ]
  },
  {
   "cell_type": "markdown",
   "metadata": {
    "id": "hCS56yu29dsG"
   },
   "source": [
    "We also want to pretty print the game board!"
   ]
  },
  {
   "cell_type": "code",
   "execution_count": null,
   "metadata": {
    "cellView": "form",
    "id": "D9CI4jtgL5mw"
   },
   "outputs": [],
   "source": [
    "#@title (Collapsible) 2048 Game Renderer\n",
    "def render_board(obs, colors: bool = True, border: bool = True, dot_for_zero: bool = True) -> str:\n",
    "    \"\"\"\n",
    "    Pretty-print the board with colors that scale from 0 up to self.target.\n",
    "    Uses ANSI 256-color codes (works in most terminals). Set colors=False to disable.\n",
    "    \"\"\"\n",
    "    import math\n",
    "    b, size = convert_to_board(obs)\n",
    "    mx = max((max(row) for row in b), default=0)\n",
    "    cell_w = max(3, len(str(mx)))\n",
    "\n",
    "    RESET = \"\\x1b[0m\"\n",
    "\n",
    "    # A smooth-ish gradient from cool → warm\n",
    "    # (blue/cyan/green → yellow/orange/red). Tweak or expand as you like.\n",
    "    GRAD = [33, 39, 45, 51, 50, 49, 48, 47, 46, 82, 118, 154, 190, 226, 220, 214, 208, 202, 196]\n",
    "    ZERO_FG = 239  # dim gray\n",
    "\n",
    "    def color_code(v: int) -> str:\n",
    "        if not colors:\n",
    "            return \"\"\n",
    "        if v == 0:\n",
    "            return f\"\\x1b[38;5;{ZERO_FG}m\"\n",
    "        # Normalize by exponent relative to target: r in [0,1]\n",
    "        t = max(2, 2048)  # safety; avoid log2(1)\n",
    "        # Guard: if v is not a power of two or is <1, handle gracefully\n",
    "        try:\n",
    "            r = max(0.0, min(1.0, math.log2(v) / math.log2(t)))\n",
    "        except ValueError:\n",
    "            r = 0.0\n",
    "        idx = int(round(r * (len(GRAD) - 1)))\n",
    "        return f\"\\x1b[38;5;{GRAD[idx]}m\"\n",
    "\n",
    "    def fmt(v: int) -> str:\n",
    "        s = \".\" if (v == 0 and dot_for_zero) else str(v)\n",
    "        s = s.rjust(cell_w)\n",
    "        return color_code(v) + s + (RESET if colors else \"\")\n",
    "\n",
    "    def hline(left: str, mid: str, right: str) -> str:\n",
    "        return left + mid.join(\"─\" * cell_w for _ in range(size)) + right\n",
    "\n",
    "    rows = []\n",
    "    if border:\n",
    "        rows.append(hline(\"┌\", \"┬\", \"┐\"))\n",
    "    for r in range(size):\n",
    "        content = \"│\".join(fmt(v) for v in b[r])\n",
    "        rows.append((\"│\" + content + \"│\") if border else content)\n",
    "        if border:\n",
    "            rows.append(hline(\"└\" if r == size - 1 else \"├\",\n",
    "                            \"┴\" if r == size - 1 else \"┼\",\n",
    "                            \"┘\" if r == size - 1 else \"┤\"))\n",
    "    return \"\\n\".join(rows)"
   ]
  },
  {
   "cell_type": "code",
   "execution_count": null,
   "metadata": {
    "colab": {
     "base_uri": "https://localhost:8080/"
    },
    "id": "DAJE2LUo9oRR",
    "outputId": "5eea569d-c5d7-4e91-b928-273ce1ed7492"
   },
   "outputs": [],
   "source": [
    "print(render_board(current_state))"
   ]
  },
  {
   "cell_type": "markdown",
   "metadata": {
    "id": "0AhUa4hW-Dji"
   },
   "source": [
    "We can see the `legal_actions` ie what you can take as `[0, 1, 2, 3]` Let's try doing the action `0`."
   ]
  },
  {
   "cell_type": "code",
   "execution_count": null,
   "metadata": {
    "colab": {
     "base_uri": "https://localhost:8080/"
    },
    "id": "b-gSgthFI_wq",
    "outputId": "b893b1ec-2ac1-4829-d05c-57150a508602"
   },
   "outputs": [],
   "source": [
    "action = OpenSpielAction(action_id = 0, game_name = \"2048\")\n",
    "result = openenv_process.step(action)\n",
    "current_state = result.observation\n",
    "print(render_board(current_state))"
   ]
  },
  {
   "cell_type": "markdown",
   "metadata": {
    "id": "lPSNb8-A-iPn"
   },
   "source": [
    "So it looks like `0` is a move up action! Let's try `1`."
   ]
  },
  {
   "cell_type": "code",
   "execution_count": null,
   "metadata": {
    "colab": {
     "base_uri": "https://localhost:8080/"
    },
    "id": "IUel11Tc-oLB",
    "outputId": "7a479a2f-9da8-4b15-c420-56e41fd749da"
   },
   "outputs": [],
   "source": [
    "action = OpenSpielAction(action_id = 1, game_name = \"2048\")\n",
    "result = openenv_process.step(action)\n",
    "current_state = result.observation\n",
    "print(render_board(current_state))"
   ]
  },
  {
   "cell_type": "markdown",
   "metadata": {
    "id": "nUlOshVe-qNL"
   },
   "source": [
    "`1` is a move right action. And `2`:"
   ]
  },
  {
   "cell_type": "code",
   "execution_count": null,
   "metadata": {
    "colab": {
     "base_uri": "https://localhost:8080/"
    },
    "id": "XU09-KA3-sqs",
    "outputId": "d6a32134-9baf-4273-d67f-021fc95c13e6"
   },
   "outputs": [],
   "source": [
    "action = OpenSpielAction(action_id = 2, game_name = \"2048\")\n",
    "result = openenv_process.step(action)\n",
    "current_state = result.observation\n",
    "print(render_board(current_state))"
   ]
  },
  {
   "cell_type": "markdown",
   "metadata": {
    "id": "X2r7Zqw9-u-d"
   },
   "source": [
    "`2` is a move down. And I guess `3` is just move left!"
   ]
  },
  {
   "cell_type": "code",
   "execution_count": null,
   "metadata": {
    "colab": {
     "base_uri": "https://localhost:8080/"
    },
    "id": "pFgspqn6-zd2",
    "outputId": "acb3e823-28dc-4b50-fd53-aaaf119acdce"
   },
   "outputs": [],
   "source": [
    "action = OpenSpielAction(action_id = 3, game_name = \"2048\")\n",
    "result = openenv_process.step(action)\n",
    "current_state = result.observation\n",
    "print(render_board(current_state))"
   ]
  },
  {
   "cell_type": "markdown",
   "metadata": {
    "id": "RJP4TsDq-2ft"
   },
   "source": [
    "We can also print the game status which indicates if no more moves are possible, and also the possible actions you can take!"
   ]
  },
  {
   "cell_type": "code",
   "execution_count": null,
   "metadata": {
    "colab": {
     "base_uri": "https://localhost:8080/"
    },
    "id": "MEa2ngmrvfNm",
    "outputId": "84ab9972-f45c-4254-c6c3-8d33127c582a"
   },
   "outputs": [],
   "source": [
    "print(current_state.done)\n",
    "print(current_state.legal_actions)"
   ]
  },
  {
   "cell_type": "markdown",
   "metadata": {
    "id": "VR6czU96cpxf"
   },
   "source": [
    "# RL Environment Setup\n",
    "\n",
    "We'll set up a function to accept some strategy that'll emit an action within `0123` and check the game state.\n",
    "\n",
    "We'll also add a timer to only execute the stratgegy for 2 seconds maximum, otherwise it might never terminate!"
   ]
  },
  {
   "cell_type": "code",
   "execution_count": null,
   "metadata": {
    "id": "tdgjnf-8z_kr"
   },
   "outputs": [],
   "source": [
    "from typing import Callable\n",
    "from unsloth import execute_with_time_limit\n",
    "import itertools\n",
    "\n",
    "def _execute_strategy(strategy, current_state : OpenSpielObservation):\n",
    "    assert callable(strategy)\n",
    "\n",
    "    steps = 0\n",
    "    total_reward = 0\n",
    "    while not current_state.done:\n",
    "        board, size = convert_to_board(current_state)\n",
    "        action = strategy(board)\n",
    "        try:\n",
    "            action = int(action)\n",
    "        except:\n",
    "            return steps, False\n",
    "        steps += 1\n",
    "        if type(action) is not int or action not in current_state.legal_actions:\n",
    "            return steps, max(itertools.chain.from_iterable(board)) == 2048\n",
    "        action = OpenSpielAction(action_id = action, game_name = \"2048\")\n",
    "        result = openenv_process.step(action)\n",
    "        current_state = result.observation\n",
    "        if result.reward is not None:\n",
    "            total_reward += result.reward\n",
    "    return steps, max(itertools.chain.from_iterable(board)) == 2048\n",
    "\n",
    "@execute_with_time_limit(2)\n",
    "def execute_strategy(strategy : Callable, current_state : OpenSpielObservation):\n",
    "    return _execute_strategy(strategy, current_state)"
   ]
  },
  {
   "cell_type": "markdown",
   "metadata": {
    "id": "ywh0HizI9ayE"
   },
   "source": [
    "Let's make a generic strategy to just hit `3`. We should expect this generic strategy to fail:"
   ]
  },
  {
   "cell_type": "code",
   "execution_count": null,
   "metadata": {
    "colab": {
     "base_uri": "https://localhost:8080/"
    },
    "id": "5bkhqoZc0IO8",
    "outputId": "21db7079-aa23-4941-8681-0d04a1dd4733"
   },
   "outputs": [],
   "source": [
    "def always_move_left(board):\n",
    "    return 3\n",
    "\n",
    "# Reset OpenEnv to an initial state!\n",
    "result = openenv_process.reset()\n",
    "current_state = result.observation\n",
    "try:\n",
    "    steps, if_done = execute_strategy(always_move_left, current_state)\n",
    "except TimeoutError as e:\n",
    "    print(f\"Timed out with error = {str(e)}\")\n",
    "\n",
    "steps, if_done"
   ]
  },
  {
   "cell_type": "markdown",
   "metadata": {
    "id": "dkuHVdB09sgf"
   },
   "source": [
    "To allow longer strategies for GPT-OSS Reinforcement Learning, we shall allow a 5 second timer."
   ]
  },
  {
   "cell_type": "code",
   "execution_count": null,
   "metadata": {
    "id": "SK-LfzsA9wbW"
   },
   "outputs": [],
   "source": [
    "@execute_with_time_limit(5)\n",
    "def execute_strategy(strategy : Callable, current_state : OpenSpielObservation):\n",
    "    return _execute_strategy(strategy, current_state)"
   ]
  },
  {
   "cell_type": "markdown",
   "metadata": {
    "id": "tRhLV_bZMYxy"
   },
   "source": [
    "# Code Execution\n",
    "\n",
    "To execute and create a new Python function, we first have to check if the function does not call other global variables or cheat. This is called `countering reward hacking` since we don't want the function to cheat.\n",
    "\n",
    "For example the below piece of code is fine, since it only imports Python level functions. We use `check_python_modules`:"
   ]
  },
  {
   "cell_type": "code",
   "execution_count": null,
   "metadata": {
    "colab": {
     "base_uri": "https://localhost:8080/"
    },
    "id": "zz80kvg6M4BG",
    "outputId": "fa0dad0c-c437-4467-a37f-94e3cf0b3af7"
   },
   "outputs": [],
   "source": [
    "from unsloth import check_python_modules\n",
    "\n",
    "sample = \"\"\"\n",
    "def strategy(board):\n",
    "    import math\n",
    "    from typing import Callable\n",
    "    return \"0\"\n",
    "\"\"\"\n",
    "ok, info = check_python_modules(sample)\n",
    "print(\"Only Python imports?\", ok)\n",
    "print(info)"
   ]
  },
  {
   "cell_type": "markdown",
   "metadata": {
    "id": "bZzVWgKQ-VIg"
   },
   "source": [
    "For the below piece of code, since we import `numpy`, we should not allow the execution:"
   ]
  },
  {
   "cell_type": "code",
   "execution_count": null,
   "metadata": {
    "colab": {
     "base_uri": "https://localhost:8080/"
    },
    "id": "Z89Jw1KB-Ux7",
    "outputId": "7aa02cbc-e88d-48ee-ba34-88389ca40ddc"
   },
   "outputs": [],
   "source": [
    "sample = \"\"\"\n",
    "def strategy(board):\n",
    "    from numpy import matmul\n",
    "    return \"0\"\n",
    "\"\"\"\n",
    "ok, info = check_python_modules(sample)\n",
    "print(\"Only Python imports?\", ok)\n",
    "print(info)"
   ]
  },
  {
   "cell_type": "markdown",
   "metadata": {
    "id": "SDSrjOTLVyQm"
   },
   "source": [
    "We also disallow global variable access. We'll use Unsloth's `create_locked_down_function` function\n"
   ]
  },
  {
   "cell_type": "code",
   "execution_count": null,
   "metadata": {
    "colab": {
     "base_uri": "https://localhost:8080/"
    },
    "id": "GcmYAmohVqw2",
    "outputId": "e44c4c97-907b-4341-aac5-acbf9f5293a3"
   },
   "outputs": [],
   "source": [
    "from unsloth import create_locked_down_function\n",
    "function = \"\"\"\n",
    "def import_numpy():\n",
    "    np.matmul\n",
    "    print(\"Success\")\n",
    "\"\"\"\n",
    "f = create_locked_down_function(function)\n",
    "try:\n",
    "    f()\n",
    "except Exception as e:\n",
    "    print(str(e))"
   ]
  },
  {
   "cell_type": "code",
   "execution_count": null,
   "metadata": {
    "colab": {
     "base_uri": "https://localhost:8080/"
    },
    "id": "5tJKwLUgZsRq",
    "outputId": "9bcc77a2-189a-44de-ca73-a6748702662d"
   },
   "outputs": [],
   "source": [
    "from unsloth import create_locked_down_function\n",
    "function = \"\"\"\n",
    "def add(a, b):\n",
    "    def adder(a):\n",
    "        return a + b\n",
    "    return adder(b) + b\n",
    "\"\"\"\n",
    "f = create_locked_down_function(function)\n",
    "try:\n",
    "    print(f(10, 20))\n",
    "except Exception as e:\n",
    "    print(str(e))"
   ]
  },
  {
   "cell_type": "markdown",
   "metadata": {
    "id": "8CzwCyXIPK04"
   },
   "source": [
    "# Data & RL task setup\n",
    "\n",
    "We now have to create a prompt to tell the model to create a strategy for the 2048 game. You can customize this to some other task for another RL task."
   ]
  },
  {
   "cell_type": "code",
   "execution_count": null,
   "metadata": {
    "colab": {
     "base_uri": "https://localhost:8080/"
    },
    "id": "B-2RRE4HMrQO",
    "outputId": "85ba145a-da74-4df5-e295-bde14f8963ef"
   },
   "outputs": [],
   "source": [
    "prompt = \"\"\"\n",
    "Create a new short 2048 strategy using only native Python code.\n",
    "You are given a list of list of numbers for the current board state.\n",
    "Output one action for \"0\", \"1\", \"2\", \"3\" on what is the optimal next step.\n",
    "Output your new short function in backticks using the format below:\n",
    "```python\n",
    "def strategy(board):\n",
    "    return \"0\" # Example\n",
    "```\n",
    "All helper functions should be inside def strategy. Only output the short function `strategy`.\n",
    "\"\"\".strip()\n",
    "print(prompt)"
   ]
  },
  {
   "cell_type": "markdown",
   "metadata": {
    "id": "MIdudFUodN4i"
   },
   "source": [
    "First, let's prompt GPT-OSS without RL and see how it goes:"
   ]
  },
  {
   "cell_type": "code",
   "execution_count": null,
   "metadata": {
    "colab": {
     "base_uri": "https://localhost:8080/"
    },
    "id": "9HJxrS76h3Ds",
    "outputId": "113bfd60-5cdc-4987-915c-9a9936f5a086"
   },
   "outputs": [],
   "source": [
    "# Fix torch compilation cache permissions\n",
    "import os\n",
    "import shutil\n",
    "\n",
    "# Test if /ephemeral is writable (not just readable)\n",
    "use_ephemeral = False\n",
    "if os.path.exists(\"/ephemeral\"):\n",
    "    try:\n",
    "        test_file = \"/ephemeral/.write_test\"\n",
    "        with open(test_file, \"w\") as f:\n",
    "            f.write(\"test\")\n",
    "        os.remove(test_file)\n",
    "        use_ephemeral = True\n",
    "    except (PermissionError, OSError):\n",
    "        pass\n",
    "\n",
    "if use_ephemeral:\n",
    "    cache_dir = \"/ephemeral/torch_cache\"\n",
    "    triton_cache = \"/ephemeral/triton_cache\"\n",
    "    tmpdir = \"/ephemeral/tmp\"\n",
    "else:\n",
    "    cache_dir = os.path.expanduser(\"~/.cache/torch/inductor\")\n",
    "    triton_cache = os.path.expanduser(\"~/.cache/triton\")\n",
    "    tmpdir = os.path.expanduser(\"~/.cache/tmp\")\n",
    "\n",
    "# Create directories with full write permissions\n",
    "for d in [cache_dir, triton_cache, tmpdir]:\n",
    "    os.makedirs(d, mode=0o777, exist_ok=True)\n",
    "\n",
    "# Set ALL PyTorch/Triton cache and temp directories\n",
    "os.environ[\"TORCHINDUCTOR_CACHE_DIR\"] = cache_dir\n",
    "os.environ[\"TORCH_COMPILE_DIR\"] = cache_dir\n",
    "os.environ[\"TRITON_CACHE_DIR\"] = triton_cache\n",
    "os.environ[\"TMPDIR\"] = tmpdir  # Override system /tmp\n",
    "os.environ[\"TEMP\"] = tmpdir\n",
    "os.environ[\"TMP\"] = tmpdir\n",
    "\n",
    "# Clean up any old compiled caches\n",
    "old_cache = os.path.join(os.getcwd(), \"unsloth_compiled_cache\")\n",
    "if os.path.exists(old_cache):\n",
    "    shutil.rmtree(old_cache, ignore_errors=True)\n",
    "\n",
    "print(f\"✅ Torch cache: {cache_dir}\")\n",
    "print(f\"✅ Temp dir: {tmpdir}\")\n",
    "\n",
    "text = tokenizer.apply_chat_template(\n",
    "    [{\"role\": \"user\", \"content\": prompt}],\n",
    "    tokenize = False,\n",
    "    add_generation_prompt = True,\n",
    "    reasoning_effort = \"low\",\n",
    ")\n",
    "\n",
    "from transformers import TextStreamer\n",
    "_ = model.generate(\n",
    "    **tokenizer(text, return_tensors = \"pt\").to(\"cuda\"),\n",
    "    temperature = 1.0,\n",
    "    max_new_tokens = 512,\n",
    "    streamer = TextStreamer(tokenizer, skip_prompt = False),\n",
    ")"
   ]
  },
  {
   "cell_type": "markdown",
   "metadata": {
    "id": "iknaWZNudTNq"
   },
   "source": [
    "# Reward functions\n",
    "\n",
    "We now design a `extract_function` function which simply extracts the function wrapped in 3 back ticks.\n",
    "\n",
    "And 3 reward functions:\n",
    "\n",
    "1. `function_works` which rewards the model if the strategy is a valid Python function.\n",
    "2. `no_cheating` which checks if the function imported other modules, and if it did, we penalize it.\n",
    "3. `strategy_succeeds` which checks if the game strategy actually succeeds in attaining 2048 after running the auto-generated strategy."
   ]
  },
  {
   "cell_type": "code",
   "execution_count": null,
   "metadata": {
    "colab": {
     "base_uri": "https://localhost:8080/"
    },
    "id": "8JJGXKdJ-Zl_",
    "outputId": "fbb9c64d-a796-4bb0-e7f5-d67079a7eefa"
   },
   "outputs": [],
   "source": [
    "def extract_function(text):\n",
    "    if text.count(\"```\") >= 2:\n",
    "        first = text.find(\"```\") + 3\n",
    "        second = text.find(\"```\", first)\n",
    "        fx = text[first : second].strip()\n",
    "        fx = fx.removeprefix(\"python\\n\")\n",
    "        fx = fx[fx.find(\"def\"):]\n",
    "        if fx.startswith(\"def strategy(board):\"): return fx\n",
    "    return None\n",
    "print(extract_function(prompt))"
   ]
  },
  {
   "cell_type": "markdown",
   "metadata": {
    "id": "KLXEcf_HSJlI"
   },
   "source": [
    "Below is our `function_works` reward function which uses Python's `exec` but guarded by not allowing leakage of local and global variables. We can also use `check_python_modules` first to check if there are errors before even executing the function:"
   ]
  },
  {
   "cell_type": "code",
   "execution_count": null,
   "metadata": {
    "colab": {
     "base_uri": "https://localhost:8080/"
    },
    "id": "h3-B0IIsS56S",
    "outputId": "27058986-3083-4608-a163-264dbaa01d3e"
   },
   "outputs": [],
   "source": [
    "ok, info = check_python_modules(\"def a\")\n",
    "ok, info"
   ]
  },
  {
   "cell_type": "code",
   "execution_count": null,
   "metadata": {
    "id": "qgFNXORy-lpO"
   },
   "outputs": [],
   "source": [
    "def function_works(completions, **kwargs):\n",
    "    scores = []\n",
    "    for completion in completions:\n",
    "        score = 0\n",
    "        response = completion[0][\"content\"]\n",
    "        function = extract_function(response)\n",
    "        if function is not None:\n",
    "            ok, info = check_python_modules(function)\n",
    "        if function is None or \"error\" in info:\n",
    "            score = -2.0\n",
    "        else:\n",
    "            try:\n",
    "                new_strategy = create_locked_down_function(function)\n",
    "                score = 1.0\n",
    "            except:\n",
    "                score = -0.5\n",
    "        scores.append(score)\n",
    "    return scores"
   ]
  },
  {
   "cell_type": "markdown",
   "metadata": {
    "id": "Gf69i2WT-m4K"
   },
   "source": [
    "`no_cheating` checks if the function cheated since it might have imported Numpy or other functions:"
   ]
  },
  {
   "cell_type": "code",
   "execution_count": null,
   "metadata": {
    "id": "cUfHzCVx-nGK"
   },
   "outputs": [],
   "source": [
    "def no_cheating(completions, **kwargs):\n",
    "    scores = []\n",
    "    for completion in completions:\n",
    "        score = 0\n",
    "        response = completion[0][\"content\"]\n",
    "        function = extract_function(response)\n",
    "        if function is not None:\n",
    "            ok, info = check_python_modules(function)\n",
    "            scores.append(1.0 if ok else -20.0) # Penalize heavily!\n",
    "        else:\n",
    "            scores.append(-1.0) # Failed creating function\n",
    "    return scores"
   ]
  },
  {
   "cell_type": "markdown",
   "metadata": {
    "id": "slnqWG3FTror"
   },
   "source": [
    "Next `strategy_succeeds` checks if the strategy actually allows the game to terminate. Imagine if the strategy simply returned \"0\" which would fail after a time limit of 10 seconds.\n",
    "\n",
    "We also add a global `PRINTER` to print out the strategy and board state."
   ]
  },
  {
   "cell_type": "code",
   "execution_count": null,
   "metadata": {
    "id": "sNi129lYTpZ2"
   },
   "outputs": [],
   "source": [
    "import numpy as np\n",
    "global PRINTER\n",
    "PRINTER = 0\n",
    "def strategy_succeeds(completions, **kwargs):\n",
    "    global PRINTER\n",
    "    scores = []\n",
    "    for completion in completions:\n",
    "        printed = False\n",
    "        score = 0\n",
    "        response = completion[0][\"content\"]\n",
    "        function = extract_function(response)\n",
    "        if PRINTER % 5 == 0:\n",
    "            printed = True\n",
    "            print(function)\n",
    "        PRINTER += 1\n",
    "        if function is not None:\n",
    "            ok, info = check_python_modules(function)\n",
    "        if function is None or \"error\" in info:\n",
    "            scores.append(0)\n",
    "            continue\n",
    "        try:\n",
    "            new_strategy = create_locked_down_function(function)\n",
    "        except:\n",
    "            scores.append(0)\n",
    "            continue\n",
    "        try:\n",
    "            # Reset OpenEnv to an initial state!\n",
    "            result = openenv_process.reset()\n",
    "            current_state = result.observation\n",
    "            steps, if_done = execute_strategy(new_strategy, current_state)\n",
    "            print(f\"Steps = {steps} If Done = {if_done}\")\n",
    "            if printed is False:\n",
    "                print(function)\n",
    "            print(render_board(current_state))\n",
    "            if if_done:\n",
    "                scores.append(20.0) # Success - massively reward!\n",
    "            else:\n",
    "                scores.append(2.0) # Failed but function works!\n",
    "        except TimeoutError as e:\n",
    "            print(\"Timeout\")\n",
    "            scores.append(-1.0) # Failed with timeout\n",
    "        except Exception as e:\n",
    "            print(f\"Exception = {str(e)}\")\n",
    "            scores.append(-3.0) # Failed\n",
    "    return scores"
   ]
  },
  {
   "cell_type": "markdown",
   "metadata": {
    "id": "TCpSxtvSeAG_"
   },
   "source": [
    "We'll now create the dataset which includes a replica of our prompt. Remember to add a reasoning effort of low! You can choose high reasoning mode, but this'll only work on more memory GPUs like MI300s."
   ]
  },
  {
   "cell_type": "code",
   "execution_count": null,
   "metadata": {
    "colab": {
     "base_uri": "https://localhost:8080/"
    },
    "id": "Ldf6SjLHVPRv",
    "outputId": "ba73daec-61ff-4dbc-d86a-1271a734732f"
   },
   "outputs": [],
   "source": [
    "from datasets import Dataset\n",
    "dataset = Dataset.from_list([{\"prompt\" : [{\"role\": \"user\", \"content\": prompt.strip()}], \"answer\" : 0, \"reasoning_effort\": \"low\"}]*1000)\n",
    "maximum_length = len(tokenizer.apply_chat_template([{\"role\": \"user\", \"content\": prompt.strip()}], add_generation_prompt = True))\n",
    "print(maximum_length)\n",
    "dataset[0]"
   ]
  },
  {
   "cell_type": "markdown",
   "metadata": {
    "id": "9-IOMhVg-2AM"
   },
   "source": [
    "<a name=\"Train\"></a>\n",
    "### Train the model\n",
    "\n",
    "Now set up GRPO Trainer and all configurations! We also support GSPO, GAPO, Dr GRPO and more! Go the Unsloth [Reinforcement Learning Docs](https://docs.unsloth.ai/get-started/reinforcement-learning-rl-guide) for more options.\n",
    "\n",
    "We're also using [TrackIO](https://github.com/gradio-app/trackio) which allows you to visualize all training metrics straight inside the notebook fully locally!"
   ]
  },
  {
   "cell_type": "code",
   "execution_count": null,
   "metadata": {
    "colab": {
     "base_uri": "https://localhost:8080/"
    },
    "id": "ptqkXK2D4d6p",
    "outputId": "c53e5089-4ae3-4009-9a52-c880fdf23e85"
   },
   "outputs": [],
   "source": [
    "max_prompt_length = maximum_length + 1 # + 1 just in case!\n",
    "max_completion_length = max_seq_length - max_prompt_length\n",
    "\n",
    "from trl import GRPOConfig, GRPOTrainer\n",
    "training_args = GRPOConfig(\n",
    "    temperature = 1.0,\n",
    "    learning_rate = 5e-5,\n",
    "    weight_decay = 0.01,\n",
    "    warmup_ratio = 0.1,\n",
    "    lr_scheduler_type = \"linear\",\n",
    "    optim = \"adamw_8bit\",\n",
    "    logging_steps = 1,\n",
    "    per_device_train_batch_size=2,\n",
    "    gradient_accumulation_steps = 1, # Increase to 4 for smoother training\n",
    "    num_generations = 2, # Decrease if out of memory\n",
    "    max_prompt_length = max_prompt_length,\n",
    "    max_completion_length = max_completion_length,\n",
    "    # num_train_epochs = 1, # Set to 1 for a full training run\n",
    "    max_steps = 600,\n",
    "    save_steps = 100,\n",
    "    report_to = \"trackio\", # Can use Weights & Biases, TrackIO\n",
    "    output_dir=\"/workspace/outputs\",\n",
    "\n",
    "    # For optional training + evaluation\n",
    "    # fp16_full_eval = True,\n",
    "    # per_device_eval_batch_size = 4,\n",
    "    # eval_accumulation_steps = 1,\n",
    "    # eval_strategy = \"steps\",\n",
    "    # eval_steps = 1,\n",
    ")"
   ]
  },
  {
   "cell_type": "markdown",
   "metadata": {
    "id": "r9Mv8UZO5hz-"
   },
   "source": [
    "And let's run the trainer! If you scroll up, you'll see a table of rewards. The goal is to see the `reward` column increase!\n",
    "\n",
    "You might have to wait 150 to 200 steps for any action. You'll probably get 0 reward for the first 100 steps. Please be patient!\n",
    "\n",
    "| Step | Training Loss | reward    | reward_std | completion_length | kl       |\n",
    "|------|---------------|-----------|------------|-------------------|----------|\n",
    "| 1    | 0.000000      | 0.125000  | 0.000000   | 200.000000        | 0.000000 |\n",
    "| 2    | 0.000000      | 0.072375  | 0.248112   | 200.000000        | 0.000000 |\n",
    "| 3    | 0.000000      | -0.079000 | 0.163776   | 182.500000        | 0.000005 |\n"
   ]
  },
  {
   "cell_type": "code",
   "execution_count": null,
   "metadata": {
    "id": "vzOuSVCL_GA9"
   },
   "outputs": [],
   "source": [
    "# For optional training + evaluation\n",
    "# new_dataset = dataset.train_test_split(test_size = 0.01)\n",
    "\n",
    "trainer = GRPOTrainer(\n",
    "    model = model,\n",
    "    processing_class = tokenizer,\n",
    "    reward_funcs = [\n",
    "        function_works,\n",
    "        no_cheating,\n",
    "        strategy_succeeds,\n",
    "    ],\n",
    "    args = training_args,\n",
    "    train_dataset = dataset,\n",
    "\n",
    "    # For optional training + evaluation\n",
    "    # train_dataset = new_dataset[\"train\"],\n",
    "    # eval_dataset = new_dataset[\"test\"],\n",
    ")"
   ]
  },
  {
   "cell_type": "markdown",
   "metadata": {
    "id": "fQhtuwP4cf34"
   },
   "source": [
    "And let's train the model! **NOTE** This might be quite slow! 600 steps takes ~5 hours or longer.\n",
    "\n",
    "[TrackIO](https://github.com/gradio-app/trackio) might be a bit slow to load - wait 2 minutes until the graphs pop up!"
   ]
  },
  {
   "cell_type": "code",
   "execution_count": null,
   "metadata": {
    "colab": {
     "base_uri": "https://localhost:8080/",
     "height": 1000
    },
    "id": "VGRxPdSCcfC3",
    "outputId": "17b55a1a-0dc7-4687-98ff-5f84b382c6a0"
   },
   "outputs": [],
   "source": [
    "trainer.train()"
   ]
  },
  {
   "cell_type": "markdown",
   "metadata": {
    "id": "tlaUdxC_VHpz"
   },
   "source": [
    "<a name=\"Inference\"></a>\n",
    "# Inference\n",
    "Now let's try the model we just trained!"
   ]
  },
  {
   "cell_type": "code",
   "execution_count": null,
   "metadata": {
    "id": "TwZygRdWf8ab"
   },
   "outputs": [],
   "source": [
    "# Fix torch compilation cache permissions\n",
    "import os\n",
    "import shutil\n",
    "\n",
    "# Test if /ephemeral is writable (not just readable)\n",
    "use_ephemeral = False\n",
    "if os.path.exists(\"/ephemeral\"):\n",
    "    try:\n",
    "        test_file = \"/ephemeral/.write_test\"\n",
    "        with open(test_file, \"w\") as f:\n",
    "            f.write(\"test\")\n",
    "        os.remove(test_file)\n",
    "        use_ephemeral = True\n",
    "    except (PermissionError, OSError):\n",
    "        pass\n",
    "\n",
    "if use_ephemeral:\n",
    "    cache_dir = \"/ephemeral/torch_cache\"\n",
    "    triton_cache = \"/ephemeral/triton_cache\"\n",
    "    tmpdir = \"/ephemeral/tmp\"\n",
    "else:\n",
    "    cache_dir = os.path.expanduser(\"~/.cache/torch/inductor\")\n",
    "    triton_cache = os.path.expanduser(\"~/.cache/triton\")\n",
    "    tmpdir = os.path.expanduser(\"~/.cache/tmp\")\n",
    "\n",
    "# Create directories with full write permissions\n",
    "for d in [cache_dir, triton_cache, tmpdir]:\n",
    "    os.makedirs(d, mode=0o777, exist_ok=True)\n",
    "\n",
    "# Set ALL PyTorch/Triton cache and temp directories\n",
    "os.environ[\"TORCHINDUCTOR_CACHE_DIR\"] = cache_dir\n",
    "os.environ[\"TORCH_COMPILE_DIR\"] = cache_dir\n",
    "os.environ[\"TRITON_CACHE_DIR\"] = triton_cache\n",
    "os.environ[\"TMPDIR\"] = tmpdir  # Override system /tmp\n",
    "os.environ[\"TEMP\"] = tmpdir\n",
    "os.environ[\"TMP\"] = tmpdir\n",
    "\n",
    "# Clean up any old compiled caches\n",
    "old_cache = os.path.join(os.getcwd(), \"unsloth_compiled_cache\")\n",
    "if os.path.exists(old_cache):\n",
    "    shutil.rmtree(old_cache, ignore_errors=True)\n",
    "\n",
    "print(f\"✅ Torch cache: {cache_dir}\")\n",
    "print(f\"✅ Temp dir: {tmpdir}\")\n",
    "\n",
    "text = tokenizer.apply_chat_template(\n",
    "    [{\"role\": \"user\", \"content\": prompt}],\n",
    "    tokenize = False,\n",
    "    add_generation_prompt = True,\n",
    "    reasoning_effort = \"low\",\n",
    ")\n",
    "\n",
    "from transformers import TextStreamer\n",
    "_ = model.generate(\n",
    "    **tokenizer(text, return_tensors = \"pt\").to(\"cuda\"),\n",
    "    temperature = 1.0,\n",
    "    max_new_tokens = 1024,\n",
    "    streamer = TextStreamer(tokenizer, skip_prompt = False),\n",
    ")"
   ]
  },
  {
   "cell_type": "markdown",
   "metadata": {
    "id": "-NUEmHFSYNTp"
   },
   "source": [
    "<a name=\"Save\"></a>\n",
    "### Saving to float16 or `MXFP4`\n",
    "\n",
    "We also support saving to `float16` directly. Select `merged_16bit` for float16 or `mxfp4` for MXFP4 (OpenAI's GPT-OSS native precision). We also allow `lora` adapters as a fallback. Use `push_to_hub_merged` to upload to your Hugging Face account! You can go to https://huggingface.co/settings/tokens for your personal tokens."
   ]
  },
  {
   "cell_type": "code",
   "execution_count": null,
   "metadata": {
    "id": "NjXGTkp7YNtB"
   },
   "outputs": [],
   "source": [
    "# Merge and push to hub in mxfp4 4bit format\n",
    "if False:\n",
    "    model.save_pretrained_merged(\"finetuned_model\", tokenizer, save_method = \"mxfp4\")\n",
    "if False:\n",
    "    model.push_to_hub_merged(\"repo_id/repo_name\", tokenizer, token = \"hf...\", save_method = \"mxfp4\")\n",
    "\n",
    "# Merge and push to hub in 16bit\n",
    "if False:\n",
    "    model.save_pretrained_merged(\"finetuned_model\", tokenizer, save_method = \"merged_16bit\")\n",
    "if False: # Pushing to HF Hub\n",
    "    model.push_to_hub_merged(\"hf/gpt-oss-finetune\", tokenizer, save_method = \"merged_16bit\", token = \"\")"
   ]
  },
  {
   "cell_type": "markdown",
   "metadata": {
    "id": "V15Yhj1V9lwG"
   },
   "source": [
    "# And we're done!\n",
    "Congratulations you just learned how to do reinforcement learning with GPT-OSS! There were some advanced topics explained in this notebook - to learn more about GPT-OSS and RL, there are more docs in Unsloth's [Reinforcement Learning Guide with GPT-OSS](https://docs.unsloth.ai/new/gpt-oss-reinforcement-learning)\n",
    "\n",
    "This notebook and all Unsloth notebooks are licensed [LGPL-3.0](https://github.com/unslothai/notebooks?tab=LGPL-3.0-1-ov-file#readme)."
   ]
  }
 ],
 "metadata": {
  "accelerator": "GPU",
  "colab": {
   "gpuType": "T4",
   "include_colab_link": true,
   "provenance": []
  },
  "kernelspec": {
   "display_name": "Python 3",
   "name": "python3"
  },
  "language_info": {
   "name": "python"
  }
 },
 "nbformat": 4,
 "nbformat_minor": 0
}
